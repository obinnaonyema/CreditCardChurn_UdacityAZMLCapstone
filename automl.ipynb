{
 "cells": [
  {
   "cell_type": "markdown",
   "metadata": {},
   "source": [
    "# Automated ML\n",
    "\n"
   ]
  },
  {
   "cell_type": "code",
   "execution_count": 1,
   "metadata": {
    "gather": {
     "logged": 1614456965016
    },
    "jupyter": {
     "outputs_hidden": false,
     "source_hidden": false
    },
    "nteract": {
     "transient": {
      "deleting": false
     }
    }
   },
   "outputs": [],
   "source": [
    "from azureml.core import Workspace, Experiment\n",
    "from azureml.core import Model \n",
    "from azureml.train.automl import AutoMLConfig\n",
    "from azureml.widgets import RunDetails\n",
    "from azureml.core.compute import ComputeTarget, AmlCompute\n",
    "from pprint import pprint \n",
    "import joblib\n",
    "import os"
   ]
  },
  {
   "cell_type": "markdown",
   "metadata": {},
   "source": [
    "## Dataset\n",
    "\n",
    "### Overview\n",
    "In this project, I attempt to build a model that will help a bank manager predict customers that are likely to churn. The manager's intention is to proactively engage these customers with a view to preventing churn.\n",
    "\n",
    "The data set contains details of credit card customers of a bank. There are 22 columns and 10000 rows. The last 2 columns were advised to be discarded by the data set provider which I have done in this project."
   ]
  },
  {
   "cell_type": "code",
   "execution_count": 2,
   "metadata": {
    "gather": {
     "logged": 1614456971366
    },
    "jupyter": {
     "outputs_hidden": false,
     "source_hidden": false
    },
    "nteract": {
     "transient": {
      "deleting": false
     }
    }
   },
   "outputs": [],
   "source": [
    "ws = Workspace.from_config()\n",
    "\n",
    "# choose a name for experiment\n",
    "experiment_name = 'credit_card_churn'\n",
    "\n",
    "experiment=Experiment(ws, experiment_name)"
   ]
  },
  {
   "cell_type": "code",
   "execution_count": 3,
   "metadata": {
    "gather": {
     "logged": 1614456983669
    },
    "jupyter": {
     "outputs_hidden": false,
     "source_hidden": false
    },
    "nteract": {
     "transient": {
      "deleting": false
     }
    }
   },
   "outputs": [],
   "source": [
    "#I'm fetching the data from my github repo\n",
    "from azureml.data.dataset_factory import TabularDatasetFactory\n",
    "\n",
    "cc_data = \"https://raw.githubusercontent.com/obinnaonyema/CreditCardChurn_UdacityAZMLCapstone/main/BankChurners.csv\"\n",
    "cc_cust = TabularDatasetFactory.from_delimited_files(path=cc_data, separator=',')\n",
    "columns_not_needed = ['Naive_Bayes_Classifier_Attrition_Flag_Card_Category_Contacts_Count_12_mon_Dependent_count_Education_Level_Months_Inactive_12_mon_1','Naive_Bayes_Classifier_Attrition_Flag_Card_Category_Contacts_Count_12_mon_Dependent_count_Education_Level_Months_Inactive_12_mon_2','CLIENTNUM']\n",
    "cc_final = cc_cust.drop_columns(columns_not_needed)\n"
   ]
  },
  {
   "cell_type": "code",
   "execution_count": 4,
   "metadata": {
    "gather": {
     "logged": 1614457144496
    },
    "jupyter": {
     "outputs_hidden": false,
     "source_hidden": false
    },
    "nteract": {
     "transient": {
      "deleting": false
     }
    }
   },
   "outputs": [
    {
     "name": "stdout",
     "output_type": "stream",
     "text": [
      "Creating\n",
      "Succeeded.......................\n",
      "AmlCompute wait for completion finished\n",
      "\n",
      "Minimum number of nodes requested have been provisioned\n"
     ]
    }
   ],
   "source": [
    "#set up compute cluster\n",
    "cluster_name = \"compute-obi-3\"\n",
    "try:\n",
    "    cluster = ComputeTarget(ws, cluster_name)\n",
    "    print(f\"{ccname} exists or is in use!, choose a different name\")\n",
    "except:\n",
    "    cluster_config = AmlCompute.provisioning_configuration(vm_size=\"Standard_D4_V2\", min_nodes=1, max_nodes=5)\n",
    "    cluster = ComputeTarget.create(ws, cluster_name, cluster_config)\n",
    "cluster.wait_for_completion(show_output=True)"
   ]
  },
  {
   "cell_type": "markdown",
   "metadata": {},
   "source": [
    "## AutoML Configuration\n",
    "\n",
    "Timeout value is set to 60 minutes so that the project doesn't run for too long. Similarly, we set the porject to complete  a maximum 100 iterations with maximum concurrent iterations set to 5.Primary metric is accuracy"
   ]
  },
  {
   "cell_type": "code",
   "execution_count": 5,
   "metadata": {
    "gather": {
     "logged": 1614471302667
    },
    "jupyter": {
     "outputs_hidden": false,
     "source_hidden": false
    },
    "nteract": {
     "transient": {
      "deleting": false
     }
    }
   },
   "outputs": [],
   "source": [
    "automl_settings = {\n",
    "    \"experiment_timeout_minutes\": 60,\n",
    "    \"max_concurrent_iterations\": 5,\n",
    "    \"experiment_exit_score\": 0.963,\n",
    "    \"iterations\":100,\n",
    "    \"primary_metric\" : 'accuracy'\n",
    "}\n",
    "\n",
    "\n",
    "#auto ml config\n",
    "automl_config = AutoMLConfig(\n",
    "        task='classification',\n",
    "        compute_target=cluster,\n",
    "        training_data=cc_final,\n",
    "        label_column_name='Attrition_Flag',\n",
    "        n_cross_validations=5,\n",
    "        **automl_settings    \n",
    ")"
   ]
  },
  {
   "cell_type": "code",
   "execution_count": 6,
   "metadata": {
    "gather": {
     "logged": 1614471310084
    },
    "jupyter": {
     "outputs_hidden": false,
     "source_hidden": false
    },
    "nteract": {
     "transient": {
      "deleting": false
     }
    }
   },
   "outputs": [
    {
     "name": "stdout",
     "output_type": "stream",
     "text": [
      "Running on remote.\n"
     ]
    }
   ],
   "source": [
    "#submit experiment\n",
    "remote_run = experiment.submit(automl_config)"
   ]
  },
  {
   "cell_type": "markdown",
   "metadata": {},
   "source": [
    "## Run Details\n",
    "\n",
    "OPTIONAL: Write about the different models trained and their performance. Why do you think some models did better than others?\n",
    "\n",
    "TODO: In the cell below, use the `RunDetails` widget to show the different experiments."
   ]
  },
  {
   "cell_type": "code",
   "execution_count": 7,
   "metadata": {
    "gather": {
     "logged": 1614463723996
    },
    "jupyter": {
     "outputs_hidden": false,
     "source_hidden": false
    },
    "nteract": {
     "transient": {
      "deleting": false
     }
    }
   },
   "outputs": [
    {
     "data": {
      "application/vnd.jupyter.widget-view+json": {
       "model_id": "cb7356d1be594f0088cc5d571e42c234",
       "version_major": 2,
       "version_minor": 0
      },
      "text/plain": [
       "_AutoMLWidget(widget_settings={'childWidgetDisplay': 'popup', 'send_telemetry': False, 'log_level': 'INFO', 's…"
      ]
     },
     "metadata": {},
     "output_type": "display_data"
    },
    {
     "data": {
      "application/aml.mini.widget.v1": "{\"status\": \"Completed\", \"workbench_run_details_uri\": \"https://ml.azure.com/experiments/credit_card_churn/runs/AutoML_2e6c69b0-1fa0-4548-823c-38194d3b44b6?wsid=/subscriptions/b968fb36-f06a-4c76-a15f-afab68ae7667/resourcegroups/aml-quickstarts-139822/workspaces/quick-starts-ws-139822\", \"run_id\": \"AutoML_2e6c69b0-1fa0-4548-823c-38194d3b44b6\", \"run_properties\": {\"run_id\": \"AutoML_2e6c69b0-1fa0-4548-823c-38194d3b44b6\", \"created_utc\": \"2021-03-04T21:43:58.14283Z\", \"properties\": {\"num_iterations\": \"100\", \"training_type\": \"TrainFull\", \"acquisition_function\": \"EI\", \"primary_metric\": \"accuracy\", \"train_split\": \"0\", \"acquisition_parameter\": \"0\", \"num_cross_validation\": \"5\", \"target\": \"compute-obi-3\", \"AMLSettingsJsonString\": \"{\\\"path\\\":null,\\\"name\\\":\\\"credit_card_churn\\\",\\\"subscription_id\\\":\\\"b968fb36-f06a-4c76-a15f-afab68ae7667\\\",\\\"resource_group\\\":\\\"aml-quickstarts-139822\\\",\\\"workspace_name\\\":\\\"quick-starts-ws-139822\\\",\\\"region\\\":\\\"southcentralus\\\",\\\"compute_target\\\":\\\"compute-obi-3\\\",\\\"spark_service\\\":null,\\\"azure_service\\\":\\\"remote\\\",\\\"many_models\\\":false,\\\"pipeline_fetch_max_batch_size\\\":1,\\\"iterations\\\":100,\\\"primary_metric\\\":\\\"accuracy\\\",\\\"task_type\\\":\\\"classification\\\",\\\"data_script\\\":null,\\\"validation_size\\\":0.0,\\\"n_cross_validations\\\":5,\\\"y_min\\\":null,\\\"y_max\\\":null,\\\"num_classes\\\":null,\\\"featurization\\\":\\\"auto\\\",\\\"_ignore_package_version_incompatibilities\\\":false,\\\"is_timeseries\\\":false,\\\"max_cores_per_iteration\\\":1,\\\"max_concurrent_iterations\\\":5,\\\"iteration_timeout_minutes\\\":null,\\\"mem_in_mb\\\":null,\\\"enforce_time_on_windows\\\":false,\\\"experiment_timeout_minutes\\\":60,\\\"experiment_exit_score\\\":0.963,\\\"whitelist_models\\\":null,\\\"blacklist_algos\\\":[\\\"TensorFlowLinearClassifier\\\",\\\"TensorFlowDNN\\\"],\\\"supported_models\\\":[\\\"SVM\\\",\\\"LinearSVM\\\",\\\"LightGBM\\\",\\\"XGBoostClassifier\\\",\\\"BernoulliNaiveBayes\\\",\\\"AveragedPerceptronClassifier\\\",\\\"ExtremeRandomTrees\\\",\\\"RandomForest\\\",\\\"MultinomialNaiveBayes\\\",\\\"TensorFlowDNN\\\",\\\"SGD\\\",\\\"TensorFlowLinearClassifier\\\",\\\"LogisticRegression\\\",\\\"DecisionTree\\\",\\\"GradientBoosting\\\",\\\"KNN\\\"],\\\"private_models\\\":[],\\\"auto_blacklist\\\":true,\\\"blacklist_samples_reached\\\":false,\\\"exclude_nan_labels\\\":true,\\\"verbosity\\\":20,\\\"_debug_log\\\":\\\"azureml_automl.log\\\",\\\"show_warnings\\\":false,\\\"model_explainability\\\":true,\\\"service_url\\\":null,\\\"sdk_url\\\":null,\\\"sdk_packages\\\":null,\\\"enable_onnx_compatible_models\\\":false,\\\"enable_split_onnx_featurizer_estimator_models\\\":false,\\\"vm_type\\\":\\\"STANDARD_D4_V2\\\",\\\"telemetry_verbosity\\\":20,\\\"send_telemetry\\\":true,\\\"enable_dnn\\\":false,\\\"scenario\\\":\\\"SDK-1.13.0\\\",\\\"environment_label\\\":null,\\\"force_text_dnn\\\":false,\\\"enable_feature_sweeping\\\":true,\\\"enable_early_stopping\\\":false,\\\"early_stopping_n_iters\\\":10,\\\"metrics\\\":null,\\\"enable_ensembling\\\":true,\\\"enable_stack_ensembling\\\":true,\\\"ensemble_iterations\\\":15,\\\"enable_tf\\\":false,\\\"enable_subsampling\\\":false,\\\"subsample_seed\\\":null,\\\"enable_nimbusml\\\":false,\\\"enable_streaming\\\":false,\\\"force_streaming\\\":false,\\\"track_child_runs\\\":true,\\\"allowed_private_models\\\":[],\\\"label_column_name\\\":\\\"Attrition_Flag\\\",\\\"weight_column_name\\\":null,\\\"cv_split_column_names\\\":null,\\\"enable_local_managed\\\":false,\\\"_local_managed_run_id\\\":null,\\\"cost_mode\\\":1,\\\"lag_length\\\":0,\\\"metric_operation\\\":\\\"maximize\\\",\\\"preprocess\\\":true}\", \"DataPrepJsonString\": \"{\\\\\\\"training_data\\\\\\\": \\\\\\\"{\\\\\\\\\\\\\\\"blocks\\\\\\\\\\\\\\\": [{\\\\\\\\\\\\\\\"id\\\\\\\\\\\\\\\": \\\\\\\\\\\\\\\"f7b4655c-2dd4-42f0-8441-12fe197c7b3b\\\\\\\\\\\\\\\", \\\\\\\\\\\\\\\"type\\\\\\\\\\\\\\\": \\\\\\\\\\\\\\\"Microsoft.DPrep.GetFilesBlock\\\\\\\\\\\\\\\", \\\\\\\\\\\\\\\"arguments\\\\\\\\\\\\\\\": {\\\\\\\\\\\\\\\"isArchive\\\\\\\\\\\\\\\": false, \\\\\\\\\\\\\\\"path\\\\\\\\\\\\\\\": {\\\\\\\\\\\\\\\"target\\\\\\\\\\\\\\\": 4, \\\\\\\\\\\\\\\"resourceDetails\\\\\\\\\\\\\\\": [{\\\\\\\\\\\\\\\"path\\\\\\\\\\\\\\\": \\\\\\\\\\\\\\\"https://raw.githubusercontent.com/obinnaonyema/CreditCardChurn_UdacityAZMLCapstone/main/BankChurners.csv\\\\\\\\\\\\\\\"}]}}, \\\\\\\\\\\\\\\"localData\\\\\\\\\\\\\\\": {}, \\\\\\\\\\\\\\\"isEnabled\\\\\\\\\\\\\\\": true, \\\\\\\\\\\\\\\"name\\\\\\\\\\\\\\\": null, \\\\\\\\\\\\\\\"annotation\\\\\\\\\\\\\\\": null}, {\\\\\\\\\\\\\\\"id\\\\\\\\\\\\\\\": \\\\\\\\\\\\\\\"4ca729b5-9b0a-403d-bdff-1e0415542d1e\\\\\\\\\\\\\\\", \\\\\\\\\\\\\\\"type\\\\\\\\\\\\\\\": \\\\\\\\\\\\\\\"Microsoft.DPrep.ParseDelimitedBlock\\\\\\\\\\\\\\\", \\\\\\\\\\\\\\\"arguments\\\\\\\\\\\\\\\": {\\\\\\\\\\\\\\\"columnHeadersMode\\\\\\\\\\\\\\\": 3, \\\\\\\\\\\\\\\"fileEncoding\\\\\\\\\\\\\\\": 0, \\\\\\\\\\\\\\\"handleQuotedLineBreaks\\\\\\\\\\\\\\\": false, \\\\\\\\\\\\\\\"preview\\\\\\\\\\\\\\\": false, \\\\\\\\\\\\\\\"separator\\\\\\\\\\\\\\\": \\\\\\\\\\\\\\\",\\\\\\\\\\\\\\\", \\\\\\\\\\\\\\\"skipRows\\\\\\\\\\\\\\\": 0, \\\\\\\\\\\\\\\"skipRowsMode\\\\\\\\\\\\\\\": 0}, \\\\\\\\\\\\\\\"localData\\\\\\\\\\\\\\\": {}, \\\\\\\\\\\\\\\"isEnabled\\\\\\\\\\\\\\\": true, \\\\\\\\\\\\\\\"name\\\\\\\\\\\\\\\": null, \\\\\\\\\\\\\\\"annotation\\\\\\\\\\\\\\\": null}, {\\\\\\\\\\\\\\\"id\\\\\\\\\\\\\\\": \\\\\\\\\\\\\\\"915f21cd-d593-4f40-b5b8-df182c1cf9ee\\\\\\\\\\\\\\\", \\\\\\\\\\\\\\\"type\\\\\\\\\\\\\\\": \\\\\\\\\\\\\\\"Microsoft.DPrep.DropColumnsBlock\\\\\\\\\\\\\\\", \\\\\\\\\\\\\\\"arguments\\\\\\\\\\\\\\\": {\\\\\\\\\\\\\\\"columns\\\\\\\\\\\\\\\": {\\\\\\\\\\\\\\\"type\\\\\\\\\\\\\\\": 0, \\\\\\\\\\\\\\\"details\\\\\\\\\\\\\\\": {\\\\\\\\\\\\\\\"selectedColumns\\\\\\\\\\\\\\\": [\\\\\\\\\\\\\\\"Path\\\\\\\\\\\\\\\"]}}}, \\\\\\\\\\\\\\\"localData\\\\\\\\\\\\\\\": {}, \\\\\\\\\\\\\\\"isEnabled\\\\\\\\\\\\\\\": true, \\\\\\\\\\\\\\\"name\\\\\\\\\\\\\\\": null, \\\\\\\\\\\\\\\"annotation\\\\\\\\\\\\\\\": null}, {\\\\\\\\\\\\\\\"id\\\\\\\\\\\\\\\": \\\\\\\\\\\\\\\"068535c8-d754-40fe-b567-143d4004a5eb\\\\\\\\\\\\\\\", \\\\\\\\\\\\\\\"type\\\\\\\\\\\\\\\": \\\\\\\\\\\\\\\"Microsoft.DPrep.SetColumnTypesBlock\\\\\\\\\\\\\\\", \\\\\\\\\\\\\\\"arguments\\\\\\\\\\\\\\\": {\\\\\\\\\\\\\\\"columnConversion\\\\\\\\\\\\\\\": [{\\\\\\\\\\\\\\\"column\\\\\\\\\\\\\\\": {\\\\\\\\\\\\\\\"type\\\\\\\\\\\\\\\": 2, \\\\\\\\\\\\\\\"details\\\\\\\\\\\\\\\": {\\\\\\\\\\\\\\\"selectedColumn\\\\\\\\\\\\\\\": \\\\\\\\\\\\\\\"CLIENTNUM\\\\\\\\\\\\\\\"}}, \\\\\\\\\\\\\\\"typeProperty\\\\\\\\\\\\\\\": 2}, {\\\\\\\\\\\\\\\"column\\\\\\\\\\\\\\\": {\\\\\\\\\\\\\\\"type\\\\\\\\\\\\\\\": 2, \\\\\\\\\\\\\\\"details\\\\\\\\\\\\\\\": {\\\\\\\\\\\\\\\"selectedColumn\\\\\\\\\\\\\\\": \\\\\\\\\\\\\\\"Attrition_Flag\\\\\\\\\\\\\\\"}}, \\\\\\\\\\\\\\\"typeProperty\\\\\\\\\\\\\\\": 0}, {\\\\\\\\\\\\\\\"column\\\\\\\\\\\\\\\": {\\\\\\\\\\\\\\\"type\\\\\\\\\\\\\\\": 2, \\\\\\\\\\\\\\\"details\\\\\\\\\\\\\\\": {\\\\\\\\\\\\\\\"selectedColumn\\\\\\\\\\\\\\\": \\\\\\\\\\\\\\\"Customer_Age\\\\\\\\\\\\\\\"}}, \\\\\\\\\\\\\\\"typeProperty\\\\\\\\\\\\\\\": 2}, {\\\\\\\\\\\\\\\"column\\\\\\\\\\\\\\\": {\\\\\\\\\\\\\\\"type\\\\\\\\\\\\\\\": 2, \\\\\\\\\\\\\\\"details\\\\\\\\\\\\\\\": {\\\\\\\\\\\\\\\"selectedColumn\\\\\\\\\\\\\\\": \\\\\\\\\\\\\\\"Gender\\\\\\\\\\\\\\\"}}, \\\\\\\\\\\\\\\"typeProperty\\\\\\\\\\\\\\\": 0}, {\\\\\\\\\\\\\\\"column\\\\\\\\\\\\\\\": {\\\\\\\\\\\\\\\"type\\\\\\\\\\\\\\\": 2, \\\\\\\\\\\\\\\"details\\\\\\\\\\\\\\\": {\\\\\\\\\\\\\\\"selectedColumn\\\\\\\\\\\\\\\": \\\\\\\\\\\\\\\"Dependent_count\\\\\\\\\\\\\\\"}}, \\\\\\\\\\\\\\\"typeProperty\\\\\\\\\\\\\\\": 2}, {\\\\\\\\\\\\\\\"column\\\\\\\\\\\\\\\": {\\\\\\\\\\\\\\\"type\\\\\\\\\\\\\\\": 2, \\\\\\\\\\\\\\\"details\\\\\\\\\\\\\\\": {\\\\\\\\\\\\\\\"selectedColumn\\\\\\\\\\\\\\\": \\\\\\\\\\\\\\\"Education_Level\\\\\\\\\\\\\\\"}}, \\\\\\\\\\\\\\\"typeProperty\\\\\\\\\\\\\\\": 0}, {\\\\\\\\\\\\\\\"column\\\\\\\\\\\\\\\": {\\\\\\\\\\\\\\\"type\\\\\\\\\\\\\\\": 2, \\\\\\\\\\\\\\\"details\\\\\\\\\\\\\\\": {\\\\\\\\\\\\\\\"selectedColumn\\\\\\\\\\\\\\\": \\\\\\\\\\\\\\\"Marital_Status\\\\\\\\\\\\\\\"}}, \\\\\\\\\\\\\\\"typeProperty\\\\\\\\\\\\\\\": 0}, {\\\\\\\\\\\\\\\"column\\\\\\\\\\\\\\\": {\\\\\\\\\\\\\\\"type\\\\\\\\\\\\\\\": 2, \\\\\\\\\\\\\\\"details\\\\\\\\\\\\\\\": {\\\\\\\\\\\\\\\"selectedColumn\\\\\\\\\\\\\\\": \\\\\\\\\\\\\\\"Income_Category\\\\\\\\\\\\\\\"}}, \\\\\\\\\\\\\\\"typeProperty\\\\\\\\\\\\\\\": 0}, {\\\\\\\\\\\\\\\"column\\\\\\\\\\\\\\\": {\\\\\\\\\\\\\\\"type\\\\\\\\\\\\\\\": 2, \\\\\\\\\\\\\\\"details\\\\\\\\\\\\\\\": {\\\\\\\\\\\\\\\"selectedColumn\\\\\\\\\\\\\\\": \\\\\\\\\\\\\\\"Card_Category\\\\\\\\\\\\\\\"}}, \\\\\\\\\\\\\\\"typeProperty\\\\\\\\\\\\\\\": 0}, {\\\\\\\\\\\\\\\"column\\\\\\\\\\\\\\\": {\\\\\\\\\\\\\\\"type\\\\\\\\\\\\\\\": 2, \\\\\\\\\\\\\\\"details\\\\\\\\\\\\\\\": {\\\\\\\\\\\\\\\"selectedColumn\\\\\\\\\\\\\\\": \\\\\\\\\\\\\\\"Months_on_book\\\\\\\\\\\\\\\"}}, \\\\\\\\\\\\\\\"typeProperty\\\\\\\\\\\\\\\": 2}, {\\\\\\\\\\\\\\\"column\\\\\\\\\\\\\\\": {\\\\\\\\\\\\\\\"type\\\\\\\\\\\\\\\": 2, \\\\\\\\\\\\\\\"details\\\\\\\\\\\\\\\": {\\\\\\\\\\\\\\\"selectedColumn\\\\\\\\\\\\\\\": \\\\\\\\\\\\\\\"Total_Relationship_Count\\\\\\\\\\\\\\\"}}, \\\\\\\\\\\\\\\"typeProperty\\\\\\\\\\\\\\\": 2}, {\\\\\\\\\\\\\\\"column\\\\\\\\\\\\\\\": {\\\\\\\\\\\\\\\"type\\\\\\\\\\\\\\\": 2, \\\\\\\\\\\\\\\"details\\\\\\\\\\\\\\\": {\\\\\\\\\\\\\\\"selectedColumn\\\\\\\\\\\\\\\": \\\\\\\\\\\\\\\"Months_Inactive_12_mon\\\\\\\\\\\\\\\"}}, \\\\\\\\\\\\\\\"typeProperty\\\\\\\\\\\\\\\": 2}, {\\\\\\\\\\\\\\\"column\\\\\\\\\\\\\\\": {\\\\\\\\\\\\\\\"type\\\\\\\\\\\\\\\": 2, \\\\\\\\\\\\\\\"details\\\\\\\\\\\\\\\": {\\\\\\\\\\\\\\\"selectedColumn\\\\\\\\\\\\\\\": \\\\\\\\\\\\\\\"Contacts_Count_12_mon\\\\\\\\\\\\\\\"}}, \\\\\\\\\\\\\\\"typeProperty\\\\\\\\\\\\\\\": 2}, {\\\\\\\\\\\\\\\"column\\\\\\\\\\\\\\\": {\\\\\\\\\\\\\\\"type\\\\\\\\\\\\\\\": 2, \\\\\\\\\\\\\\\"details\\\\\\\\\\\\\\\": {\\\\\\\\\\\\\\\"selectedColumn\\\\\\\\\\\\\\\": \\\\\\\\\\\\\\\"Credit_Limit\\\\\\\\\\\\\\\"}}, \\\\\\\\\\\\\\\"typeProperty\\\\\\\\\\\\\\\": 3}, {\\\\\\\\\\\\\\\"column\\\\\\\\\\\\\\\": {\\\\\\\\\\\\\\\"type\\\\\\\\\\\\\\\": 2, \\\\\\\\\\\\\\\"details\\\\\\\\\\\\\\\": {\\\\\\\\\\\\\\\"selectedColumn\\\\\\\\\\\\\\\": \\\\\\\\\\\\\\\"Total_Revolving_Bal\\\\\\\\\\\\\\\"}}, \\\\\\\\\\\\\\\"typeProperty\\\\\\\\\\\\\\\": 2}, {\\\\\\\\\\\\\\\"column\\\\\\\\\\\\\\\": {\\\\\\\\\\\\\\\"type\\\\\\\\\\\\\\\": 2, \\\\\\\\\\\\\\\"details\\\\\\\\\\\\\\\": {\\\\\\\\\\\\\\\"selectedColumn\\\\\\\\\\\\\\\": \\\\\\\\\\\\\\\"Avg_Open_To_Buy\\\\\\\\\\\\\\\"}}, \\\\\\\\\\\\\\\"typeProperty\\\\\\\\\\\\\\\": 3}, {\\\\\\\\\\\\\\\"column\\\\\\\\\\\\\\\": {\\\\\\\\\\\\\\\"type\\\\\\\\\\\\\\\": 2, \\\\\\\\\\\\\\\"details\\\\\\\\\\\\\\\": {\\\\\\\\\\\\\\\"selectedColumn\\\\\\\\\\\\\\\": \\\\\\\\\\\\\\\"Total_Amt_Chng_Q4_Q1\\\\\\\\\\\\\\\"}}, \\\\\\\\\\\\\\\"typeProperty\\\\\\\\\\\\\\\": 3}, {\\\\\\\\\\\\\\\"column\\\\\\\\\\\\\\\": {\\\\\\\\\\\\\\\"type\\\\\\\\\\\\\\\": 2, \\\\\\\\\\\\\\\"details\\\\\\\\\\\\\\\": {\\\\\\\\\\\\\\\"selectedColumn\\\\\\\\\\\\\\\": \\\\\\\\\\\\\\\"Total_Trans_Amt\\\\\\\\\\\\\\\"}}, \\\\\\\\\\\\\\\"typeProperty\\\\\\\\\\\\\\\": 2}, {\\\\\\\\\\\\\\\"column\\\\\\\\\\\\\\\": {\\\\\\\\\\\\\\\"type\\\\\\\\\\\\\\\": 2, \\\\\\\\\\\\\\\"details\\\\\\\\\\\\\\\": {\\\\\\\\\\\\\\\"selectedColumn\\\\\\\\\\\\\\\": \\\\\\\\\\\\\\\"Total_Trans_Ct\\\\\\\\\\\\\\\"}}, \\\\\\\\\\\\\\\"typeProperty\\\\\\\\\\\\\\\": 2}, {\\\\\\\\\\\\\\\"column\\\\\\\\\\\\\\\": {\\\\\\\\\\\\\\\"type\\\\\\\\\\\\\\\": 2, \\\\\\\\\\\\\\\"details\\\\\\\\\\\\\\\": {\\\\\\\\\\\\\\\"selectedColumn\\\\\\\\\\\\\\\": \\\\\\\\\\\\\\\"Total_Ct_Chng_Q4_Q1\\\\\\\\\\\\\\\"}}, \\\\\\\\\\\\\\\"typeProperty\\\\\\\\\\\\\\\": 3}, {\\\\\\\\\\\\\\\"column\\\\\\\\\\\\\\\": {\\\\\\\\\\\\\\\"type\\\\\\\\\\\\\\\": 2, \\\\\\\\\\\\\\\"details\\\\\\\\\\\\\\\": {\\\\\\\\\\\\\\\"selectedColumn\\\\\\\\\\\\\\\": \\\\\\\\\\\\\\\"Avg_Utilization_Ratio\\\\\\\\\\\\\\\"}}, \\\\\\\\\\\\\\\"typeProperty\\\\\\\\\\\\\\\": 3}, {\\\\\\\\\\\\\\\"column\\\\\\\\\\\\\\\": {\\\\\\\\\\\\\\\"type\\\\\\\\\\\\\\\": 2, \\\\\\\\\\\\\\\"details\\\\\\\\\\\\\\\": {\\\\\\\\\\\\\\\"selectedColumn\\\\\\\\\\\\\\\": \\\\\\\\\\\\\\\"Naive_Bayes_Classifier_Attrition_Flag_Card_Category_Contacts_Count_12_mon_Dependent_count_Education_Level_Months_Inactive_12_mon_1\\\\\\\\\\\\\\\"}}, \\\\\\\\\\\\\\\"typeProperty\\\\\\\\\\\\\\\": 3}, {\\\\\\\\\\\\\\\"column\\\\\\\\\\\\\\\": {\\\\\\\\\\\\\\\"type\\\\\\\\\\\\\\\": 2, \\\\\\\\\\\\\\\"details\\\\\\\\\\\\\\\": {\\\\\\\\\\\\\\\"selectedColumn\\\\\\\\\\\\\\\": \\\\\\\\\\\\\\\"Naive_Bayes_Classifier_Attrition_Flag_Card_Category_Contacts_Count_12_mon_Dependent_count_Education_Level_Months_Inactive_12_mon_2\\\\\\\\\\\\\\\"}}, \\\\\\\\\\\\\\\"typeProperty\\\\\\\\\\\\\\\": 3}]}, \\\\\\\\\\\\\\\"localData\\\\\\\\\\\\\\\": {}, \\\\\\\\\\\\\\\"isEnabled\\\\\\\\\\\\\\\": true, \\\\\\\\\\\\\\\"name\\\\\\\\\\\\\\\": null, \\\\\\\\\\\\\\\"annotation\\\\\\\\\\\\\\\": null}, {\\\\\\\\\\\\\\\"id\\\\\\\\\\\\\\\": \\\\\\\\\\\\\\\"92c3ba08-3d8d-48de-a86b-3a4d36793b92\\\\\\\\\\\\\\\", \\\\\\\\\\\\\\\"type\\\\\\\\\\\\\\\": \\\\\\\\\\\\\\\"Microsoft.DPrep.DropColumnsBlock\\\\\\\\\\\\\\\", \\\\\\\\\\\\\\\"arguments\\\\\\\\\\\\\\\": {\\\\\\\\\\\\\\\"columns\\\\\\\\\\\\\\\": {\\\\\\\\\\\\\\\"type\\\\\\\\\\\\\\\": 0, \\\\\\\\\\\\\\\"details\\\\\\\\\\\\\\\": {\\\\\\\\\\\\\\\"selectedColumns\\\\\\\\\\\\\\\": [\\\\\\\\\\\\\\\"Naive_Bayes_Classifier_Attrition_Flag_Card_Category_Contacts_Count_12_mon_Dependent_count_Education_Level_Months_Inactive_12_mon_1\\\\\\\\\\\\\\\", \\\\\\\\\\\\\\\"Naive_Bayes_Classifier_Attrition_Flag_Card_Category_Contacts_Count_12_mon_Dependent_count_Education_Level_Months_Inactive_12_mon_2\\\\\\\\\\\\\\\", \\\\\\\\\\\\\\\"CLIENTNUM\\\\\\\\\\\\\\\"]}}}, \\\\\\\\\\\\\\\"localData\\\\\\\\\\\\\\\": {}, \\\\\\\\\\\\\\\"isEnabled\\\\\\\\\\\\\\\": true, \\\\\\\\\\\\\\\"name\\\\\\\\\\\\\\\": null, \\\\\\\\\\\\\\\"annotation\\\\\\\\\\\\\\\": null}], \\\\\\\\\\\\\\\"inspectors\\\\\\\\\\\\\\\": [], \\\\\\\\\\\\\\\"meta\\\\\\\\\\\\\\\": {\\\\\\\\\\\\\\\"savedDatasetId\\\\\\\\\\\\\\\": \\\\\\\\\\\\\\\"bf7c4c5f-2ff6-463f-82a9-652b0b933ef6\\\\\\\\\\\\\\\", \\\\\\\\\\\\\\\"datasetType\\\\\\\\\\\\\\\": \\\\\\\\\\\\\\\"tabular\\\\\\\\\\\\\\\", \\\\\\\\\\\\\\\"subscriptionId\\\\\\\\\\\\\\\": \\\\\\\\\\\\\\\"b968fb36-f06a-4c76-a15f-afab68ae7667\\\\\\\\\\\\\\\", \\\\\\\\\\\\\\\"workspaceId\\\\\\\\\\\\\\\": \\\\\\\\\\\\\\\"a658ebac-897e-4fc2-9dab-c650b0c2a2b8\\\\\\\\\\\\\\\", \\\\\\\\\\\\\\\"workspaceLocation\\\\\\\\\\\\\\\": \\\\\\\\\\\\\\\"southcentralus\\\\\\\\\\\\\\\"}}\\\\\\\", \\\\\\\"activities\\\\\\\": 0}\", \"EnableSubsampling\": \"False\", \"runTemplate\": \"AutoML\", \"azureml.runsource\": \"automl\", \"display_task_type\": \"classification\", \"dependencies_versions\": \"{\\\"azureml-widgets\\\": \\\"1.22.0\\\", \\\"azureml-train\\\": \\\"1.22.0\\\", \\\"azureml-train-restclients-hyperdrive\\\": \\\"1.22.0\\\", \\\"azureml-train-core\\\": \\\"1.22.0\\\", \\\"azureml-train-automl\\\": \\\"1.22.0\\\", \\\"azureml-train-automl-runtime\\\": \\\"1.22.0\\\", \\\"azureml-train-automl-client\\\": \\\"1.22.0\\\", \\\"azureml-tensorboard\\\": \\\"1.22.0\\\", \\\"azureml-telemetry\\\": \\\"1.22.0\\\", \\\"azureml-sdk\\\": \\\"1.22.0\\\", \\\"azureml-samples\\\": \\\"0+unknown\\\", \\\"azureml-pipeline\\\": \\\"1.22.0\\\", \\\"azureml-pipeline-steps\\\": \\\"1.22.0\\\", \\\"azureml-pipeline-core\\\": \\\"1.22.0\\\", \\\"azureml-opendatasets\\\": \\\"1.22.0\\\", \\\"azureml-model-management-sdk\\\": \\\"1.0.1b6.post1\\\", \\\"azureml-mlflow\\\": \\\"1.22.0\\\", \\\"azureml-interpret\\\": \\\"1.22.0\\\", \\\"azureml-explain-model\\\": \\\"1.22.0\\\", \\\"azureml-defaults\\\": \\\"1.22.0\\\", \\\"azureml-dataset-runtime\\\": \\\"1.22.0\\\", \\\"azureml-dataprep\\\": \\\"2.9.1\\\", \\\"azureml-dataprep-rslex\\\": \\\"1.7.0\\\", \\\"azureml-dataprep-native\\\": \\\"29.0.0\\\", \\\"azureml-datadrift\\\": \\\"1.22.0\\\", \\\"azureml-core\\\": \\\"1.22.0\\\", \\\"azureml-contrib-services\\\": \\\"1.22.0\\\", \\\"azureml-contrib-server\\\": \\\"1.22.0\\\", \\\"azureml-contrib-reinforcementlearning\\\": \\\"1.22.0\\\", \\\"azureml-contrib-pipeline-steps\\\": \\\"1.22.0\\\", \\\"azureml-contrib-notebook\\\": \\\"1.22.0\\\", \\\"azureml-contrib-interpret\\\": \\\"1.22.0\\\", \\\"azureml-contrib-gbdt\\\": \\\"1.22.0\\\", \\\"azureml-contrib-fairness\\\": \\\"1.22.0\\\", \\\"azureml-contrib-dataset\\\": \\\"1.22.0\\\", \\\"azureml-cli-common\\\": \\\"1.22.0\\\", \\\"azureml-automl-runtime\\\": \\\"1.22.0\\\", \\\"azureml-automl-core\\\": \\\"1.22.0\\\", \\\"azureml-accel-models\\\": \\\"1.22.0\\\"}\", \"_aml_system_scenario_identification\": \"Remote.Parent\", \"ClientType\": \"SDK\", \"environment_cpu_name\": \"AzureML-AutoML\", \"environment_cpu_label\": \"prod\", \"environment_gpu_name\": \"AzureML-AutoML-GPU\", \"environment_gpu_label\": \"prod\", \"root_attribution\": \"automl\", \"attribution\": \"AutoML\", \"Orchestrator\": \"AutoML\", \"CancelUri\": \"https://southcentralus.experiments.azureml.net/jasmine/v1.0/subscriptions/b968fb36-f06a-4c76-a15f-afab68ae7667/resourceGroups/aml-quickstarts-139822/providers/Microsoft.MachineLearningServices/workspaces/quick-starts-ws-139822/experimentids/5b83c0d3-c5f6-4ac7-bd42-30b3d7439fd8/cancel/AutoML_2e6c69b0-1fa0-4548-823c-38194d3b44b6\", \"azureml.git.repository_uri\": \"https://github.com/obinnaonyema/CreditCardChurn_UdacityAZMLCapstone.git\", \"mlflow.source.git.repoURL\": \"https://github.com/obinnaonyema/CreditCardChurn_UdacityAZMLCapstone.git\", \"azureml.git.branch\": \"master\", \"mlflow.source.git.branch\": \"master\", \"azureml.git.commit\": \"5dc653cf65f54d174c8336b161cb0f58dc45af43\", \"mlflow.source.git.commit\": \"5dc653cf65f54d174c8336b161cb0f58dc45af43\", \"azureml.git.dirty\": \"True\", \"ClientSdkVersion\": \"1.23.0\", \"snapshotId\": \"00000000-0000-0000-0000-000000000000\", \"SetupRunId\": \"AutoML_2e6c69b0-1fa0-4548-823c-38194d3b44b6_setup\", \"SetupRunContainerId\": \"dcid.AutoML_2e6c69b0-1fa0-4548-823c-38194d3b44b6_setup\", \"FeaturizationRunJsonPath\": \"featurizer_container.json\", \"FeaturizationRunId\": \"AutoML_2e6c69b0-1fa0-4548-823c-38194d3b44b6_featurize\", \"ProblemInfoJsonString\": \"{\\\"dataset_num_categorical\\\": 0, \\\"is_sparse\\\": true, \\\"subsampling\\\": false, \\\"dataset_classes\\\": 2, \\\"dataset_features\\\": 153, \\\"dataset_samples\\\": 10127, \\\"single_frequency_class_detected\\\": false}\", \"ModelExplainRunId\": \"AutoML_2e6c69b0-1fa0-4548-823c-38194d3b44b6_ModelExplain\"}, \"tags\": {\"model_explain_run\": \"best_run\", \"_aml_system_azureml.automlComponent\": \"AutoML\", \"pipeline_id\": \"\", \"score\": \"\", \"predicted_cost\": \"\", \"fit_time\": \"\", \"training_percent\": \"\", \"iteration\": \"\", \"run_preprocessor\": \"\", \"run_algorithm\": \"\", \"dynamic_whitelisting_iterations\": \"<25>;<30>;<35>;<40>;<45>;<49>;<55>;<60>;<65>;<70>;<75>;<79>;<85>;<90>;<95>;\", \"automl_best_child_run_id\": \"AutoML_2e6c69b0-1fa0-4548-823c-38194d3b44b6_98\", \"model_explain_best_run_child_id\": \"AutoML_2e6c69b0-1fa0-4548-823c-38194d3b44b6_98\"}, \"end_time_utc\": \"2021-03-04T23:01:54.728361Z\", \"status\": \"Completed\", \"log_files\": {}, \"log_groups\": [], \"run_duration\": \"1:17:56\", \"run_number\": \"1\", \"run_queued_details\": {\"status\": \"Completed\", \"details\": null}}, \"child_runs\": [{\"run_id\": \"AutoML_2e6c69b0-1fa0-4548-823c-38194d3b44b6_0\", \"run_number\": 5, \"metric\": null, \"status\": \"Completed\", \"run_type\": \"azureml.scriptrun\", \"training_percent\": \"100\", \"start_time\": \"2021-03-04T22:35:27.265861Z\", \"end_time\": \"2021-03-04T22:36:21.02755Z\", \"created_time\": \"2021-03-04T22:33:36.557044Z\", \"created_time_dt\": \"2021-03-04T22:33:36.557044Z\", \"duration\": \"0:02:44\", \"iteration\": \"0\", \"goal\": \"accuracy_max\", \"run_name\": \"MaxAbsScaler, LightGBM\", \"run_properties\": \"copy=True\", \"primary_metric\": 0.95138171, \"best_metric\": 0.95138171}, {\"run_id\": \"AutoML_2e6c69b0-1fa0-4548-823c-38194d3b44b6_4\", \"run_number\": 6, \"metric\": null, \"status\": \"Completed\", \"run_type\": \"azureml.scriptrun\", \"training_percent\": \"100\", \"start_time\": \"2021-03-04T22:36:25.913979Z\", \"end_time\": \"2021-03-04T22:37:10.630329Z\", \"created_time\": \"2021-03-04T22:33:36.637003Z\", \"created_time_dt\": \"2021-03-04T22:33:36.637003Z\", \"duration\": \"0:03:33\", \"iteration\": \"4\", \"goal\": \"accuracy_max\", \"run_name\": \"MaxAbsScaler, RandomForest\", \"run_properties\": \"copy=True\", \"primary_metric\": 0.67037401, \"best_metric\": 0.95138171}, {\"run_id\": \"AutoML_2e6c69b0-1fa0-4548-823c-38194d3b44b6_3\", \"run_number\": 7, \"metric\": null, \"status\": \"Completed\", \"run_type\": \"azureml.scriptrun\", \"training_percent\": \"100\", \"start_time\": \"2021-03-04T22:34:38.174742Z\", \"end_time\": \"2021-03-04T22:35:23.798134Z\", \"created_time\": \"2021-03-04T22:33:36.652011Z\", \"created_time_dt\": \"2021-03-04T22:33:36.652011Z\", \"duration\": \"0:01:47\", \"iteration\": \"3\", \"goal\": \"accuracy_max\", \"run_name\": \"MaxAbsScaler, RandomForest\", \"run_properties\": \"copy=True\", \"primary_metric\": 0.81622941, \"best_metric\": 0.95138171}, {\"run_id\": \"AutoML_2e6c69b0-1fa0-4548-823c-38194d3b44b6_1\", \"run_number\": 8, \"metric\": null, \"status\": \"Completed\", \"run_type\": \"azureml.scriptrun\", \"training_percent\": \"100\", \"start_time\": \"2021-03-04T22:36:39.8907Z\", \"end_time\": \"2021-03-04T22:38:47.658471Z\", \"created_time\": \"2021-03-04T22:33:36.656368Z\", \"created_time_dt\": \"2021-03-04T22:33:36.656368Z\", \"duration\": \"0:05:11\", \"iteration\": \"1\", \"goal\": \"accuracy_max\", \"run_name\": \"MaxAbsScaler, XGBoostClassifier\", \"run_properties\": \"copy=True\", \"primary_metric\": 0.94633194, \"best_metric\": 0.95138171}, {\"run_id\": \"AutoML_2e6c69b0-1fa0-4548-823c-38194d3b44b6_2\", \"run_number\": 9, \"metric\": null, \"status\": \"Completed\", \"run_type\": \"azureml.scriptrun\", \"training_percent\": \"100\", \"start_time\": \"2021-03-04T22:33:44.921332Z\", \"end_time\": \"2021-03-04T22:34:34.022438Z\", \"created_time\": \"2021-03-04T22:33:36.713616Z\", \"created_time_dt\": \"2021-03-04T22:33:36.713616Z\", \"duration\": \"0:00:57\", \"iteration\": \"2\", \"goal\": \"accuracy_max\", \"run_name\": \"MaxAbsScaler, RandomForest\", \"run_properties\": \"copy=True\", \"primary_metric\": 0.8407664, \"best_metric\": 0.95138171}, {\"run_id\": \"AutoML_2e6c69b0-1fa0-4548-823c-38194d3b44b6_5\", \"run_number\": 10, \"metric\": null, \"status\": \"Completed\", \"run_type\": \"azureml.scriptrun\", \"training_percent\": \"100\", \"start_time\": \"2021-03-04T22:36:38.150332Z\", \"end_time\": \"2021-03-04T22:38:41.499471Z\", \"created_time\": \"2021-03-04T22:34:37.742486Z\", \"created_time_dt\": \"2021-03-04T22:34:37.742486Z\", \"duration\": \"0:04:03\", \"iteration\": \"5\", \"goal\": \"accuracy_max\", \"run_name\": \"MaxAbsScaler, RandomForest\", \"run_properties\": \"copy=True\", \"primary_metric\": 0.60202195, \"best_metric\": 0.95138171}, {\"run_id\": \"AutoML_2e6c69b0-1fa0-4548-823c-38194d3b44b6_6\", \"run_number\": 11, \"metric\": null, \"status\": \"Completed\", \"run_type\": \"azureml.scriptrun\", \"training_percent\": \"100\", \"start_time\": \"2021-03-04T22:36:40.120096Z\", \"end_time\": \"2021-03-04T22:39:03.848764Z\", \"created_time\": \"2021-03-04T22:35:28.243669Z\", \"created_time_dt\": \"2021-03-04T22:35:28.243669Z\", \"duration\": \"0:03:35\", \"iteration\": \"6\", \"goal\": \"accuracy_max\", \"run_name\": \"SparseNormalizer, XGBoostClassifier\", \"run_properties\": \"<azureml.automl.runtime.shared.model_wrappers.SparseNormalizer object at 0x7f9fb6744940\", \"primary_metric\": 0.89648677, \"best_metric\": 0.95138171}, {\"run_id\": \"AutoML_2e6c69b0-1fa0-4548-823c-38194d3b44b6_7\", \"run_number\": 12, \"metric\": null, \"status\": \"Completed\", \"run_type\": \"azureml.scriptrun\", \"training_percent\": \"100\", \"start_time\": \"2021-03-04T22:36:36.829828Z\", \"end_time\": \"2021-03-04T22:38:52.841849Z\", \"created_time\": \"2021-03-04T22:36:24.166115Z\", \"created_time_dt\": \"2021-03-04T22:36:24.166115Z\", \"duration\": \"0:02:28\", \"iteration\": \"7\", \"goal\": \"accuracy_max\", \"run_name\": \"SparseNormalizer, XGBoostClassifier\", \"run_properties\": \"<azureml.automl.runtime.shared.model_wrappers.SparseNormalizer object at 0x7fb046462940\", \"primary_metric\": 0.87375407, \"best_metric\": 0.95138171}, {\"run_id\": \"AutoML_2e6c69b0-1fa0-4548-823c-38194d3b44b6_8\", \"run_number\": 13, \"metric\": null, \"status\": \"Completed\", \"run_type\": \"azureml.scriptrun\", \"training_percent\": \"100\", \"start_time\": \"2021-03-04T22:37:22.017039Z\", \"end_time\": \"2021-03-04T22:38:29.907876Z\", \"created_time\": \"2021-03-04T22:37:13.212145Z\", \"created_time_dt\": \"2021-03-04T22:37:13.212145Z\", \"duration\": \"0:01:16\", \"iteration\": \"8\", \"goal\": \"accuracy_max\", \"run_name\": \"SparseNormalizer, XGBoostClassifier\", \"run_properties\": \"<azureml.automl.runtime.shared.model_wrappers.SparseNormalizer object at 0x7fad5d5059e8\", \"primary_metric\": 0.89395598, \"best_metric\": 0.95138171}, {\"run_id\": \"AutoML_2e6c69b0-1fa0-4548-823c-38194d3b44b6_9\", \"run_number\": 14, \"metric\": null, \"status\": \"Completed\", \"run_type\": \"azureml.scriptrun\", \"training_percent\": \"100\", \"start_time\": \"2021-03-04T22:38:48.53231Z\", \"end_time\": \"2021-03-04T22:39:44.970854Z\", \"created_time\": \"2021-03-04T22:38:32.56321Z\", \"created_time_dt\": \"2021-03-04T22:38:32.56321Z\", \"duration\": \"0:01:12\", \"iteration\": \"9\", \"goal\": \"accuracy_max\", \"run_name\": \"StandardScalerWrapper, RandomForest\", \"run_properties\": \"<azureml.automl.runtime.shared.model_wrappers.StandardScalerWrapper object at 0x7f658949a278\", \"primary_metric\": 0.87950341, \"best_metric\": 0.95138171}, {\"run_id\": \"AutoML_2e6c69b0-1fa0-4548-823c-38194d3b44b6_10\", \"run_number\": 15, \"metric\": null, \"status\": \"Completed\", \"run_type\": \"azureml.scriptrun\", \"training_percent\": \"100\", \"start_time\": \"2021-03-04T22:38:59.174024Z\", \"end_time\": \"2021-03-04T22:39:47.305666Z\", \"created_time\": \"2021-03-04T22:38:43.45803Z\", \"created_time_dt\": \"2021-03-04T22:38:43.45803Z\", \"duration\": \"0:01:03\", \"iteration\": \"10\", \"goal\": \"accuracy_max\", \"run_name\": \"StandardScalerWrapper, LightGBM\", \"run_properties\": \"<azureml.automl.runtime.shared.model_wrappers.StandardScalerWrapper object at 0x7f5fbc827898\", \"primary_metric\": 0.94206375, \"best_metric\": 0.95138171}, {\"run_id\": \"AutoML_2e6c69b0-1fa0-4548-823c-38194d3b44b6_11\", \"run_number\": 16, \"metric\": null, \"status\": \"Completed\", \"run_type\": \"azureml.scriptrun\", \"training_percent\": \"100\", \"start_time\": \"2021-03-04T22:39:07.949412Z\", \"end_time\": \"2021-03-04T22:40:01.897577Z\", \"created_time\": \"2021-03-04T22:38:56.602059Z\", \"created_time_dt\": \"2021-03-04T22:38:56.602059Z\", \"duration\": \"0:01:05\", \"iteration\": \"11\", \"goal\": \"accuracy_max\", \"run_name\": \"MaxAbsScaler, RandomForest\", \"run_properties\": \"copy=True\", \"primary_metric\": 0.81271418, \"best_metric\": 0.95138171}, {\"run_id\": \"AutoML_2e6c69b0-1fa0-4548-823c-38194d3b44b6_12\", \"run_number\": 17, \"metric\": null, \"status\": \"Completed\", \"run_type\": \"azureml.scriptrun\", \"training_percent\": \"100\", \"start_time\": \"2021-03-04T22:38:56.838545Z\", \"end_time\": \"2021-03-04T22:40:07.182469Z\", \"created_time\": \"2021-03-04T22:38:56.838545Z\", \"created_time_dt\": \"2021-03-04T22:38:56.838545Z\", \"duration\": \"0:01:10\", \"iteration\": \"12\", \"goal\": \"accuracy_max\", \"run_name\": \"MaxAbsScaler, LogisticRegression\", \"run_properties\": \"copy=True\", \"primary_metric\": 0.86254673, \"best_metric\": 0.95138171}, {\"run_id\": \"AutoML_2e6c69b0-1fa0-4548-823c-38194d3b44b6_13\", \"run_number\": 18, \"metric\": null, \"status\": \"Completed\", \"run_type\": \"azureml.scriptrun\", \"training_percent\": \"100\", \"start_time\": \"2021-03-04T22:39:20.020717Z\", \"end_time\": \"2021-03-04T22:40:13.631171Z\", \"created_time\": \"2021-03-04T22:39:08.788562Z\", \"created_time_dt\": \"2021-03-04T22:39:08.788562Z\", \"duration\": \"0:01:04\", \"iteration\": \"13\", \"goal\": \"accuracy_max\", \"run_name\": \"MaxAbsScaler, LightGBM\", \"run_properties\": \"copy=True\", \"primary_metric\": 0.90376187, \"best_metric\": 0.95138171}, {\"run_id\": \"AutoML_2e6c69b0-1fa0-4548-823c-38194d3b44b6_14\", \"run_number\": 19, \"metric\": null, \"status\": \"Completed\", \"run_type\": \"azureml.scriptrun\", \"training_percent\": \"100\", \"start_time\": \"2021-03-04T22:40:14.301165Z\", \"end_time\": \"2021-03-04T22:41:07.590508Z\", \"created_time\": \"2021-03-04T22:39:48.263861Z\", \"created_time_dt\": \"2021-03-04T22:39:48.263861Z\", \"duration\": \"0:01:19\", \"iteration\": \"14\", \"goal\": \"accuracy_max\", \"run_name\": \"MaxAbsScaler, LightGBM\", \"run_properties\": \"copy=True\", \"primary_metric\": 0.88323478, \"best_metric\": 0.95138171}, {\"run_id\": \"AutoML_2e6c69b0-1fa0-4548-823c-38194d3b44b6_15\", \"run_number\": 20, \"metric\": null, \"status\": \"Completed\", \"run_type\": \"azureml.scriptrun\", \"training_percent\": \"100\", \"start_time\": \"2021-03-04T22:40:20.594674Z\", \"end_time\": \"2021-03-04T22:41:14.320308Z\", \"created_time\": \"2021-03-04T22:40:09.968164Z\", \"created_time_dt\": \"2021-03-04T22:40:09.968164Z\", \"duration\": \"0:01:04\", \"iteration\": \"15\", \"goal\": \"accuracy_max\", \"run_name\": \"MaxAbsScaler, LightGBM\", \"run_properties\": \"copy=True\", \"primary_metric\": 0.90310484, \"best_metric\": 0.95138171}, {\"run_id\": \"AutoML_2e6c69b0-1fa0-4548-823c-38194d3b44b6_17\", \"run_number\": 21, \"metric\": null, \"status\": \"Completed\", \"run_type\": \"azureml.scriptrun\", \"training_percent\": \"100\", \"start_time\": \"2021-03-04T22:40:24.917521Z\", \"end_time\": \"2021-03-04T22:41:06.788407Z\", \"created_time\": \"2021-03-04T22:40:09.983408Z\", \"created_time_dt\": \"2021-03-04T22:40:09.983408Z\", \"duration\": \"0:00:56\", \"iteration\": \"17\", \"goal\": \"accuracy_max\", \"run_name\": \"MaxAbsScaler, LightGBM\", \"run_properties\": \"copy=True\", \"primary_metric\": 0.87481502, \"best_metric\": 0.95138171}, {\"run_id\": \"AutoML_2e6c69b0-1fa0-4548-823c-38194d3b44b6_16\", \"run_number\": 22, \"metric\": null, \"status\": \"Completed\", \"run_type\": \"azureml.scriptrun\", \"training_percent\": \"100\", \"start_time\": \"2021-03-04T22:40:31.450696Z\", \"end_time\": \"2021-03-04T22:41:28.026054Z\", \"created_time\": \"2021-03-04T22:40:10.018125Z\", \"created_time_dt\": \"2021-03-04T22:40:10.018125Z\", \"duration\": \"0:01:18\", \"iteration\": \"16\", \"goal\": \"accuracy_max\", \"run_name\": \"MaxAbsScaler, LightGBM\", \"run_properties\": \"copy=True\", \"primary_metric\": 0.94079692, \"best_metric\": 0.95138171}, {\"run_id\": \"AutoML_2e6c69b0-1fa0-4548-823c-38194d3b44b6_18\", \"run_number\": 23, \"metric\": null, \"status\": \"Completed\", \"run_type\": \"azureml.scriptrun\", \"training_percent\": \"100\", \"start_time\": \"2021-03-04T22:40:33.397686Z\", \"end_time\": \"2021-03-04T22:41:54.578241Z\", \"created_time\": \"2021-03-04T22:40:24.586942Z\", \"created_time_dt\": \"2021-03-04T22:40:24.586942Z\", \"duration\": \"0:01:29\", \"iteration\": \"18\", \"goal\": \"accuracy_max\", \"run_name\": \"MaxAbsScaler, ExtremeRandomTrees\", \"run_properties\": \"copy=True\", \"primary_metric\": 0.8149969, \"best_metric\": 0.95138171}, {\"run_id\": \"AutoML_2e6c69b0-1fa0-4548-823c-38194d3b44b6_19\", \"run_number\": 24, \"metric\": null, \"status\": \"Completed\", \"run_type\": \"azureml.scriptrun\", \"training_percent\": \"100\", \"start_time\": \"2021-03-04T22:41:18.521596Z\", \"end_time\": \"2021-03-04T22:42:05.972204Z\", \"created_time\": \"2021-03-04T22:41:09.020266Z\", \"created_time_dt\": \"2021-03-04T22:41:09.020266Z\", \"duration\": \"0:00:56\", \"iteration\": \"19\", \"goal\": \"accuracy_max\", \"run_name\": \"SparseNormalizer, RandomForest\", \"run_properties\": \"<azureml.automl.runtime.shared.model_wrappers.SparseNormalizer object at 0x7f355f362710\", \"primary_metric\": 0.80740177, \"best_metric\": 0.95138171}, {\"run_id\": \"AutoML_2e6c69b0-1fa0-4548-823c-38194d3b44b6_20\", \"run_number\": 25, \"metric\": null, \"status\": \"Completed\", \"run_type\": \"azureml.scriptrun\", \"training_percent\": \"100\", \"start_time\": \"2021-03-04T22:41:19.051349Z\", \"end_time\": \"2021-03-04T22:42:07.16396Z\", \"created_time\": \"2021-03-04T22:41:09.204752Z\", \"created_time_dt\": \"2021-03-04T22:41:09.204752Z\", \"duration\": \"0:00:57\", \"iteration\": \"20\", \"goal\": \"accuracy_max\", \"run_name\": \"MaxAbsScaler, LightGBM\", \"run_properties\": \"copy=True\", \"primary_metric\": 0.83436003, \"best_metric\": 0.95138171}, {\"run_id\": \"AutoML_2e6c69b0-1fa0-4548-823c-38194d3b44b6_21\", \"run_number\": 26, \"metric\": null, \"status\": \"Completed\", \"run_type\": \"azureml.scriptrun\", \"training_percent\": \"100\", \"start_time\": \"2021-03-04T22:41:23.984767Z\", \"end_time\": \"2021-03-04T22:42:16.026728Z\", \"created_time\": \"2021-03-04T22:41:15.867847Z\", \"created_time_dt\": \"2021-03-04T22:41:15.867847Z\", \"duration\": \"0:01:00\", \"iteration\": \"21\", \"goal\": \"accuracy_max\", \"run_name\": \"MaxAbsScaler, LightGBM\", \"run_properties\": \"copy=True\", \"primary_metric\": 0.9160761, \"best_metric\": 0.95138171}, {\"run_id\": \"AutoML_2e6c69b0-1fa0-4548-823c-38194d3b44b6_22\", \"run_number\": 27, \"metric\": null, \"status\": \"Completed\", \"run_type\": \"azureml.scriptrun\", \"training_percent\": \"100\", \"start_time\": \"2021-03-04T22:41:42.288742Z\", \"end_time\": \"2021-03-04T22:42:39.696611Z\", \"created_time\": \"2021-03-04T22:41:29.60022Z\", \"created_time_dt\": \"2021-03-04T22:41:29.60022Z\", \"duration\": \"0:01:10\", \"iteration\": \"22\", \"goal\": \"accuracy_max\", \"run_name\": \"MaxAbsScaler, GradientBoosting\", \"run_properties\": \"copy=True\", \"primary_metric\": 0.83445871, \"best_metric\": 0.95138171}, {\"run_id\": \"AutoML_2e6c69b0-1fa0-4548-823c-38194d3b44b6_23\", \"run_number\": 28, \"metric\": null, \"status\": \"Completed\", \"run_type\": \"azureml.scriptrun\", \"training_percent\": \"100\", \"start_time\": \"2021-03-04T22:42:04.540634Z\", \"end_time\": \"2021-03-04T22:43:03.524933Z\", \"created_time\": \"2021-03-04T22:41:56.309687Z\", \"created_time_dt\": \"2021-03-04T22:41:56.309687Z\", \"duration\": \"0:01:07\", \"iteration\": \"23\", \"goal\": \"accuracy_max\", \"run_name\": \"MaxAbsScaler, LightGBM\", \"run_properties\": \"copy=True\", \"primary_metric\": 0.93024322, \"best_metric\": 0.95138171}, {\"run_id\": \"AutoML_2e6c69b0-1fa0-4548-823c-38194d3b44b6_24\", \"run_number\": 29, \"metric\": null, \"status\": \"Completed\", \"run_type\": \"azureml.scriptrun\", \"training_percent\": \"100\", \"start_time\": \"2021-03-04T22:42:18.111113Z\", \"end_time\": \"2021-03-04T22:43:05.937519Z\", \"created_time\": \"2021-03-04T22:42:07.540979Z\", \"created_time_dt\": \"2021-03-04T22:42:07.540979Z\", \"duration\": \"0:00:58\", \"iteration\": \"24\", \"goal\": \"accuracy_max\", \"run_name\": \"SparseNormalizer, XGBoostClassifier\", \"run_properties\": \"<azureml.automl.runtime.shared.model_wrappers.SparseNormalizer object at 0x7f7129d9aba8\", \"primary_metric\": 0.86169936, \"best_metric\": 0.95138171}, {\"run_id\": \"AutoML_2e6c69b0-1fa0-4548-823c-38194d3b44b6_25\", \"run_number\": 30, \"metric\": null, \"status\": \"Completed\", \"run_type\": \"azureml.scriptrun\", \"training_percent\": \"100\", \"start_time\": \"2021-03-04T22:42:22.123007Z\", \"end_time\": \"2021-03-04T22:43:13.281257Z\", \"created_time\": \"2021-03-04T22:42:11.676682Z\", \"created_time_dt\": \"2021-03-04T22:42:11.676682Z\", \"duration\": \"0:01:01\", \"iteration\": \"25\", \"goal\": \"accuracy_max\", \"run_name\": \"MaxAbsScaler, LightGBM\", \"run_properties\": \"copy=True\", \"primary_metric\": 0.79844026, \"best_metric\": 0.95138171}, {\"run_id\": \"AutoML_2e6c69b0-1fa0-4548-823c-38194d3b44b6_26\", \"run_number\": 31, \"metric\": null, \"status\": \"Completed\", \"run_type\": \"azureml.scriptrun\", \"training_percent\": \"100\", \"start_time\": \"2021-03-04T22:42:26.505465Z\", \"end_time\": \"2021-03-04T22:43:15.845135Z\", \"created_time\": \"2021-03-04T22:42:17.497113Z\", \"created_time_dt\": \"2021-03-04T22:42:17.497113Z\", \"duration\": \"0:00:58\", \"iteration\": \"26\", \"goal\": \"accuracy_max\", \"run_name\": \"MaxAbsScaler, LightGBM\", \"run_properties\": \"copy=True\", \"primary_metric\": 0.91527629, \"best_metric\": 0.95138171}, {\"run_id\": \"AutoML_2e6c69b0-1fa0-4548-823c-38194d3b44b6_27\", \"run_number\": 32, \"metric\": null, \"status\": \"Completed\", \"run_type\": \"azureml.scriptrun\", \"training_percent\": \"100\", \"start_time\": \"2021-03-04T22:42:50.970116Z\", \"end_time\": \"2021-03-04T22:43:39.056583Z\", \"created_time\": \"2021-03-04T22:42:41.798317Z\", \"created_time_dt\": \"2021-03-04T22:42:41.798317Z\", \"duration\": \"0:00:57\", \"iteration\": \"27\", \"goal\": \"accuracy_max\", \"run_name\": \"StandardScalerWrapper, XGBoostClassifier\", \"run_properties\": \"<azureml.automl.runtime.shared.model_wrappers.StandardScalerWrapper object at 0x7f7ccd1e1400\", \"primary_metric\": 0.91996265, \"best_metric\": 0.95138171}, {\"run_id\": \"AutoML_2e6c69b0-1fa0-4548-823c-38194d3b44b6_28\", \"run_number\": 33, \"metric\": null, \"status\": \"Completed\", \"run_type\": \"azureml.scriptrun\", \"training_percent\": \"100\", \"start_time\": \"2021-03-04T22:43:13.977044Z\", \"end_time\": \"2021-03-04T22:45:56.283364Z\", \"created_time\": \"2021-03-04T22:43:05.057026Z\", \"created_time_dt\": \"2021-03-04T22:43:05.057026Z\", \"duration\": \"0:02:51\", \"iteration\": \"28\", \"goal\": \"accuracy_max\", \"run_name\": \"SparseNormalizer, XGBoostClassifier\", \"run_properties\": \"<azureml.automl.runtime.shared.model_wrappers.SparseNormalizer object at 0x7fbc43116358\", \"primary_metric\": 0.8965369, \"best_metric\": 0.95138171}, {\"run_id\": \"AutoML_2e6c69b0-1fa0-4548-823c-38194d3b44b6_29\", \"run_number\": 34, \"metric\": null, \"status\": \"Completed\", \"run_type\": \"azureml.scriptrun\", \"training_percent\": \"100\", \"start_time\": \"2021-03-04T22:43:17.430686Z\", \"end_time\": \"2021-03-04T22:44:20.814454Z\", \"created_time\": \"2021-03-04T22:43:07.880938Z\", \"created_time_dt\": \"2021-03-04T22:43:07.880938Z\", \"duration\": \"0:01:12\", \"iteration\": \"29\", \"goal\": \"accuracy_max\", \"run_name\": \"MaxAbsScaler, ExtremeRandomTrees\", \"run_properties\": \"copy=True\", \"primary_metric\": 0.80878877, \"best_metric\": 0.95138171}, {\"run_id\": \"AutoML_2e6c69b0-1fa0-4548-823c-38194d3b44b6_30\", \"run_number\": 35, \"metric\": null, \"status\": \"Completed\", \"run_type\": \"azureml.scriptrun\", \"training_percent\": \"100\", \"start_time\": \"2021-03-04T22:43:25.075399Z\", \"end_time\": \"2021-03-04T22:44:10.159708Z\", \"created_time\": \"2021-03-04T22:43:15.726368Z\", \"created_time_dt\": \"2021-03-04T22:43:15.726368Z\", \"duration\": \"0:00:54\", \"iteration\": \"30\", \"goal\": \"accuracy_max\", \"run_name\": \"SparseNormalizer, LightGBM\", \"run_properties\": \"<azureml.automl.runtime.shared.model_wrappers.SparseNormalizer object at 0x7f6956cb7a90\", \"primary_metric\": 0.49047159, \"best_metric\": 0.95138171}, {\"run_id\": \"AutoML_2e6c69b0-1fa0-4548-823c-38194d3b44b6_31\", \"run_number\": 36, \"metric\": null, \"status\": \"Completed\", \"run_type\": \"azureml.scriptrun\", \"training_percent\": \"100\", \"start_time\": \"2021-03-04T22:43:28.058458Z\", \"end_time\": \"2021-03-04T22:45:19.960652Z\", \"created_time\": \"2021-03-04T22:43:18.801122Z\", \"created_time_dt\": \"2021-03-04T22:43:18.801122Z\", \"duration\": \"0:02:01\", \"iteration\": \"31\", \"goal\": \"accuracy_max\", \"run_name\": \"SparseNormalizer, ExtremeRandomTrees\", \"run_properties\": \"<azureml.automl.runtime.shared.model_wrappers.SparseNormalizer object at 0x7ff982e592b0\", \"primary_metric\": 0.79815814, \"best_metric\": 0.95138171}, {\"run_id\": \"AutoML_2e6c69b0-1fa0-4548-823c-38194d3b44b6_32\", \"run_number\": 37, \"metric\": null, \"status\": \"Completed\", \"run_type\": \"azureml.scriptrun\", \"training_percent\": \"100\", \"start_time\": \"2021-03-04T22:43:48.89781Z\", \"end_time\": \"2021-03-04T22:44:35.78594Z\", \"created_time\": \"2021-03-04T22:43:41.318105Z\", \"created_time_dt\": \"2021-03-04T22:43:41.318105Z\", \"duration\": \"0:00:54\", \"iteration\": \"32\", \"goal\": \"accuracy_max\", \"run_name\": \"MaxAbsScaler, LightGBM\", \"run_properties\": \"copy=True\", \"primary_metric\": 0.94543164, \"best_metric\": 0.95138171}, {\"run_id\": \"AutoML_2e6c69b0-1fa0-4548-823c-38194d3b44b6_33\", \"run_number\": 38, \"metric\": null, \"status\": \"Completed\", \"run_type\": \"azureml.scriptrun\", \"training_percent\": \"100\", \"start_time\": \"2021-03-04T22:44:24.794109Z\", \"end_time\": \"2021-03-04T22:45:07.913861Z\", \"created_time\": \"2021-03-04T22:44:12.156621Z\", \"created_time_dt\": \"2021-03-04T22:44:12.156621Z\", \"duration\": \"0:00:55\", \"iteration\": \"33\", \"goal\": \"accuracy_max\", \"run_name\": \"MaxAbsScaler, LightGBM\", \"run_properties\": \"copy=True\", \"primary_metric\": 0.86515014, \"best_metric\": 0.95138171}, {\"run_id\": \"AutoML_2e6c69b0-1fa0-4548-823c-38194d3b44b6_34\", \"run_number\": 39, \"metric\": null, \"status\": \"Completed\", \"run_type\": \"azureml.scriptrun\", \"training_percent\": \"100\", \"start_time\": \"2021-03-04T22:44:32.704926Z\", \"end_time\": \"2021-03-04T22:45:23.295714Z\", \"created_time\": \"2021-03-04T22:44:22.925816Z\", \"created_time_dt\": \"2021-03-04T22:44:22.925816Z\", \"duration\": \"0:01:00\", \"iteration\": \"34\", \"goal\": \"accuracy_max\", \"run_name\": \"MaxAbsScaler, LightGBM\", \"run_properties\": \"copy=True\", \"primary_metric\": 0.91879384, \"best_metric\": 0.95138171}, {\"run_id\": \"AutoML_2e6c69b0-1fa0-4548-823c-38194d3b44b6_35\", \"run_number\": 40, \"metric\": null, \"status\": \"Completed\", \"run_type\": \"azureml.scriptrun\", \"training_percent\": \"100\", \"start_time\": \"2021-03-04T22:44:46.705333Z\", \"end_time\": \"2021-03-04T22:45:37.009273Z\", \"created_time\": \"2021-03-04T22:44:38.183977Z\", \"created_time_dt\": \"2021-03-04T22:44:38.183977Z\", \"duration\": \"0:00:58\", \"iteration\": \"35\", \"goal\": \"accuracy_max\", \"run_name\": \"MaxAbsScaler, LightGBM\", \"run_properties\": \"copy=True\", \"primary_metric\": 0.49047159, \"best_metric\": 0.95138171}, {\"run_id\": \"AutoML_2e6c69b0-1fa0-4548-823c-38194d3b44b6_36\", \"run_number\": 41, \"metric\": null, \"status\": \"Completed\", \"run_type\": \"azureml.scriptrun\", \"training_percent\": \"100\", \"start_time\": \"2021-03-04T22:45:21.373737Z\", \"end_time\": \"2021-03-04T22:46:25.285152Z\", \"created_time\": \"2021-03-04T22:45:09.968642Z\", \"created_time_dt\": \"2021-03-04T22:45:09.968642Z\", \"duration\": \"0:01:15\", \"iteration\": \"36\", \"goal\": \"accuracy_max\", \"run_name\": \"SparseNormalizer, XGBoostClassifier\", \"run_properties\": \"<azureml.automl.runtime.shared.model_wrappers.SparseNormalizer object at 0x7f5a7a87dda0\", \"primary_metric\": 0.88106236, \"best_metric\": 0.95138171}, {\"run_id\": \"AutoML_2e6c69b0-1fa0-4548-823c-38194d3b44b6_37\", \"run_number\": 42, \"metric\": null, \"status\": \"Completed\", \"run_type\": \"azureml.scriptrun\", \"training_percent\": \"100\", \"start_time\": \"2021-03-04T22:45:30.617225Z\", \"end_time\": \"2021-03-04T22:46:27.51813Z\", \"created_time\": \"2021-03-04T22:45:21.573787Z\", \"created_time_dt\": \"2021-03-04T22:45:21.573787Z\", \"duration\": \"0:01:05\", \"iteration\": \"37\", \"goal\": \"accuracy_max\", \"run_name\": \"MaxAbsScaler, LightGBM\", \"run_properties\": \"copy=True\", \"primary_metric\": 0.94253043, \"best_metric\": 0.95138171}, {\"run_id\": \"AutoML_2e6c69b0-1fa0-4548-823c-38194d3b44b6_38\", \"run_number\": 43, \"metric\": null, \"status\": \"Completed\", \"run_type\": \"azureml.scriptrun\", \"training_percent\": \"100\", \"start_time\": \"2021-03-04T22:45:33.92704Z\", \"end_time\": \"2021-03-04T22:46:24.781804Z\", \"created_time\": \"2021-03-04T22:45:24.974418Z\", \"created_time_dt\": \"2021-03-04T22:45:24.974418Z\", \"duration\": \"0:00:59\", \"iteration\": \"38\", \"goal\": \"accuracy_max\", \"run_name\": \"StandardScalerWrapper, XGBoostClassifier\", \"run_properties\": \"<azureml.automl.runtime.shared.model_wrappers.StandardScalerWrapper object at 0x7f9436a93668\", \"primary_metric\": 0.94191916, \"best_metric\": 0.95138171}, {\"run_id\": \"AutoML_2e6c69b0-1fa0-4548-823c-38194d3b44b6_39\", \"run_number\": 44, \"metric\": null, \"status\": \"Completed\", \"run_type\": \"azureml.scriptrun\", \"training_percent\": \"100\", \"start_time\": \"2021-03-04T22:45:47.89004Z\", \"end_time\": \"2021-03-04T22:46:39.04168Z\", \"created_time\": \"2021-03-04T22:45:38.662499Z\", \"created_time_dt\": \"2021-03-04T22:45:38.662499Z\", \"duration\": \"0:01:00\", \"iteration\": \"39\", \"goal\": \"accuracy_max\", \"run_name\": \"SparseNormalizer, XGBoostClassifier\", \"run_properties\": \"<azureml.automl.runtime.shared.model_wrappers.SparseNormalizer object at 0x7ff2fc2a7cf8\", \"primary_metric\": 0.88029863, \"best_metric\": 0.95138171}, {\"run_id\": \"AutoML_2e6c69b0-1fa0-4548-823c-38194d3b44b6_40\", \"run_number\": 45, \"metric\": null, \"status\": \"Completed\", \"run_type\": \"azureml.scriptrun\", \"training_percent\": \"100\", \"start_time\": \"2021-03-04T22:46:10.824867Z\", \"end_time\": \"2021-03-04T22:46:57.804045Z\", \"created_time\": \"2021-03-04T22:45:59.829084Z\", \"created_time_dt\": \"2021-03-04T22:45:59.829084Z\", \"duration\": \"0:00:57\", \"iteration\": \"40\", \"goal\": \"accuracy_max\", \"run_name\": \"MaxAbsScaler, LightGBM\", \"run_properties\": \"copy=True\", \"primary_metric\": 0.8808185, \"best_metric\": 0.95138171}, {\"run_id\": \"AutoML_2e6c69b0-1fa0-4548-823c-38194d3b44b6_42\", \"run_number\": 46, \"metric\": null, \"status\": \"Completed\", \"run_type\": \"azureml.scriptrun\", \"training_percent\": \"100\", \"start_time\": \"2021-03-04T22:46:34.603186Z\", \"end_time\": \"2021-03-04T22:47:30.022551Z\", \"created_time\": \"2021-03-04T22:46:26.598276Z\", \"created_time_dt\": \"2021-03-04T22:46:26.598276Z\", \"duration\": \"0:01:03\", \"iteration\": \"42\", \"goal\": \"accuracy_max\", \"run_name\": \"SparseNormalizer, XGBoostClassifier\", \"run_properties\": \"<azureml.automl.runtime.shared.model_wrappers.SparseNormalizer object at 0x7f0589aa0940\", \"primary_metric\": 0.84155912, \"best_metric\": 0.95138171}, {\"run_id\": \"AutoML_2e6c69b0-1fa0-4548-823c-38194d3b44b6_41\", \"run_number\": 47, \"metric\": null, \"status\": \"Completed\", \"run_type\": \"azureml.scriptrun\", \"training_percent\": \"100\", \"start_time\": \"2021-03-04T22:46:34.853642Z\", \"end_time\": \"2021-03-04T22:47:23.921446Z\", \"created_time\": \"2021-03-04T22:46:26.602043Z\", \"created_time_dt\": \"2021-03-04T22:46:26.602043Z\", \"duration\": \"0:00:57\", \"iteration\": \"41\", \"goal\": \"accuracy_max\", \"run_name\": \"StandardScalerWrapper, LightGBM\", \"run_properties\": \"<azureml.automl.runtime.shared.model_wrappers.StandardScalerWrapper object at 0x7ff4585e5748\", \"primary_metric\": 0.90896808, \"best_metric\": 0.95138171}, {\"run_id\": \"AutoML_2e6c69b0-1fa0-4548-823c-38194d3b44b6_43\", \"run_number\": 48, \"metric\": null, \"status\": \"Completed\", \"run_type\": \"azureml.scriptrun\", \"training_percent\": \"100\", \"start_time\": \"2021-03-04T22:46:39.831903Z\", \"end_time\": \"2021-03-04T22:47:39.532195Z\", \"created_time\": \"2021-03-04T22:46:29.695593Z\", \"created_time_dt\": \"2021-03-04T22:46:29.695593Z\", \"duration\": \"0:01:09\", \"iteration\": \"43\", \"goal\": \"accuracy_max\", \"run_name\": \"StandardScalerWrapper, RandomForest\", \"run_properties\": \"<azureml.automl.runtime.shared.model_wrappers.StandardScalerWrapper object at 0x7ff049858c18\", \"primary_metric\": 0.82463534, \"best_metric\": 0.95138171}, {\"run_id\": \"AutoML_2e6c69b0-1fa0-4548-823c-38194d3b44b6_44\", \"run_number\": 49, \"metric\": null, \"status\": \"Completed\", \"run_type\": \"azureml.scriptrun\", \"training_percent\": \"100\", \"start_time\": \"2021-03-04T22:46:48.332831Z\", \"end_time\": \"2021-03-04T22:47:58.562103Z\", \"created_time\": \"2021-03-04T22:46:40.570595Z\", \"created_time_dt\": \"2021-03-04T22:46:40.570595Z\", \"duration\": \"0:01:17\", \"iteration\": \"44\", \"goal\": \"accuracy_max\", \"run_name\": \"StandardScalerWrapper, ExtremeRandomTrees\", \"run_properties\": \"<azureml.automl.runtime.shared.model_wrappers.StandardScalerWrapper object at 0x7f3b4d00dbe0\", \"primary_metric\": 0.86986578, \"best_metric\": 0.95138171}, {\"run_id\": \"AutoML_2e6c69b0-1fa0-4548-823c-38194d3b44b6_45\", \"run_number\": 50, \"metric\": null, \"status\": \"Completed\", \"run_type\": \"azureml.scriptrun\", \"training_percent\": \"100\", \"start_time\": \"2021-03-04T22:47:10.028876Z\", \"end_time\": \"2021-03-04T22:47:58.091084Z\", \"created_time\": \"2021-03-04T22:47:00.284701Z\", \"created_time_dt\": \"2021-03-04T22:47:00.284701Z\", \"duration\": \"0:00:57\", \"iteration\": \"45\", \"goal\": \"accuracy_max\", \"run_name\": \"MaxAbsScaler, LightGBM\", \"run_properties\": \"copy=True\", \"primary_metric\": 0.94838565, \"best_metric\": 0.95138171}, {\"run_id\": \"AutoML_2e6c69b0-1fa0-4548-823c-38194d3b44b6_46\", \"run_number\": 51, \"metric\": null, \"status\": \"Completed\", \"run_type\": \"azureml.scriptrun\", \"training_percent\": \"100\", \"start_time\": \"2021-03-04T22:47:34.863256Z\", \"end_time\": \"2021-03-04T22:48:26.853323Z\", \"created_time\": \"2021-03-04T22:47:26.86919Z\", \"created_time_dt\": \"2021-03-04T22:47:26.86919Z\", \"duration\": \"0:00:59\", \"iteration\": \"46\", \"goal\": \"accuracy_max\", \"run_name\": \"StandardScalerWrapper, XGBoostClassifier\", \"run_properties\": \"<azureml.automl.runtime.shared.model_wrappers.StandardScalerWrapper object at 0x7fed5dde4860\", \"primary_metric\": 0.95057119, \"best_metric\": 0.95138171}, {\"run_id\": \"AutoML_2e6c69b0-1fa0-4548-823c-38194d3b44b6_47\", \"run_number\": 52, \"metric\": null, \"status\": \"Completed\", \"run_type\": \"azureml.scriptrun\", \"training_percent\": \"100\", \"start_time\": \"2021-03-04T22:47:44.754087Z\", \"end_time\": \"2021-03-04T22:48:33.379137Z\", \"created_time\": \"2021-03-04T22:47:32.222089Z\", \"created_time_dt\": \"2021-03-04T22:47:32.222089Z\", \"duration\": \"0:01:01\", \"iteration\": \"47\", \"goal\": \"accuracy_max\", \"run_name\": \"SparseNormalizer, LightGBM\", \"run_properties\": \"<azureml.automl.runtime.shared.model_wrappers.SparseNormalizer object at 0x7f22d756f198\", \"primary_metric\": 0.86931113, \"best_metric\": 0.95138171}, {\"run_id\": \"AutoML_2e6c69b0-1fa0-4548-823c-38194d3b44b6_48\", \"run_number\": 53, \"metric\": null, \"status\": \"Completed\", \"run_type\": \"azureml.scriptrun\", \"training_percent\": \"100\", \"start_time\": \"2021-03-04T22:47:51.206336Z\", \"end_time\": \"2021-03-04T22:48:46.925978Z\", \"created_time\": \"2021-03-04T22:47:40.973169Z\", \"created_time_dt\": \"2021-03-04T22:47:40.973169Z\", \"duration\": \"0:01:05\", \"iteration\": \"48\", \"goal\": \"accuracy_max\", \"run_name\": \"StandardScalerWrapper, XGBoostClassifier\", \"run_properties\": \"<azureml.automl.runtime.shared.model_wrappers.StandardScalerWrapper object at 0x7f8ef17f5d30\", \"primary_metric\": 0.9450064, \"best_metric\": 0.95138171}, {\"run_id\": \"AutoML_2e6c69b0-1fa0-4548-823c-38194d3b44b6_49\", \"run_number\": 54, \"metric\": null, \"status\": \"Completed\", \"run_type\": \"azureml.scriptrun\", \"training_percent\": \"100\", \"start_time\": \"2021-03-04T22:48:10.909268Z\", \"end_time\": \"2021-03-04T22:49:01.152855Z\", \"created_time\": \"2021-03-04T22:48:00.725057Z\", \"created_time_dt\": \"2021-03-04T22:48:00.725057Z\", \"duration\": \"0:01:00\", \"iteration\": \"49\", \"goal\": \"accuracy_max\", \"run_name\": \"StandardScalerWrapper, LightGBM\", \"run_properties\": \"<azureml.automl.runtime.shared.model_wrappers.StandardScalerWrapper object at 0x7fdbe1ef1860\", \"primary_metric\": 0.94754643, \"best_metric\": 0.95138171}, {\"run_id\": \"AutoML_2e6c69b0-1fa0-4548-823c-38194d3b44b6_50\", \"run_number\": 55, \"metric\": null, \"status\": \"Completed\", \"run_type\": \"azureml.scriptrun\", \"training_percent\": \"100\", \"start_time\": \"2021-03-04T22:48:10.0462Z\", \"end_time\": \"2021-03-04T22:48:54.904939Z\", \"created_time\": \"2021-03-04T22:48:00.746315Z\", \"created_time_dt\": \"2021-03-04T22:48:00.746315Z\", \"duration\": \"0:00:54\", \"iteration\": \"50\", \"goal\": \"accuracy_max\", \"run_name\": \"SparseNormalizer, XGBoostClassifier\", \"run_properties\": \"<azureml.automl.runtime.shared.model_wrappers.SparseNormalizer object at 0x7f1c0741f1d0\", \"primary_metric\": 0.83920257, \"best_metric\": 0.95138171}, {\"run_id\": \"AutoML_2e6c69b0-1fa0-4548-823c-38194d3b44b6_51\", \"run_number\": 56, \"metric\": null, \"status\": \"Completed\", \"run_type\": \"azureml.scriptrun\", \"training_percent\": \"100\", \"start_time\": \"2021-03-04T22:48:40.898436Z\", \"end_time\": \"2021-03-04T22:49:38.133146Z\", \"created_time\": \"2021-03-04T22:48:28.664564Z\", \"created_time_dt\": \"2021-03-04T22:48:28.664564Z\", \"duration\": \"0:01:09\", \"iteration\": \"51\", \"goal\": \"accuracy_max\", \"run_name\": \"SparseNormalizer, XGBoostClassifier\", \"run_properties\": \"<azureml.automl.runtime.shared.model_wrappers.SparseNormalizer object at 0x7fa06121ac18\", \"primary_metric\": 0.85603807, \"best_metric\": 0.95138171}, {\"run_id\": \"AutoML_2e6c69b0-1fa0-4548-823c-38194d3b44b6_52\", \"run_number\": 57, \"metric\": null, \"status\": \"Completed\", \"run_type\": \"azureml.scriptrun\", \"training_percent\": \"100\", \"start_time\": \"2021-03-04T22:48:42.764741Z\", \"end_time\": \"2021-03-04T22:49:29.735132Z\", \"created_time\": \"2021-03-04T22:48:35.044273Z\", \"created_time_dt\": \"2021-03-04T22:48:35.044273Z\", \"duration\": \"0:00:54\", \"iteration\": \"52\", \"goal\": \"accuracy_max\", \"run_name\": \"StandardScalerWrapper, XGBoostClassifier\", \"run_properties\": \"<azureml.automl.runtime.shared.model_wrappers.StandardScalerWrapper object at 0x7f8745b81d30\", \"primary_metric\": 0.94666458, \"best_metric\": 0.95138171}, {\"run_id\": \"AutoML_2e6c69b0-1fa0-4548-823c-38194d3b44b6_53\", \"run_number\": 58, \"metric\": null, \"status\": \"Completed\", \"run_type\": \"azureml.scriptrun\", \"training_percent\": \"100\", \"start_time\": \"2021-03-04T22:48:58.762536Z\", \"end_time\": \"2021-03-04T22:49:47.428992Z\", \"created_time\": \"2021-03-04T22:48:50.30291Z\", \"created_time_dt\": \"2021-03-04T22:48:50.30291Z\", \"duration\": \"0:00:57\", \"iteration\": \"53\", \"goal\": \"accuracy_max\", \"run_name\": \"StandardScalerWrapper, XGBoostClassifier\", \"run_properties\": \"<azureml.automl.runtime.shared.model_wrappers.StandardScalerWrapper object at 0x7f88c5e64be0\", \"primary_metric\": 0.89960892, \"best_metric\": 0.95138171}, {\"run_id\": \"AutoML_2e6c69b0-1fa0-4548-823c-38194d3b44b6_54\", \"run_number\": 59, \"metric\": null, \"status\": \"Completed\", \"run_type\": \"azureml.scriptrun\", \"training_percent\": \"100\", \"start_time\": \"2021-03-04T22:49:07.908376Z\", \"end_time\": \"2021-03-04T22:50:28.029549Z\", \"created_time\": \"2021-03-04T22:48:56.720952Z\", \"created_time_dt\": \"2021-03-04T22:48:56.720952Z\", \"duration\": \"0:01:31\", \"iteration\": \"54\", \"goal\": \"accuracy_max\", \"run_name\": \"SparseNormalizer, XGBoostClassifier\", \"run_properties\": \"<azureml.automl.runtime.shared.model_wrappers.SparseNormalizer object at 0x7fea808bf710\", \"primary_metric\": 0.89934434, \"best_metric\": 0.95138171}, {\"run_id\": \"AutoML_2e6c69b0-1fa0-4548-823c-38194d3b44b6_55\", \"run_number\": 60, \"metric\": null, \"status\": \"Completed\", \"run_type\": \"azureml.scriptrun\", \"training_percent\": \"100\", \"start_time\": \"2021-03-04T22:49:11.742407Z\", \"end_time\": \"2021-03-04T22:50:02.541691Z\", \"created_time\": \"2021-03-04T22:49:03.605954Z\", \"created_time_dt\": \"2021-03-04T22:49:03.605954Z\", \"duration\": \"0:00:58\", \"iteration\": \"55\", \"goal\": \"accuracy_max\", \"run_name\": \"MaxAbsScaler, LightGBM\", \"run_properties\": \"copy=True\", \"primary_metric\": 0.9403155, \"best_metric\": 0.95138171}, {\"run_id\": \"AutoML_2e6c69b0-1fa0-4548-823c-38194d3b44b6_56\", \"run_number\": 61, \"metric\": null, \"status\": \"Completed\", \"run_type\": \"azureml.scriptrun\", \"training_percent\": \"100\", \"start_time\": \"2021-03-04T22:49:44.698965Z\", \"end_time\": \"2021-03-04T22:50:38.573643Z\", \"created_time\": \"2021-03-04T22:49:33.451149Z\", \"created_time_dt\": \"2021-03-04T22:49:33.451149Z\", \"duration\": \"0:01:05\", \"iteration\": \"56\", \"goal\": \"accuracy_max\", \"run_name\": \"StandardScalerWrapper, XGBoostClassifier\", \"run_properties\": \"<azureml.automl.runtime.shared.model_wrappers.StandardScalerWrapper object at 0x7f27c7efb9b0\", \"primary_metric\": 0.95334172, \"best_metric\": 0.95334172}, {\"run_id\": \"AutoML_2e6c69b0-1fa0-4548-823c-38194d3b44b6_57\", \"run_number\": 62, \"metric\": null, \"status\": \"Completed\", \"run_type\": \"azureml.scriptrun\", \"training_percent\": \"100\", \"start_time\": \"2021-03-04T22:49:48.412994Z\", \"end_time\": \"2021-03-04T22:50:38.33857Z\", \"created_time\": \"2021-03-04T22:49:39.72253Z\", \"created_time_dt\": \"2021-03-04T22:49:39.72253Z\", \"duration\": \"0:00:58\", \"iteration\": \"57\", \"goal\": \"accuracy_max\", \"run_name\": \"StandardScalerWrapper, XGBoostClassifier\", \"run_properties\": \"<azureml.automl.runtime.shared.model_wrappers.StandardScalerWrapper object at 0x7fb97c4cf710\", \"primary_metric\": 0.95214588, \"best_metric\": 0.95334172}, {\"run_id\": \"AutoML_2e6c69b0-1fa0-4548-823c-38194d3b44b6_58\", \"run_number\": 63, \"metric\": null, \"status\": \"Completed\", \"run_type\": \"azureml.scriptrun\", \"training_percent\": \"100\", \"start_time\": \"2021-03-04T22:49:58.797864Z\", \"end_time\": \"2021-03-04T22:51:07.786729Z\", \"created_time\": \"2021-03-04T22:49:49.177863Z\", \"created_time_dt\": \"2021-03-04T22:49:49.177863Z\", \"duration\": \"0:01:18\", \"iteration\": \"58\", \"goal\": \"accuracy_max\", \"run_name\": \"SparseNormalizer, XGBoostClassifier\", \"run_properties\": \"<azureml.automl.runtime.shared.model_wrappers.SparseNormalizer object at 0x7fd892895438\", \"primary_metric\": 0.89979679, \"best_metric\": 0.95334172}, {\"run_id\": \"AutoML_2e6c69b0-1fa0-4548-823c-38194d3b44b6_59\", \"run_number\": 64, \"metric\": null, \"status\": \"Completed\", \"run_type\": \"azureml.scriptrun\", \"training_percent\": \"100\", \"start_time\": \"2021-03-04T22:50:13.264105Z\", \"end_time\": \"2021-03-04T22:51:08.579681Z\", \"created_time\": \"2021-03-04T22:50:05.325903Z\", \"created_time_dt\": \"2021-03-04T22:50:05.325903Z\", \"duration\": \"0:01:03\", \"iteration\": \"59\", \"goal\": \"accuracy_max\", \"run_name\": \"StandardScalerWrapper, XGBoostClassifier\", \"run_properties\": \"<azureml.automl.runtime.shared.model_wrappers.StandardScalerWrapper object at 0x7f69b3b6eac8\", \"primary_metric\": 0.94034255, \"best_metric\": 0.95334172}, {\"run_id\": \"AutoML_2e6c69b0-1fa0-4548-823c-38194d3b44b6_60\", \"run_number\": 65, \"metric\": null, \"status\": \"Completed\", \"run_type\": \"azureml.scriptrun\", \"training_percent\": \"100\", \"start_time\": \"2021-03-04T22:50:42.175902Z\", \"end_time\": \"2021-03-04T22:51:26.542697Z\", \"created_time\": \"2021-03-04T22:50:32.269102Z\", \"created_time_dt\": \"2021-03-04T22:50:32.269102Z\", \"duration\": \"0:00:54\", \"iteration\": \"60\", \"goal\": \"accuracy_max\", \"run_name\": \"StandardScalerWrapper, LightGBM\", \"run_properties\": \"<azureml.automl.runtime.shared.model_wrappers.StandardScalerWrapper object at 0x7fc39299bc18\", \"primary_metric\": 0.93886933, \"best_metric\": 0.95334172}, {\"run_id\": \"AutoML_2e6c69b0-1fa0-4548-823c-38194d3b44b6_61\", \"run_number\": 66, \"metric\": null, \"status\": \"Completed\", \"run_type\": \"azureml.scriptrun\", \"training_percent\": \"100\", \"start_time\": \"2021-03-04T22:50:47.52303Z\", \"end_time\": \"2021-03-04T22:51:39.458215Z\", \"created_time\": \"2021-03-04T22:50:40.19394Z\", \"created_time_dt\": \"2021-03-04T22:50:40.19394Z\", \"duration\": \"0:00:59\", \"iteration\": \"61\", \"goal\": \"accuracy_max\", \"run_name\": \"StandardScalerWrapper, XGBoostClassifier\", \"run_properties\": \"<azureml.automl.runtime.shared.model_wrappers.StandardScalerWrapper object at 0x7fbd388581d0\", \"primary_metric\": 0.92654268, \"best_metric\": 0.95334172}, {\"run_id\": \"AutoML_2e6c69b0-1fa0-4548-823c-38194d3b44b6_62\", \"run_number\": 67, \"metric\": null, \"status\": \"Completed\", \"run_type\": \"azureml.scriptrun\", \"training_percent\": \"100\", \"start_time\": \"2021-03-04T22:50:49.534836Z\", \"end_time\": \"2021-03-04T22:51:42.621216Z\", \"created_time\": \"2021-03-04T22:50:40.464522Z\", \"created_time_dt\": \"2021-03-04T22:50:40.464522Z\", \"duration\": \"0:01:02\", \"iteration\": \"62\", \"goal\": \"accuracy_max\", \"run_name\": \"SparseNormalizer, XGBoostClassifier\", \"run_properties\": \"<azureml.automl.runtime.shared.model_wrappers.SparseNormalizer object at 0x7f96d41b99e8\", \"primary_metric\": 0.88045182, \"best_metric\": 0.95334172}, {\"run_id\": \"AutoML_2e6c69b0-1fa0-4548-823c-38194d3b44b6_63\", \"run_number\": 68, \"metric\": null, \"status\": \"Completed\", \"run_type\": \"azureml.scriptrun\", \"training_percent\": \"100\", \"start_time\": \"2021-03-04T22:51:25.496113Z\", \"end_time\": \"2021-03-04T22:52:27.526897Z\", \"created_time\": \"2021-03-04T22:51:10.098407Z\", \"created_time_dt\": \"2021-03-04T22:51:10.098407Z\", \"duration\": \"0:01:17\", \"iteration\": \"63\", \"goal\": \"accuracy_max\", \"run_name\": \"SparseNormalizer, XGBoostClassifier\", \"run_properties\": \"<azureml.automl.runtime.shared.model_wrappers.SparseNormalizer object at 0x7fef1b552d30\", \"primary_metric\": 0.89493721, \"best_metric\": 0.95334172}, {\"run_id\": \"AutoML_2e6c69b0-1fa0-4548-823c-38194d3b44b6_64\", \"run_number\": 69, \"metric\": null, \"status\": \"Completed\", \"run_type\": \"azureml.scriptrun\", \"training_percent\": \"100\", \"start_time\": \"2021-03-04T22:51:25.68027Z\", \"end_time\": \"2021-03-04T22:52:22.351567Z\", \"created_time\": \"2021-03-04T22:51:13.303076Z\", \"created_time_dt\": \"2021-03-04T22:51:13.303076Z\", \"duration\": \"0:01:09\", \"iteration\": \"64\", \"goal\": \"accuracy_max\", \"run_name\": \"StandardScalerWrapper, XGBoostClassifier\", \"run_properties\": \"<azureml.automl.runtime.shared.model_wrappers.StandardScalerWrapper object at 0x7ff26e1a0940\", \"primary_metric\": 0.94991495, \"best_metric\": 0.95334172}, {\"run_id\": \"AutoML_2e6c69b0-1fa0-4548-823c-38194d3b44b6_65\", \"run_number\": 70, \"metric\": null, \"status\": \"Completed\", \"run_type\": \"azureml.scriptrun\", \"training_percent\": \"100\", \"start_time\": \"2021-03-04T22:51:37.684136Z\", \"end_time\": \"2021-03-04T22:52:33.072797Z\", \"created_time\": \"2021-03-04T22:51:29.494179Z\", \"created_time_dt\": \"2021-03-04T22:51:29.494179Z\", \"duration\": \"0:01:03\", \"iteration\": \"65\", \"goal\": \"accuracy_max\", \"run_name\": \"StandardScalerWrapper, XGBoostClassifier\", \"run_properties\": \"<azureml.automl.runtime.shared.model_wrappers.StandardScalerWrapper object at 0x7f12535b7710\", \"primary_metric\": 0.94194857, \"best_metric\": 0.95334172}, {\"run_id\": \"AutoML_2e6c69b0-1fa0-4548-823c-38194d3b44b6_66\", \"run_number\": 71, \"metric\": null, \"status\": \"Completed\", \"run_type\": \"azureml.scriptrun\", \"training_percent\": \"100\", \"start_time\": \"2021-03-04T22:51:54.387535Z\", \"end_time\": \"2021-03-04T22:52:41.078935Z\", \"created_time\": \"2021-03-04T22:51:41.198196Z\", \"created_time_dt\": \"2021-03-04T22:51:41.198196Z\", \"duration\": \"0:00:59\", \"iteration\": \"66\", \"goal\": \"accuracy_max\", \"run_name\": \"StandardScalerWrapper, XGBoostClassifier\", \"run_properties\": \"<azureml.automl.runtime.shared.model_wrappers.StandardScalerWrapper object at 0x7fc273dfac18\", \"primary_metric\": 0.92341312, \"best_metric\": 0.95334172}, {\"run_id\": \"AutoML_2e6c69b0-1fa0-4548-823c-38194d3b44b6_67\", \"run_number\": 72, \"metric\": null, \"status\": \"Completed\", \"run_type\": \"azureml.scriptrun\", \"training_percent\": \"100\", \"start_time\": \"2021-03-04T22:51:57.861237Z\", \"end_time\": \"2021-03-04T22:52:41.283196Z\", \"created_time\": \"2021-03-04T22:51:45.990696Z\", \"created_time_dt\": \"2021-03-04T22:51:45.990696Z\", \"duration\": \"0:00:55\", \"iteration\": \"67\", \"goal\": \"accuracy_max\", \"run_name\": \"MaxAbsScaler, LightGBM\", \"run_properties\": \"copy=True\", \"primary_metric\": 0.93309167, \"best_metric\": 0.95334172}, {\"run_id\": \"AutoML_2e6c69b0-1fa0-4548-823c-38194d3b44b6_68\", \"run_number\": 73, \"metric\": null, \"status\": \"Completed\", \"run_type\": \"azureml.scriptrun\", \"training_percent\": \"100\", \"start_time\": \"2021-03-04T22:52:33.494997Z\", \"end_time\": \"2021-03-04T22:53:45.016972Z\", \"created_time\": \"2021-03-04T22:52:24.000758Z\", \"created_time_dt\": \"2021-03-04T22:52:24.000758Z\", \"duration\": \"0:01:21\", \"iteration\": \"68\", \"goal\": \"accuracy_max\", \"run_name\": \"SparseNormalizer, XGBoostClassifier\", \"run_properties\": \"<azureml.automl.runtime.shared.model_wrappers.SparseNormalizer object at 0x7fd237a11d30\", \"primary_metric\": 0.8984093, \"best_metric\": 0.95334172}, {\"run_id\": \"AutoML_2e6c69b0-1fa0-4548-823c-38194d3b44b6_69\", \"run_number\": 74, \"metric\": null, \"status\": \"Completed\", \"run_type\": \"azureml.scriptrun\", \"training_percent\": \"100\", \"start_time\": \"2021-03-04T22:52:39.980426Z\", \"end_time\": \"2021-03-04T22:53:26.730207Z\", \"created_time\": \"2021-03-04T22:52:29.832438Z\", \"created_time_dt\": \"2021-03-04T22:52:29.832438Z\", \"duration\": \"0:00:56\", \"iteration\": \"69\", \"goal\": \"accuracy_max\", \"run_name\": \"StandardScalerWrapper, LightGBM\", \"run_properties\": \"<azureml.automl.runtime.shared.model_wrappers.StandardScalerWrapper object at 0x7fc6f9881ac8\", \"primary_metric\": 0.93917521, \"best_metric\": 0.95334172}, {\"run_id\": \"AutoML_2e6c69b0-1fa0-4548-823c-38194d3b44b6_70\", \"run_number\": 75, \"metric\": null, \"status\": \"Completed\", \"run_type\": \"azureml.scriptrun\", \"training_percent\": \"100\", \"start_time\": \"2021-03-04T22:52:46.894627Z\", \"end_time\": \"2021-03-04T22:53:58.0069Z\", \"created_time\": \"2021-03-04T22:52:35.995093Z\", \"created_time_dt\": \"2021-03-04T22:52:35.995093Z\", \"duration\": \"0:01:22\", \"iteration\": \"70\", \"goal\": \"accuracy_max\", \"run_name\": \"StandardScalerWrapper, XGBoostClassifier\", \"run_properties\": \"<azureml.automl.runtime.shared.model_wrappers.StandardScalerWrapper object at 0x7f34c7642b38\", \"primary_metric\": 0.94498485, \"best_metric\": 0.95334172}, {\"run_id\": \"AutoML_2e6c69b0-1fa0-4548-823c-38194d3b44b6_71\", \"run_number\": 76, \"metric\": null, \"status\": \"Completed\", \"run_type\": \"azureml.scriptrun\", \"training_percent\": \"100\", \"start_time\": \"2021-03-04T22:52:51.647897Z\", \"end_time\": \"2021-03-04T22:53:47.001322Z\", \"created_time\": \"2021-03-04T22:52:42.827992Z\", \"created_time_dt\": \"2021-03-04T22:52:42.827992Z\", \"duration\": \"0:01:04\", \"iteration\": \"71\", \"goal\": \"accuracy_max\", \"run_name\": \"StandardScalerWrapper, XGBoostClassifier\", \"run_properties\": \"<azureml.automl.runtime.shared.model_wrappers.StandardScalerWrapper object at 0x7fe558689da0\", \"primary_metric\": 0.94843628, \"best_metric\": 0.95334172}, {\"run_id\": \"AutoML_2e6c69b0-1fa0-4548-823c-38194d3b44b6_72\", \"run_number\": 77, \"metric\": null, \"status\": \"Completed\", \"run_type\": \"azureml.scriptrun\", \"training_percent\": \"100\", \"start_time\": \"2021-03-04T22:52:54.882816Z\", \"end_time\": \"2021-03-04T22:53:42.653276Z\", \"created_time\": \"2021-03-04T22:52:42.833331Z\", \"created_time_dt\": \"2021-03-04T22:52:42.833331Z\", \"duration\": \"0:00:59\", \"iteration\": \"72\", \"goal\": \"accuracy_max\", \"run_name\": \"StandardScalerWrapper, XGBoostClassifier\", \"run_properties\": \"<azureml.automl.runtime.shared.model_wrappers.StandardScalerWrapper object at 0x7f45671cceb8\", \"primary_metric\": 0.93916906, \"best_metric\": 0.95334172}, {\"run_id\": \"AutoML_2e6c69b0-1fa0-4548-823c-38194d3b44b6_73\", \"run_number\": 78, \"metric\": null, \"status\": \"Completed\", \"run_type\": \"azureml.scriptrun\", \"training_percent\": \"100\", \"start_time\": \"2021-03-04T22:53:41.930208Z\", \"end_time\": \"2021-03-04T22:54:29.790616Z\", \"created_time\": \"2021-03-04T22:53:28.972505Z\", \"created_time_dt\": \"2021-03-04T22:53:28.972505Z\", \"duration\": \"0:01:00\", \"iteration\": \"73\", \"goal\": \"accuracy_max\", \"run_name\": \"StandardScalerWrapper, XGBoostClassifier\", \"run_properties\": \"<azureml.automl.runtime.shared.model_wrappers.StandardScalerWrapper object at 0x7f4edc9a03c8\", \"primary_metric\": 0.93875558, \"best_metric\": 0.95334172}, {\"run_id\": \"AutoML_2e6c69b0-1fa0-4548-823c-38194d3b44b6_74\", \"run_number\": 79, \"metric\": null, \"status\": \"Completed\", \"run_type\": \"azureml.scriptrun\", \"training_percent\": \"100\", \"start_time\": \"2021-03-04T22:53:58.85039Z\", \"end_time\": \"2021-03-04T22:54:51.04322Z\", \"created_time\": \"2021-03-04T22:53:45.317255Z\", \"created_time_dt\": \"2021-03-04T22:53:45.317255Z\", \"duration\": \"0:01:05\", \"iteration\": \"74\", \"goal\": \"accuracy_max\", \"run_name\": \"SparseNormalizer, XGBoostClassifier\", \"run_properties\": \"<azureml.automl.runtime.shared.model_wrappers.SparseNormalizer object at 0x7f85aa146b38\", \"primary_metric\": 0.86830408, \"best_metric\": 0.95334172}, {\"run_id\": \"AutoML_2e6c69b0-1fa0-4548-823c-38194d3b44b6_75\", \"run_number\": 80, \"metric\": null, \"status\": \"Completed\", \"run_type\": \"azureml.scriptrun\", \"training_percent\": \"100\", \"start_time\": \"2021-03-04T22:54:02.107761Z\", \"end_time\": \"2021-03-04T22:54:52.983375Z\", \"created_time\": \"2021-03-04T22:53:51.603764Z\", \"created_time_dt\": \"2021-03-04T22:53:51.603764Z\", \"duration\": \"0:01:01\", \"iteration\": \"75\", \"goal\": \"accuracy_max\", \"run_name\": \"StandardScalerWrapper, XGBoostClassifier\", \"run_properties\": \"<azureml.automl.runtime.shared.model_wrappers.StandardScalerWrapper object at 0x7f407a3b4f60\", \"primary_metric\": 0.94463294, \"best_metric\": 0.95334172}, {\"run_id\": \"AutoML_2e6c69b0-1fa0-4548-823c-38194d3b44b6_76\", \"run_number\": 81, \"metric\": null, \"status\": \"Completed\", \"run_type\": \"azureml.scriptrun\", \"training_percent\": \"100\", \"start_time\": \"2021-03-04T22:54:00.522495Z\", \"end_time\": \"2021-03-04T22:54:58.968933Z\", \"created_time\": \"2021-03-04T22:53:51.651193Z\", \"created_time_dt\": \"2021-03-04T22:53:51.651193Z\", \"duration\": \"0:01:07\", \"iteration\": \"76\", \"goal\": \"accuracy_max\", \"run_name\": \"StandardScalerWrapper, XGBoostClassifier\", \"run_properties\": \"<azureml.automl.runtime.shared.model_wrappers.StandardScalerWrapper object at 0x7f28fe49d8d0\", \"primary_metric\": 0.95414703, \"best_metric\": 0.95414703}, {\"run_id\": \"AutoML_2e6c69b0-1fa0-4548-823c-38194d3b44b6_77\", \"run_number\": 82, \"metric\": null, \"status\": \"Completed\", \"run_type\": \"azureml.scriptrun\", \"training_percent\": \"100\", \"start_time\": \"2021-03-04T22:54:08.571522Z\", \"end_time\": \"2021-03-04T22:54:50.94908Z\", \"created_time\": \"2021-03-04T22:53:59.656514Z\", \"created_time_dt\": \"2021-03-04T22:53:59.656514Z\", \"duration\": \"0:00:51\", \"iteration\": \"77\", \"goal\": \"accuracy_max\", \"run_name\": \"MaxAbsScaler, LightGBM\", \"run_properties\": \"copy=True\", \"primary_metric\": 0.93512253, \"best_metric\": 0.95414703}, {\"run_id\": \"AutoML_2e6c69b0-1fa0-4548-823c-38194d3b44b6_78\", \"run_number\": 83, \"metric\": null, \"status\": \"Completed\", \"run_type\": \"azureml.scriptrun\", \"training_percent\": \"100\", \"start_time\": \"2021-03-04T22:54:41.693698Z\", \"end_time\": \"2021-03-04T22:55:41.648296Z\", \"created_time\": \"2021-03-04T22:54:31.744794Z\", \"created_time_dt\": \"2021-03-04T22:54:31.744794Z\", \"duration\": \"0:01:09\", \"iteration\": \"78\", \"goal\": \"accuracy_max\", \"run_name\": \"SparseNormalizer, XGBoostClassifier\", \"run_properties\": \"<azureml.automl.runtime.shared.model_wrappers.SparseNormalizer object at 0x7f75d834ada0\", \"primary_metric\": 0.87007422, \"best_metric\": 0.95414703}, {\"run_id\": \"AutoML_2e6c69b0-1fa0-4548-823c-38194d3b44b6_80\", \"run_number\": 84, \"metric\": null, \"status\": \"Completed\", \"run_type\": \"azureml.scriptrun\", \"training_percent\": \"100\", \"start_time\": \"2021-03-04T22:55:03.089178Z\", \"end_time\": \"2021-03-04T22:55:49.402821Z\", \"created_time\": \"2021-03-04T22:54:54.802006Z\", \"created_time_dt\": \"2021-03-04T22:54:54.802006Z\", \"duration\": \"0:00:54\", \"iteration\": \"80\", \"goal\": \"accuracy_max\", \"run_name\": \"StandardScalerWrapper, LightGBM\", \"run_properties\": \"<azureml.automl.runtime.shared.model_wrappers.StandardScalerWrapper object at 0x7f8ec8754e48\", \"primary_metric\": 0.95458625, \"best_metric\": 0.95458625}, {\"run_id\": \"AutoML_2e6c69b0-1fa0-4548-823c-38194d3b44b6_79\", \"run_number\": 85, \"metric\": null, \"status\": \"Completed\", \"run_type\": \"azureml.scriptrun\", \"training_percent\": \"100\", \"start_time\": \"2021-03-04T22:55:03.099101Z\", \"end_time\": \"2021-03-04T22:55:58.80684Z\", \"created_time\": \"2021-03-04T22:54:54.980411Z\", \"created_time_dt\": \"2021-03-04T22:54:54.980411Z\", \"duration\": \"0:01:03\", \"iteration\": \"79\", \"goal\": \"accuracy_max\", \"run_name\": \"StandardScalerWrapper, XGBoostClassifier\", \"run_properties\": \"<azureml.automl.runtime.shared.model_wrappers.StandardScalerWrapper object at 0x7f4f9f547d30\", \"primary_metric\": 0.95244263, \"best_metric\": 0.95414703}, {\"run_id\": \"AutoML_2e6c69b0-1fa0-4548-823c-38194d3b44b6_81\", \"run_number\": 86, \"metric\": null, \"status\": \"Completed\", \"run_type\": \"azureml.scriptrun\", \"training_percent\": \"100\", \"start_time\": \"2021-03-04T22:55:07.799104Z\", \"end_time\": \"2021-03-04T22:55:58.904124Z\", \"created_time\": \"2021-03-04T22:54:58.019488Z\", \"created_time_dt\": \"2021-03-04T22:54:58.019488Z\", \"duration\": \"0:01:00\", \"iteration\": \"81\", \"goal\": \"accuracy_max\", \"run_name\": \"MaxAbsScaler, LightGBM\", \"run_properties\": \"copy=True\", \"primary_metric\": 0.89940527, \"best_metric\": 0.95458625}, {\"run_id\": \"AutoML_2e6c69b0-1fa0-4548-823c-38194d3b44b6_82\", \"run_number\": 87, \"metric\": null, \"status\": \"Completed\", \"run_type\": \"azureml.scriptrun\", \"training_percent\": \"100\", \"start_time\": \"2021-03-04T22:55:09.012978Z\", \"end_time\": \"2021-03-04T22:56:01.366063Z\", \"created_time\": \"2021-03-04T22:55:01.294816Z\", \"created_time_dt\": \"2021-03-04T22:55:01.294816Z\", \"duration\": \"0:01:00\", \"iteration\": \"82\", \"goal\": \"accuracy_max\", \"run_name\": \"SparseNormalizer, XGBoostClassifier\", \"run_properties\": \"<azureml.automl.runtime.shared.model_wrappers.SparseNormalizer object at 0x7fa632258da0\", \"primary_metric\": 0.82036691, \"best_metric\": 0.95458625}, {\"run_id\": \"AutoML_2e6c69b0-1fa0-4548-823c-38194d3b44b6_83\", \"run_number\": 88, \"metric\": null, \"status\": \"Completed\", \"run_type\": \"azureml.scriptrun\", \"training_percent\": \"100\", \"start_time\": \"2021-03-04T22:55:54.111855Z\", \"end_time\": \"2021-03-04T22:56:39.083127Z\", \"created_time\": \"2021-03-04T22:55:43.507482Z\", \"created_time_dt\": \"2021-03-04T22:55:43.507482Z\", \"duration\": \"0:00:55\", \"iteration\": \"83\", \"goal\": \"accuracy_max\", \"run_name\": \"StandardScalerWrapper, XGBoostClassifier\", \"run_properties\": \"<azureml.automl.runtime.shared.model_wrappers.StandardScalerWrapper object at 0x7f22d69d8d30\", \"primary_metric\": 0.82774789, \"best_metric\": 0.95458625}, {\"run_id\": \"AutoML_2e6c69b0-1fa0-4548-823c-38194d3b44b6_84\", \"run_number\": 89, \"metric\": null, \"status\": \"Completed\", \"run_type\": \"azureml.scriptrun\", \"training_percent\": \"100\", \"start_time\": \"2021-03-04T22:56:02.063246Z\", \"end_time\": \"2021-03-04T22:56:47.174489Z\", \"created_time\": \"2021-03-04T22:55:50.984342Z\", \"created_time_dt\": \"2021-03-04T22:55:50.984342Z\", \"duration\": \"0:00:56\", \"iteration\": \"84\", \"goal\": \"accuracy_max\", \"run_name\": \"StandardScalerWrapper, XGBoostClassifier\", \"run_properties\": \"<azureml.automl.runtime.shared.model_wrappers.StandardScalerWrapper object at 0x7f9286046b70\", \"primary_metric\": 0.92601615, \"best_metric\": 0.95458625}, {\"run_id\": \"AutoML_2e6c69b0-1fa0-4548-823c-38194d3b44b6_85\", \"run_number\": 90, \"metric\": null, \"status\": \"Completed\", \"run_type\": \"azureml.scriptrun\", \"training_percent\": \"100\", \"start_time\": \"2021-03-04T22:56:10.958189Z\", \"end_time\": \"2021-03-04T22:56:57.616321Z\", \"created_time\": \"2021-03-04T22:56:01.655365Z\", \"created_time_dt\": \"2021-03-04T22:56:01.655365Z\", \"duration\": \"0:00:55\", \"iteration\": \"85\", \"goal\": \"accuracy_max\", \"run_name\": \"SparseNormalizer, LightGBM\", \"run_properties\": \"<azureml.automl.runtime.shared.model_wrappers.SparseNormalizer object at 0x7f9bc592eac8\", \"primary_metric\": 0.87708997, \"best_metric\": 0.95458625}, {\"run_id\": \"AutoML_2e6c69b0-1fa0-4548-823c-38194d3b44b6_86\", \"run_number\": 91, \"metric\": null, \"status\": \"Completed\", \"run_type\": \"azureml.scriptrun\", \"training_percent\": \"100\", \"start_time\": \"2021-03-04T22:56:11.227227Z\", \"end_time\": \"2021-03-04T22:57:11.452739Z\", \"created_time\": \"2021-03-04T22:56:01.683395Z\", \"created_time_dt\": \"2021-03-04T22:56:01.683395Z\", \"duration\": \"0:01:09\", \"iteration\": \"86\", \"goal\": \"accuracy_max\", \"run_name\": \"StandardScalerWrapper, XGBoostClassifier\", \"run_properties\": \"<azureml.automl.runtime.shared.model_wrappers.StandardScalerWrapper object at 0x7fec089552e8\", \"primary_metric\": 0.94849062, \"best_metric\": 0.95458625}, {\"run_id\": \"AutoML_2e6c69b0-1fa0-4548-823c-38194d3b44b6_87\", \"run_number\": 92, \"metric\": null, \"status\": \"Completed\", \"run_type\": \"azureml.scriptrun\", \"training_percent\": \"100\", \"start_time\": \"2021-03-04T22:56:13.035449Z\", \"end_time\": \"2021-03-04T22:57:05.131093Z\", \"created_time\": \"2021-03-04T22:56:05.380809Z\", \"created_time_dt\": \"2021-03-04T22:56:05.380809Z\", \"duration\": \"0:00:59\", \"iteration\": \"87\", \"goal\": \"accuracy_max\", \"run_name\": \"StandardScalerWrapper, XGBoostClassifier\", \"run_properties\": \"<azureml.automl.runtime.shared.model_wrappers.StandardScalerWrapper object at 0x7feff446cac8\", \"primary_metric\": 0.95234811, \"best_metric\": 0.95458625}, {\"run_id\": \"AutoML_2e6c69b0-1fa0-4548-823c-38194d3b44b6_88\", \"run_number\": 93, \"metric\": null, \"status\": \"Completed\", \"run_type\": \"azureml.scriptrun\", \"training_percent\": \"100\", \"start_time\": \"2021-03-04T22:56:48.682638Z\", \"end_time\": \"2021-03-04T22:57:41.447052Z\", \"created_time\": \"2021-03-04T22:56:40.8832Z\", \"created_time_dt\": \"2021-03-04T22:56:40.8832Z\", \"duration\": \"0:01:00\", \"iteration\": \"88\", \"goal\": \"accuracy_max\", \"run_name\": \"MaxAbsScaler, LogisticRegression\", \"run_properties\": \"copy=True\", \"primary_metric\": 0.86465777, \"best_metric\": 0.95458625}, {\"run_id\": \"AutoML_2e6c69b0-1fa0-4548-823c-38194d3b44b6_89\", \"run_number\": 94, \"metric\": null, \"status\": \"Completed\", \"run_type\": \"azureml.scriptrun\", \"training_percent\": \"100\", \"start_time\": \"2021-03-04T22:57:04.424781Z\", \"end_time\": \"2021-03-04T22:58:08.881442Z\", \"created_time\": \"2021-03-04T22:56:48.955579Z\", \"created_time_dt\": \"2021-03-04T22:56:48.955579Z\", \"duration\": \"0:01:19\", \"iteration\": \"89\", \"goal\": \"accuracy_max\", \"run_name\": \"SparseNormalizer, XGBoostClassifier\", \"run_properties\": \"<azureml.automl.runtime.shared.model_wrappers.SparseNormalizer object at 0x7fbca285bd68\", \"primary_metric\": 0.88956899, \"best_metric\": 0.95458625}, {\"run_id\": \"AutoML_2e6c69b0-1fa0-4548-823c-38194d3b44b6_90\", \"run_number\": 95, \"metric\": null, \"status\": \"Completed\", \"run_type\": \"azureml.scriptrun\", \"training_percent\": \"100\", \"start_time\": \"2021-03-04T22:57:08.851755Z\", \"end_time\": \"2021-03-04T22:57:52.542601Z\", \"created_time\": \"2021-03-04T22:57:00.310389Z\", \"created_time_dt\": \"2021-03-04T22:57:00.310389Z\", \"duration\": \"0:00:52\", \"iteration\": \"90\", \"goal\": \"accuracy_max\", \"run_name\": \"MaxAbsScaler, LightGBM\", \"run_properties\": \"copy=True\", \"primary_metric\": 0.92713901, \"best_metric\": 0.95458625}, {\"run_id\": \"AutoML_2e6c69b0-1fa0-4548-823c-38194d3b44b6_91\", \"run_number\": 96, \"metric\": null, \"status\": \"Completed\", \"run_type\": \"azureml.scriptrun\", \"training_percent\": \"100\", \"start_time\": \"2021-03-04T22:57:18.207803Z\", \"end_time\": \"2021-03-04T22:58:12.420093Z\", \"created_time\": \"2021-03-04T22:57:06.712383Z\", \"created_time_dt\": \"2021-03-04T22:57:06.712383Z\", \"duration\": \"0:01:05\", \"iteration\": \"91\", \"goal\": \"accuracy_max\", \"run_name\": \"SparseNormalizer, XGBoostClassifier\", \"run_properties\": \"<azureml.automl.runtime.shared.model_wrappers.SparseNormalizer object at 0x7f7320726748\", \"primary_metric\": 0.86042158, \"best_metric\": 0.95458625}, {\"run_id\": \"AutoML_2e6c69b0-1fa0-4548-823c-38194d3b44b6_92\", \"run_number\": 97, \"metric\": null, \"status\": \"Completed\", \"run_type\": \"azureml.scriptrun\", \"training_percent\": \"100\", \"start_time\": \"2021-03-04T22:57:22.838166Z\", \"end_time\": \"2021-03-04T22:58:10.341645Z\", \"created_time\": \"2021-03-04T22:57:13.059353Z\", \"created_time_dt\": \"2021-03-04T22:57:13.059353Z\", \"duration\": \"0:00:57\", \"iteration\": \"92\", \"goal\": \"accuracy_max\", \"run_name\": \"StandardScalerWrapper, XGBoostClassifier\", \"run_properties\": \"<azureml.automl.runtime.shared.model_wrappers.StandardScalerWrapper object at 0x7fc74ae17a58\", \"primary_metric\": 0.95024354, \"best_metric\": 0.95458625}, {\"run_id\": \"AutoML_2e6c69b0-1fa0-4548-823c-38194d3b44b6_93\", \"run_number\": 98, \"metric\": null, \"status\": \"Completed\", \"run_type\": \"azureml.scriptrun\", \"training_percent\": \"100\", \"start_time\": \"2021-03-04T22:57:50.451901Z\", \"end_time\": \"2021-03-04T22:58:39.681387Z\", \"created_time\": \"2021-03-04T22:57:43.105134Z\", \"created_time_dt\": \"2021-03-04T22:57:43.105134Z\", \"duration\": \"0:00:56\", \"iteration\": \"93\", \"goal\": \"accuracy_max\", \"run_name\": \"StandardScalerWrapper, XGBoostClassifier\", \"run_properties\": \"<azureml.automl.runtime.shared.model_wrappers.StandardScalerWrapper object at 0x7f3515469978\", \"primary_metric\": 0.93919551, \"best_metric\": 0.95458625}, {\"run_id\": \"AutoML_2e6c69b0-1fa0-4548-823c-38194d3b44b6_94\", \"run_number\": 99, \"metric\": null, \"status\": \"Completed\", \"run_type\": \"azureml.scriptrun\", \"training_percent\": \"100\", \"start_time\": \"2021-03-04T22:58:05.360778Z\", \"end_time\": \"2021-03-04T22:59:33.17604Z\", \"created_time\": \"2021-03-04T22:57:54.193785Z\", \"created_time_dt\": \"2021-03-04T22:57:54.193785Z\", \"duration\": \"0:01:38\", \"iteration\": \"94\", \"goal\": \"accuracy_max\", \"run_name\": \"StandardScalerWrapper, XGBoostClassifier\", \"run_properties\": \"<azureml.automl.runtime.shared.model_wrappers.StandardScalerWrapper object at 0x7f9611075390\", \"primary_metric\": 0.95387069, \"best_metric\": 0.95458625}, {\"run_id\": \"AutoML_2e6c69b0-1fa0-4548-823c-38194d3b44b6_95\", \"run_number\": 100, \"metric\": null, \"status\": \"Completed\", \"run_type\": \"azureml.scriptrun\", \"training_percent\": \"100\", \"start_time\": \"2021-03-04T22:58:23.021442Z\", \"end_time\": \"2021-03-04T22:59:07.377096Z\", \"created_time\": \"2021-03-04T22:58:11.488234Z\", \"created_time_dt\": \"2021-03-04T22:58:11.488234Z\", \"duration\": \"0:00:55\", \"iteration\": \"95\", \"goal\": \"accuracy_max\", \"run_name\": \"MaxAbsScaler, LightGBM\", \"run_properties\": \"copy=True\", \"primary_metric\": 0.94387067, \"best_metric\": 0.95458625}, {\"run_id\": \"AutoML_2e6c69b0-1fa0-4548-823c-38194d3b44b6_96\", \"run_number\": 101, \"metric\": null, \"status\": \"Completed\", \"run_type\": \"azureml.scriptrun\", \"training_percent\": \"100\", \"start_time\": \"2021-03-04T22:58:24.382431Z\", \"end_time\": \"2021-03-04T22:59:12.142844Z\", \"created_time\": \"2021-03-04T22:58:14.40907Z\", \"created_time_dt\": \"2021-03-04T22:58:14.40907Z\", \"duration\": \"0:00:57\", \"iteration\": \"96\", \"goal\": \"accuracy_max\", \"run_name\": \"StandardScalerWrapper, XGBoostClassifier\", \"run_properties\": \"<azureml.automl.runtime.shared.model_wrappers.StandardScalerWrapper object at 0x7f8aaa8decf8\", \"primary_metric\": 0.91102851, \"best_metric\": 0.95458625}, {\"run_id\": \"AutoML_2e6c69b0-1fa0-4548-823c-38194d3b44b6_97\", \"run_number\": 102, \"metric\": null, \"status\": \"Completed\", \"run_type\": \"azureml.scriptrun\", \"training_percent\": \"100\", \"start_time\": \"2021-03-04T22:58:22.892061Z\", \"end_time\": \"2021-03-04T22:59:40.69584Z\", \"created_time\": \"2021-03-04T22:58:14.518529Z\", \"created_time_dt\": \"2021-03-04T22:58:14.518529Z\", \"duration\": \"0:01:26\", \"iteration\": \"97\", \"goal\": \"accuracy_max\", \"run_name\": \"SparseNormalizer, XGBoostClassifier\", \"run_properties\": \"<azureml.automl.runtime.shared.model_wrappers.SparseNormalizer object at 0x7f3a9a9a6ef0\", \"primary_metric\": 0.90352836, \"best_metric\": 0.95458625}, {\"run_id\": \"AutoML_2e6c69b0-1fa0-4548-823c-38194d3b44b6_98\", \"run_number\": 103, \"metric\": null, \"status\": \"Completed\", \"run_type\": \"azureml.scriptrun\", \"training_percent\": \"100\", \"start_time\": \"2021-03-04T22:59:52.215699Z\", \"end_time\": \"2021-03-04T23:01:22.544805Z\", \"created_time\": \"2021-03-04T22:59:41.570002Z\", \"created_time_dt\": \"2021-03-04T22:59:41.570002Z\", \"duration\": \"0:01:40\", \"iteration\": \"98\", \"goal\": \"accuracy_max\", \"run_name\": \"VotingEnsemble\", \"run_properties\": \"classification_labels=None,\\n                              estimators=[('80',\\n                                           Pipeline(memory=None,\\n                                                    steps=[('standardscalerwrapper',\\n                                                            <azureml.automl.runtime.shared.model_wrappers.StandardScalerWrapper object at 0x7f2f2842ec50>\", \"primary_metric\": 0.95750903, \"best_metric\": 0.95750903}, {\"run_id\": \"AutoML_2e6c69b0-1fa0-4548-823c-38194d3b44b6_99\", \"run_number\": 104, \"metric\": null, \"status\": \"Completed\", \"run_type\": \"azureml.scriptrun\", \"training_percent\": \"100\", \"start_time\": \"2021-03-04T22:59:52.168606Z\", \"end_time\": \"2021-03-04T23:01:36.672567Z\", \"created_time\": \"2021-03-04T22:59:41.632168Z\", \"created_time_dt\": \"2021-03-04T22:59:41.632168Z\", \"duration\": \"0:01:55\", \"iteration\": \"99\", \"goal\": \"accuracy_max\", \"run_name\": \"StackEnsemble\", \"run_properties\": \"base_learners=[('80',\\n                                        Pipeline(memory=None,\\n                                                 steps=[('standardscalerwrapper',\\n                                                         <azureml.automl.runtime.shared.model_wrappers.StandardScalerWrapper object at 0x7fe0d02edb38>\", \"primary_metric\": 0.95494231, \"best_metric\": 0.95750903}], \"children_metrics\": {\"categories\": [0], \"series\": {\"norm_macro_recall\": [{\"categories\": [\"0\", \"1\", \"2\", \"3\", \"4\", \"5\", \"6\", \"7\", \"8\", \"9\", \"10\", \"11\", \"12\", \"13\", \"14\", \"15\", \"16\", \"17\", \"18\", \"19\", \"20\", \"21\", \"22\", \"23\", \"24\", \"25\", \"26\", \"27\", \"28\", \"29\", \"30\", \"31\", \"32\", \"33\", \"34\", \"35\", \"36\", \"37\", \"38\", \"39\", \"40\", \"41\", \"42\", \"43\", \"44\", \"45\", \"46\", \"47\", \"48\", \"49\", \"50\", \"51\", \"52\", \"53\", \"54\", \"55\", \"56\", \"57\", \"58\", \"59\", \"60\", \"61\", \"62\", \"63\", \"64\", \"65\", \"66\", \"67\", \"68\", \"69\", \"70\", \"71\", \"72\", \"73\", \"74\", \"75\", \"76\", \"77\", \"78\", \"79\", \"80\", \"81\", \"82\", \"83\", \"84\", \"85\", \"86\", \"87\", \"88\", \"89\", \"90\", \"91\", \"92\", \"93\", \"94\", \"95\", \"96\", \"97\", \"98\", \"99\"], \"mode\": \"markers\", \"name\": \"norm_macro_recall\", \"stepped\": false, \"type\": \"scatter\", \"data\": [0.9027060410528491, 0.8925687866796752, 0.6818670589507962, 0.633471836890396, 0.3413812803906457, 0.20399903584375267, 0.7930285019768288, 0.7474980064008184, 0.7879993921838244, 0.7593171493956754, 0.8841400673744158, 0.6254413625091819, 0.7250451326704491, 0.8077320138439189, 0.7665937544542432, 0.8063569498818873, 0.881736457379794, 0.749431715183251, 0.6302478277554561, 0.6147917184253503, 0.668937400084367, 0.8321844232308553, 0.6692409447197714, 0.8605033898798176, 0.7238592719268777, 0.5982492919411122, 0.8306847315106957, 0.8399760677118925, 0.7931604622248072, 0.6181773263508432, 0.0, 0.5965154381814874, 0.8909619559957338, 0.7307093427318045, 0.837620748439865, 0.0, 0.7621286953578872, 0.8851049147921899, 0.8839001309707115, 0.7606228911486445, 0.7615027208101243, 0.8178847530769998, 0.683336296879621, 0.6499233611231614, 0.7399052128115837, 0.8968202177945372, 0.9012072736638995, 0.7387337728203291, 0.8899550730463078, 0.8950971699563388, 0.6785832094414894, 0.7124452052842248, 0.8931709754728094, 0.7993392109819368, 0.7987627929881669, 0.880663279579192, 0.9066673284201456, 0.9042608210996725, 0.7998056421808681, 0.880678198398709, 0.8776268336108182, 0.8531341104847894, 0.7608322563420096, 0.7899458477486794, 0.8998092685218204, 0.8839607070311011, 0.8469639623358646, 0.8662629143255363, 0.7968096047435875, 0.8784184027698851, 0.8900311064998663, 0.8968742572831113, 0.8783324424837652, 0.8776773066091177, 0.7368078578033594, 0.8893527944490847, 0.9083273787175481, 0.8703076981720799, 0.7404390760460624, 0.9048428022541206, 0.9091229970773209, 0.7989433009533727, 0.6405678477389014, 0.6566208580390931, 0.8521853429200231, 0.7541422206004043, 0.8969978287569761, 0.9047214494780415, 0.7291398770669082, 0.7793674716839564, 0.8544654333399034, 0.7210001716672959, 0.9005696096467612, 0.8784370664241112, 0.9076364327907521, 0.887728695596083, 0.822265367040974, 0.807121333019991, 0.9149634671221903, 0.9098824857061321]}, {\"categories\": [\"0\", \"1\", \"2\", \"3\", \"4\", \"5\", \"6\", \"7\", \"8\", \"9\", \"10\", \"11\", \"12\", \"13\", \"14\", \"15\", \"16\", \"17\", \"18\", \"19\", \"20\", \"21\", \"22\", \"23\", \"24\", \"25\", \"26\", \"27\", \"28\", \"29\", \"30\", \"31\", \"32\", \"33\", \"34\", \"35\", \"36\", \"37\", \"38\", \"39\", \"40\", \"41\", \"42\", \"43\", \"44\", \"45\", \"46\", \"47\", \"48\", \"49\", \"50\", \"51\", \"52\", \"53\", \"54\", \"55\", \"56\", \"57\", \"58\", \"59\", \"60\", \"61\", \"62\", \"63\", \"64\", \"65\", \"66\", \"67\", \"68\", \"69\", \"70\", \"71\", \"72\", \"73\", \"74\", \"75\", \"76\", \"77\", \"78\", \"79\", \"80\", \"81\", \"82\", \"83\", \"84\", \"85\", \"86\", \"87\", \"88\", \"89\", \"90\", \"91\", \"92\", \"93\", \"94\", \"95\", \"96\", \"97\", \"98\", \"99\"], \"mode\": \"lines\", \"name\": \"norm_macro_recall_max\", \"stepped\": true, \"type\": \"scatter\", \"data\": [0.9027060410528491, 0.9027060410528491, 0.9027060410528491, 0.9027060410528491, 0.9027060410528491, 0.9027060410528491, 0.9027060410528491, 0.9027060410528491, 0.9027060410528491, 0.9027060410528491, 0.9027060410528491, 0.9027060410528491, 0.9027060410528491, 0.9027060410528491, 0.9027060410528491, 0.9027060410528491, 0.9027060410528491, 0.9027060410528491, 0.9027060410528491, 0.9027060410528491, 0.9027060410528491, 0.9027060410528491, 0.9027060410528491, 0.9027060410528491, 0.9027060410528491, 0.9027060410528491, 0.9027060410528491, 0.9027060410528491, 0.9027060410528491, 0.9027060410528491, 0.9027060410528491, 0.9027060410528491, 0.9027060410528491, 0.9027060410528491, 0.9027060410528491, 0.9027060410528491, 0.9027060410528491, 0.9027060410528491, 0.9027060410528491, 0.9027060410528491, 0.9027060410528491, 0.9027060410528491, 0.9027060410528491, 0.9027060410528491, 0.9027060410528491, 0.9027060410528491, 0.9027060410528491, 0.9027060410528491, 0.9027060410528491, 0.9027060410528491, 0.9027060410528491, 0.9027060410528491, 0.9027060410528491, 0.9027060410528491, 0.9027060410528491, 0.9027060410528491, 0.9066673284201456, 0.9066673284201456, 0.9066673284201456, 0.9066673284201456, 0.9066673284201456, 0.9066673284201456, 0.9066673284201456, 0.9066673284201456, 0.9066673284201456, 0.9066673284201456, 0.9066673284201456, 0.9066673284201456, 0.9066673284201456, 0.9066673284201456, 0.9066673284201456, 0.9066673284201456, 0.9066673284201456, 0.9066673284201456, 0.9066673284201456, 0.9066673284201456, 0.9083273787175481, 0.9083273787175481, 0.9083273787175481, 0.9083273787175481, 0.9091229970773209, 0.9091229970773209, 0.9091229970773209, 0.9091229970773209, 0.9091229970773209, 0.9091229970773209, 0.9091229970773209, 0.9091229970773209, 0.9091229970773209, 0.9091229970773209, 0.9091229970773209, 0.9091229970773209, 0.9091229970773209, 0.9091229970773209, 0.9091229970773209, 0.9091229970773209, 0.9091229970773209, 0.9091229970773209, 0.9149634671221903, 0.9149634671221903]}], \"recall_score_micro\": [{\"categories\": [\"0\", \"1\", \"2\", \"3\", \"4\", \"5\", \"6\", \"7\", \"8\", \"9\", \"10\", \"11\", \"12\", \"13\", \"14\", \"15\", \"16\", \"17\", \"18\", \"19\", \"20\", \"21\", \"22\", \"23\", \"24\", \"25\", \"26\", \"27\", \"28\", \"29\", \"30\", \"31\", \"32\", \"33\", \"34\", \"35\", \"36\", \"37\", \"38\", \"39\", \"40\", \"41\", \"42\", \"43\", \"44\", \"45\", \"46\", \"47\", \"48\", \"49\", \"50\", \"51\", \"52\", \"53\", \"54\", \"55\", \"56\", \"57\", \"58\", \"59\", \"60\", \"61\", \"62\", \"63\", \"64\", \"65\", \"66\", \"67\", \"68\", \"69\", \"70\", \"71\", \"72\", \"73\", \"74\", \"75\", \"76\", \"77\", \"78\", \"79\", \"80\", \"81\", \"82\", \"83\", \"84\", \"85\", \"86\", \"87\", \"88\", \"89\", \"90\", \"91\", \"92\", \"93\", \"94\", \"95\", \"96\", \"97\", \"98\", \"99\"], \"mode\": \"markers\", \"name\": \"recall_score_micro\", \"stepped\": false, \"type\": \"scatter\", \"data\": [0.9513817127173215, 0.9463319442111191, 0.8407664038875913, 0.8162294120871799, 0.6703740069508626, 0.6020219521542409, 0.8964867690787154, 0.8737540704239404, 0.8939559777553827, 0.8795034050380451, 0.9420637451234812, 0.8127141799762864, 0.8625467320649944, 0.9037618718190312, 0.8832347844380614, 0.9031048421932679, 0.9407969168534907, 0.8748150196257504, 0.8149969001145788, 0.8074017720986134, 0.834360025375594, 0.9160760963324541, 0.8344587092115232, 0.9302432173676168, 0.8616993604806, 0.7984402588464988, 0.9152762888446497, 0.9199626457565314, 0.8965369025521174, 0.8087887710109942, 0.4904715875603161, 0.7981581445094736, 0.9454316448425869, 0.8651501421343042, 0.9187938423963116, 0.4904715875603161, 0.8810623573843767, 0.9425304316484248, 0.941919164740057, 0.8802986275987044, 0.8808184972384179, 0.9089680799047514, 0.8415591223446173, 0.8246353417595481, 0.8698657796659282, 0.9483856548334039, 0.9505711925689869, 0.8693111349297393, 0.945006404948946, 0.9475464287884595, 0.8392025662259522, 0.8560380679057559, 0.9466645807627291, 0.8996089229059621, 0.899344337390777, 0.9403154962937371, 0.9533417171286762, 0.9521458763780389, 0.8997967879012272, 0.9403425451050298, 0.938869328224128, 0.9265426819997173, 0.8804518160039816, 0.8949372097927064, 0.9499149546587308, 0.9419485741583445, 0.9234131237033234, 0.9330916696934132, 0.898409298984137, 0.9391752144686102, 0.9449848510933727, 0.9484362783940791, 0.9391690563802051, 0.9387555781625865, 0.8683040817901138, 0.9446329369233768, 0.954147030078313, 0.9351225253413936, 0.8700742160121354, 0.9524426319783055, 0.954586251985023, 0.899405265822443, 0.8203669139764218, 0.8277478931819757, 0.926016151057073, 0.8770899684183646, 0.9484906199705557, 0.9523481135306948, 0.8646577719553813, 0.8895689862018396, 0.9271390052260052, 0.8604215802499136, 0.9502435435188618, 0.9391955102716439, 0.9538706871655904, 0.9438706701505627, 0.9110285091963387, 0.9035283620038392, 0.9575090332307132, 0.954942307767314]}, {\"categories\": [\"0\", \"1\", \"2\", \"3\", \"4\", \"5\", \"6\", \"7\", \"8\", \"9\", \"10\", \"11\", \"12\", \"13\", \"14\", \"15\", \"16\", \"17\", \"18\", \"19\", \"20\", \"21\", \"22\", \"23\", \"24\", \"25\", \"26\", \"27\", \"28\", \"29\", \"30\", \"31\", \"32\", \"33\", \"34\", \"35\", \"36\", \"37\", \"38\", \"39\", \"40\", \"41\", \"42\", \"43\", \"44\", \"45\", \"46\", \"47\", \"48\", \"49\", \"50\", \"51\", \"52\", \"53\", \"54\", \"55\", \"56\", \"57\", \"58\", \"59\", \"60\", \"61\", \"62\", \"63\", \"64\", \"65\", \"66\", \"67\", \"68\", \"69\", \"70\", \"71\", \"72\", \"73\", \"74\", \"75\", \"76\", \"77\", \"78\", \"79\", \"80\", \"81\", \"82\", \"83\", \"84\", \"85\", \"86\", \"87\", \"88\", \"89\", \"90\", \"91\", \"92\", \"93\", \"94\", \"95\", \"96\", \"97\", \"98\", \"99\"], \"mode\": \"lines\", \"name\": \"recall_score_micro_max\", \"stepped\": true, \"type\": \"scatter\", \"data\": [0.9513817127173215, 0.9513817127173215, 0.9513817127173215, 0.9513817127173215, 0.9513817127173215, 0.9513817127173215, 0.9513817127173215, 0.9513817127173215, 0.9513817127173215, 0.9513817127173215, 0.9513817127173215, 0.9513817127173215, 0.9513817127173215, 0.9513817127173215, 0.9513817127173215, 0.9513817127173215, 0.9513817127173215, 0.9513817127173215, 0.9513817127173215, 0.9513817127173215, 0.9513817127173215, 0.9513817127173215, 0.9513817127173215, 0.9513817127173215, 0.9513817127173215, 0.9513817127173215, 0.9513817127173215, 0.9513817127173215, 0.9513817127173215, 0.9513817127173215, 0.9513817127173215, 0.9513817127173215, 0.9513817127173215, 0.9513817127173215, 0.9513817127173215, 0.9513817127173215, 0.9513817127173215, 0.9513817127173215, 0.9513817127173215, 0.9513817127173215, 0.9513817127173215, 0.9513817127173215, 0.9513817127173215, 0.9513817127173215, 0.9513817127173215, 0.9513817127173215, 0.9513817127173215, 0.9513817127173215, 0.9513817127173215, 0.9513817127173215, 0.9513817127173215, 0.9513817127173215, 0.9513817127173215, 0.9513817127173215, 0.9513817127173215, 0.9513817127173215, 0.9533417171286762, 0.9533417171286762, 0.9533417171286762, 0.9533417171286762, 0.9533417171286762, 0.9533417171286762, 0.9533417171286762, 0.9533417171286762, 0.9533417171286762, 0.9533417171286762, 0.9533417171286762, 0.9533417171286762, 0.9533417171286762, 0.9533417171286762, 0.9533417171286762, 0.9533417171286762, 0.9533417171286762, 0.9533417171286762, 0.9533417171286762, 0.9533417171286762, 0.954147030078313, 0.954147030078313, 0.954147030078313, 0.954147030078313, 0.954586251985023, 0.954586251985023, 0.954586251985023, 0.954586251985023, 0.954586251985023, 0.954586251985023, 0.954586251985023, 0.954586251985023, 0.954586251985023, 0.954586251985023, 0.954586251985023, 0.954586251985023, 0.954586251985023, 0.954586251985023, 0.954586251985023, 0.954586251985023, 0.954586251985023, 0.954586251985023, 0.9575090332307132, 0.9575090332307132]}], \"precision_score_weighted\": [{\"categories\": [\"0\", \"1\", \"2\", \"3\", \"4\", \"5\", \"6\", \"7\", \"8\", \"9\", \"10\", \"11\", \"12\", \"13\", \"14\", \"15\", \"16\", \"17\", \"18\", \"19\", \"20\", \"21\", \"22\", \"23\", \"24\", \"25\", \"26\", \"27\", \"28\", \"29\", \"30\", \"31\", \"32\", \"33\", \"34\", \"35\", \"36\", \"37\", \"38\", \"39\", \"40\", \"41\", \"42\", \"43\", \"44\", \"45\", \"46\", \"47\", \"48\", \"49\", \"50\", \"51\", \"52\", \"53\", \"54\", \"55\", \"56\", \"57\", \"58\", \"59\", \"60\", \"61\", \"62\", \"63\", \"64\", \"65\", \"66\", \"67\", \"68\", \"69\", \"70\", \"71\", \"72\", \"73\", \"74\", \"75\", \"76\", \"77\", \"78\", \"79\", \"80\", \"81\", \"82\", \"83\", \"84\", \"85\", \"86\", \"87\", \"88\", \"89\", \"90\", \"91\", \"92\", \"93\", \"94\", \"95\", \"96\", \"97\", \"98\", \"99\"], \"mode\": \"markers\", \"name\": \"precision_score_weighted\", \"stepped\": false, \"type\": \"scatter\", \"data\": [0.9523890580467066, 0.9463768038743823, 0.841623747645294, 0.8178948176440418, 0.7954437287717979, 0.775351485347656, 0.8991807661898967, 0.8774924524748597, 0.8974022979118568, 0.8800366177381903, 0.9421984703456813, 0.8136834724964533, 0.8629882115918293, 0.9039969203463356, 0.883433259989315, 0.9032181838840101, 0.9410083134821216, 0.874996347802357, 0.8165927254529037, 0.8076959350158793, 0.835009529356126, 0.9163334042873507, 0.8350713561159345, 0.9303336083650422, 0.864990988948875, 0.8006493037379716, 0.9162804074207829, 0.9218327307461532, 0.9052430069433329, 0.8168234114268016, 0.2405923138377553, 0.7985311942706821, 0.9456117418965508, 0.8660819069646137, 0.9190079880305332, 0.2405923138377553, 0.8821851823618401, 0.9427140363709906, 0.9420170496438729, 0.8814962205983905, 0.8822987782957552, 0.909455058106379, 0.8435806101775972, 0.8252983909516264, 0.8703297344988151, 0.948447314755693, 0.9506648134692981, 0.8696172807794685, 0.9450670561942282, 0.9476568822501775, 0.8395076238712373, 0.8572591299660504, 0.9467059724106852, 0.9009601250685702, 0.9053970412410616, 0.9405200459950235, 0.9538250636474845, 0.9524676629740272, 0.9058694915688715, 0.9404163047743352, 0.9390899655618534, 0.9267882905571259, 0.8818204299891068, 0.8978786202368557, 0.950241180410593, 0.9423453496188765, 0.9242643169315048, 0.9336879193143929, 0.9012869301093017, 0.939447256484933, 0.9465221924097715, 0.9488493594551686, 0.9392907768817482, 0.9393296648668649, 0.869134930908181, 0.9467824578352371, 0.9544675955540803, 0.9353234003731051, 0.8705598823200125, 0.95299118358718, 0.954834327119255, 0.8997042112916207, 0.8206643428247912, 0.830611045552117, 0.9269821753441141, 0.8773373354419032, 0.9486758534108392, 0.9524552973575691, 0.8654869247740586, 0.8914198047324404, 0.9274709852756209, 0.8608568443965308, 0.950384352160732, 0.9395583460451545, 0.954731617150937, 0.9438910398880562, 0.9117602104262552, 0.9091072034397991, 0.9578176711882371, 0.9552092890954647]}, {\"categories\": [\"0\", \"1\", \"2\", \"3\", \"4\", \"5\", \"6\", \"7\", \"8\", \"9\", \"10\", \"11\", \"12\", \"13\", \"14\", \"15\", \"16\", \"17\", \"18\", \"19\", \"20\", \"21\", \"22\", \"23\", \"24\", \"25\", \"26\", \"27\", \"28\", \"29\", \"30\", \"31\", \"32\", \"33\", \"34\", \"35\", \"36\", \"37\", \"38\", \"39\", \"40\", \"41\", \"42\", \"43\", \"44\", \"45\", \"46\", \"47\", \"48\", \"49\", \"50\", \"51\", \"52\", \"53\", \"54\", \"55\", \"56\", \"57\", \"58\", \"59\", \"60\", \"61\", \"62\", \"63\", \"64\", \"65\", \"66\", \"67\", \"68\", \"69\", \"70\", \"71\", \"72\", \"73\", \"74\", \"75\", \"76\", \"77\", \"78\", \"79\", \"80\", \"81\", \"82\", \"83\", \"84\", \"85\", \"86\", \"87\", \"88\", \"89\", \"90\", \"91\", \"92\", \"93\", \"94\", \"95\", \"96\", \"97\", \"98\", \"99\"], \"mode\": \"lines\", \"name\": \"precision_score_weighted_max\", \"stepped\": true, \"type\": \"scatter\", \"data\": [0.9523890580467066, 0.9523890580467066, 0.9523890580467066, 0.9523890580467066, 0.9523890580467066, 0.9523890580467066, 0.9523890580467066, 0.9523890580467066, 0.9523890580467066, 0.9523890580467066, 0.9523890580467066, 0.9523890580467066, 0.9523890580467066, 0.9523890580467066, 0.9523890580467066, 0.9523890580467066, 0.9523890580467066, 0.9523890580467066, 0.9523890580467066, 0.9523890580467066, 0.9523890580467066, 0.9523890580467066, 0.9523890580467066, 0.9523890580467066, 0.9523890580467066, 0.9523890580467066, 0.9523890580467066, 0.9523890580467066, 0.9523890580467066, 0.9523890580467066, 0.9523890580467066, 0.9523890580467066, 0.9523890580467066, 0.9523890580467066, 0.9523890580467066, 0.9523890580467066, 0.9523890580467066, 0.9523890580467066, 0.9523890580467066, 0.9523890580467066, 0.9523890580467066, 0.9523890580467066, 0.9523890580467066, 0.9523890580467066, 0.9523890580467066, 0.9523890580467066, 0.9523890580467066, 0.9523890580467066, 0.9523890580467066, 0.9523890580467066, 0.9523890580467066, 0.9523890580467066, 0.9523890580467066, 0.9523890580467066, 0.9523890580467066, 0.9523890580467066, 0.9538250636474845, 0.9538250636474845, 0.9538250636474845, 0.9538250636474845, 0.9538250636474845, 0.9538250636474845, 0.9538250636474845, 0.9538250636474845, 0.9538250636474845, 0.9538250636474845, 0.9538250636474845, 0.9538250636474845, 0.9538250636474845, 0.9538250636474845, 0.9538250636474845, 0.9538250636474845, 0.9538250636474845, 0.9538250636474845, 0.9538250636474845, 0.9538250636474845, 0.9544675955540803, 0.9544675955540803, 0.9544675955540803, 0.9544675955540803, 0.954834327119255, 0.954834327119255, 0.954834327119255, 0.954834327119255, 0.954834327119255, 0.954834327119255, 0.954834327119255, 0.954834327119255, 0.954834327119255, 0.954834327119255, 0.954834327119255, 0.954834327119255, 0.954834327119255, 0.954834327119255, 0.954834327119255, 0.954834327119255, 0.954834327119255, 0.954834327119255, 0.9578176711882371, 0.9578176711882371]}], \"matthews_correlation\": [{\"categories\": [\"0\", \"1\", \"2\", \"3\", \"4\", \"5\", \"6\", \"7\", \"8\", \"9\", \"10\", \"11\", \"12\", \"13\", \"14\", \"15\", \"16\", \"17\", \"18\", \"19\", \"20\", \"21\", \"22\", \"23\", \"24\", \"25\", \"26\", \"27\", \"28\", \"29\", \"30\", \"31\", \"32\", \"33\", \"34\", \"35\", \"36\", \"37\", \"38\", \"39\", \"40\", \"41\", \"42\", \"43\", \"44\", \"45\", \"46\", \"47\", \"48\", \"49\", \"50\", \"51\", \"52\", \"53\", \"54\", \"55\", \"56\", \"57\", \"58\", \"59\", \"60\", \"61\", \"62\", \"63\", \"64\", \"65\", \"66\", \"67\", \"68\", \"69\", \"70\", \"71\", \"72\", \"73\", \"74\", \"75\", \"76\", \"77\", \"78\", \"79\", \"80\", \"81\", \"82\", \"83\", \"84\", \"85\", \"86\", \"87\", \"88\", \"89\", \"90\", \"91\", \"92\", \"93\", \"94\", \"95\", \"96\", \"97\", \"98\", \"99\"], \"mode\": \"markers\", \"name\": \"matthews_correlation\", \"stepped\": false, \"type\": \"scatter\", \"data\": [0.9037204947199106, 0.89265617706845, 0.6823204612927729, 0.6341600147685018, 0.4482675499695092, 0.32660501016410903, 0.7955808530021156, 0.7511312860089012, 0.7912712826334991, 0.7594718874469215, 0.8842077547375865, 0.6262577844671553, 0.725415823063116, 0.8076966749936592, 0.7665837293821591, 0.8062550287471832, 0.8817584635095598, 0.7496870493253072, 0.6314899767968024, 0.6149507192996773, 0.6692716673988979, 0.8323388117197602, 0.6694517698914048, 0.8605143577868197, 0.7266408848307673, 0.5992118448979384, 0.8314925422462297, 0.8417259479841942, 0.8016580348498665, 0.6255231899943707, 0.0, 0.5965771785371168, 0.8909959951445805, 0.7311746506399519, 0.8377364876898689, 0.0, 0.7631510417528494, 0.885192142864762, 0.8838886079672665, 0.7616980932632154, 0.7630040423024985, 0.8183434817316657, 0.6850489628121973, 0.6499069881183921, 0.7401105748046012, 0.8967857089777723, 0.9011927359114896, 0.7388352753630633, 0.8900203926235151, 0.8951550163135888, 0.6786102256772985, 0.713234476482149, 0.893314500382384, 0.8005000860609055, 0.8046365151917421, 0.8807844892667877, 0.907122423986092, 0.9045662954926964, 0.8055778807242383, 0.8807038043555432, 0.8778971962995179, 0.8532723534643447, 0.7621556868446259, 0.7927366436784109, 0.9001073660504423, 0.8842499665257024, 0.847618876527975, 0.8667252187438269, 0.7995960585028409, 0.8785709124455364, 0.8914625749970477, 0.8972401977709336, 0.8784047056505276, 0.8780430019208632, 0.7373586249956616, 0.8913730097337702, 0.9085724199308466, 0.8703925257615328, 0.7405663153453178, 0.9053880495578694, 0.9093697148262943, 0.799035626418755, 0.6408632839173162, 0.6584223535980651, 0.8529470189916692, 0.754316965531322, 0.8971207379401587, 0.9047571779541304, 0.7300104144861191, 0.7809203976305323, 0.8545590195152123, 0.7211866350229986, 0.9005849340298283, 0.8787021512448521, 0.908551785194226, 0.8877092677351952, 0.8227321742048448, 0.8125340673956636, 0.9152800548857286, 0.9101048666971054]}, {\"categories\": [\"0\", \"1\", \"2\", \"3\", \"4\", \"5\", \"6\", \"7\", \"8\", \"9\", \"10\", \"11\", \"12\", \"13\", \"14\", \"15\", \"16\", \"17\", \"18\", \"19\", \"20\", \"21\", \"22\", \"23\", \"24\", \"25\", \"26\", \"27\", \"28\", \"29\", \"30\", \"31\", \"32\", \"33\", \"34\", \"35\", \"36\", \"37\", \"38\", \"39\", \"40\", \"41\", \"42\", \"43\", \"44\", \"45\", \"46\", \"47\", \"48\", \"49\", \"50\", \"51\", \"52\", \"53\", \"54\", \"55\", \"56\", \"57\", \"58\", \"59\", \"60\", \"61\", \"62\", \"63\", \"64\", \"65\", \"66\", \"67\", \"68\", \"69\", \"70\", \"71\", \"72\", \"73\", \"74\", \"75\", \"76\", \"77\", \"78\", \"79\", \"80\", \"81\", \"82\", \"83\", \"84\", \"85\", \"86\", \"87\", \"88\", \"89\", \"90\", \"91\", \"92\", \"93\", \"94\", \"95\", \"96\", \"97\", \"98\", \"99\"], \"mode\": \"lines\", \"name\": \"matthews_correlation_max\", \"stepped\": true, \"type\": \"scatter\", \"data\": [0.9037204947199106, 0.9037204947199106, 0.9037204947199106, 0.9037204947199106, 0.9037204947199106, 0.9037204947199106, 0.9037204947199106, 0.9037204947199106, 0.9037204947199106, 0.9037204947199106, 0.9037204947199106, 0.9037204947199106, 0.9037204947199106, 0.9037204947199106, 0.9037204947199106, 0.9037204947199106, 0.9037204947199106, 0.9037204947199106, 0.9037204947199106, 0.9037204947199106, 0.9037204947199106, 0.9037204947199106, 0.9037204947199106, 0.9037204947199106, 0.9037204947199106, 0.9037204947199106, 0.9037204947199106, 0.9037204947199106, 0.9037204947199106, 0.9037204947199106, 0.9037204947199106, 0.9037204947199106, 0.9037204947199106, 0.9037204947199106, 0.9037204947199106, 0.9037204947199106, 0.9037204947199106, 0.9037204947199106, 0.9037204947199106, 0.9037204947199106, 0.9037204947199106, 0.9037204947199106, 0.9037204947199106, 0.9037204947199106, 0.9037204947199106, 0.9037204947199106, 0.9037204947199106, 0.9037204947199106, 0.9037204947199106, 0.9037204947199106, 0.9037204947199106, 0.9037204947199106, 0.9037204947199106, 0.9037204947199106, 0.9037204947199106, 0.9037204947199106, 0.907122423986092, 0.907122423986092, 0.907122423986092, 0.907122423986092, 0.907122423986092, 0.907122423986092, 0.907122423986092, 0.907122423986092, 0.907122423986092, 0.907122423986092, 0.907122423986092, 0.907122423986092, 0.907122423986092, 0.907122423986092, 0.907122423986092, 0.907122423986092, 0.907122423986092, 0.907122423986092, 0.907122423986092, 0.907122423986092, 0.9085724199308466, 0.9085724199308466, 0.9085724199308466, 0.9085724199308466, 0.9093697148262943, 0.9093697148262943, 0.9093697148262943, 0.9093697148262943, 0.9093697148262943, 0.9093697148262943, 0.9093697148262943, 0.9093697148262943, 0.9093697148262943, 0.9093697148262943, 0.9093697148262943, 0.9093697148262943, 0.9093697148262943, 0.9093697148262943, 0.9093697148262943, 0.9093697148262943, 0.9093697148262943, 0.9093697148262943, 0.9152800548857286, 0.9152800548857286]}], \"weighted_accuracy\": [{\"categories\": [\"0\", \"1\", \"2\", \"3\", \"4\", \"5\", \"6\", \"7\", \"8\", \"9\", \"10\", \"11\", \"12\", \"13\", \"14\", \"15\", \"16\", \"17\", \"18\", \"19\", \"20\", \"21\", \"22\", \"23\", \"24\", \"25\", \"26\", \"27\", \"28\", \"29\", \"30\", \"31\", \"32\", \"33\", \"34\", \"35\", \"36\", \"37\", \"38\", \"39\", \"40\", \"41\", \"42\", \"43\", \"44\", \"45\", \"46\", \"47\", \"48\", \"49\", \"50\", \"51\", \"52\", \"53\", \"54\", \"55\", \"56\", \"57\", \"58\", \"59\", \"60\", \"61\", \"62\", \"63\", \"64\", \"65\", \"66\", \"67\", \"68\", \"69\", \"70\", \"71\", \"72\", \"73\", \"74\", \"75\", \"76\", \"77\", \"78\", \"79\", \"80\", \"81\", \"82\", \"83\", \"84\", \"85\", \"86\", \"87\", \"88\", \"89\", \"90\", \"91\", \"92\", \"93\", \"94\", \"95\", \"96\", \"97\", \"98\", \"99\"], \"mode\": \"markers\", \"name\": \"weighted_accuracy\", \"stepped\": false, \"type\": \"scatter\", \"data\": [0.9719798740468464, 0.9457189516079897, 0.841264933205767, 0.8110125055735355, 0.36917650044235, 0.2333511453958931, 0.9322238995006586, 0.9192520991185283, 0.935863606693575, 0.8702255407091742, 0.9494648146623795, 0.8328102424776846, 0.8684920730480492, 0.8993922734910695, 0.8866870271341053, 0.9026057413739472, 0.9338490571416322, 0.8653055962174492, 0.7887140102906927, 0.8158444603086702, 0.8465992050045598, 0.9067354484353297, 0.8444039863898819, 0.9243541699001977, 0.9020920960561684, 0.8105742703392261, 0.8941895840863558, 0.9501910584332588, 0.963033732037171, 0.7385629345976461, 0.5903390837436988, 0.7887095675039006, 0.9393008267936154, 0.8680938521336978, 0.9147911192551724, 0.5903390837436988, 0.9030322674225826, 0.95091677726819, 0.9450572520100018, 0.9026386826515648, 0.8530885476994374, 0.897052183593272, 0.8742280300217609, 0.819789106939044, 0.8722909595850051, 0.9484839267222902, 0.9509217332704297, 0.8735748992987507, 0.9448582085908906, 0.9428416157830523, 0.8360205765716611, 0.8763251621526891, 0.9446465389933227, 0.9233665265558333, 0.9542900524143564, 0.9334795837609254, 0.9677425803231158, 0.9631810527103012, 0.9545354472997456, 0.9432024727041612, 0.9290037366456285, 0.9307235238900227, 0.905959601504431, 0.9330656578742456, 0.961706621016585, 0.9519421847132989, 0.9425664756022762, 0.9166793353368281, 0.9371905777356101, 0.9301171212286208, 0.9715080827980127, 0.9604954698514326, 0.9380923923371863, 0.9525853681694942, 0.8853090692896952, 0.975966303073195, 0.9652842219139443, 0.9262038039888061, 0.8738428870486008, 0.9671266737907087, 0.9639016671304622, 0.8934265277172238, 0.8264624766756862, 0.8042051505961547, 0.9463376956443769, 0.884622020886033, 0.9566910329039636, 0.9572950872970882, 0.8794695215004245, 0.9188319557963129, 0.916584336520916, 0.8665831939515227, 0.9560469305703998, 0.9513366120703838, 0.9733568793604535, 0.9414945097033556, 0.8964397731042391, 0.9566659089988023, 0.9683651213901928, 0.9645836375733339]}, {\"categories\": [\"0\", \"1\", \"2\", \"3\", \"4\", \"5\", \"6\", \"7\", \"8\", \"9\", \"10\", \"11\", \"12\", \"13\", \"14\", \"15\", \"16\", \"17\", \"18\", \"19\", \"20\", \"21\", \"22\", \"23\", \"24\", \"25\", \"26\", \"27\", \"28\", \"29\", \"30\", \"31\", \"32\", \"33\", \"34\", \"35\", \"36\", \"37\", \"38\", \"39\", \"40\", \"41\", \"42\", \"43\", \"44\", \"45\", \"46\", \"47\", \"48\", \"49\", \"50\", \"51\", \"52\", \"53\", \"54\", \"55\", \"56\", \"57\", \"58\", \"59\", \"60\", \"61\", \"62\", \"63\", \"64\", \"65\", \"66\", \"67\", \"68\", \"69\", \"70\", \"71\", \"72\", \"73\", \"74\", \"75\", \"76\", \"77\", \"78\", \"79\", \"80\", \"81\", \"82\", \"83\", \"84\", \"85\", \"86\", \"87\", \"88\", \"89\", \"90\", \"91\", \"92\", \"93\", \"94\", \"95\", \"96\", \"97\", \"98\", \"99\"], \"mode\": \"lines\", \"name\": \"weighted_accuracy_max\", \"stepped\": true, \"type\": \"scatter\", \"data\": [0.9719798740468464, 0.9719798740468464, 0.9719798740468464, 0.9719798740468464, 0.9719798740468464, 0.9719798740468464, 0.9719798740468464, 0.9719798740468464, 0.9719798740468464, 0.9719798740468464, 0.9719798740468464, 0.9719798740468464, 0.9719798740468464, 0.9719798740468464, 0.9719798740468464, 0.9719798740468464, 0.9719798740468464, 0.9719798740468464, 0.9719798740468464, 0.9719798740468464, 0.9719798740468464, 0.9719798740468464, 0.9719798740468464, 0.9719798740468464, 0.9719798740468464, 0.9719798740468464, 0.9719798740468464, 0.9719798740468464, 0.9719798740468464, 0.9719798740468464, 0.9719798740468464, 0.9719798740468464, 0.9719798740468464, 0.9719798740468464, 0.9719798740468464, 0.9719798740468464, 0.9719798740468464, 0.9719798740468464, 0.9719798740468464, 0.9719798740468464, 0.9719798740468464, 0.9719798740468464, 0.9719798740468464, 0.9719798740468464, 0.9719798740468464, 0.9719798740468464, 0.9719798740468464, 0.9719798740468464, 0.9719798740468464, 0.9719798740468464, 0.9719798740468464, 0.9719798740468464, 0.9719798740468464, 0.9719798740468464, 0.9719798740468464, 0.9719798740468464, 0.9719798740468464, 0.9719798740468464, 0.9719798740468464, 0.9719798740468464, 0.9719798740468464, 0.9719798740468464, 0.9719798740468464, 0.9719798740468464, 0.9719798740468464, 0.9719798740468464, 0.9719798740468464, 0.9719798740468464, 0.9719798740468464, 0.9719798740468464, 0.9719798740468464, 0.9719798740468464, 0.9719798740468464, 0.9719798740468464, 0.9719798740468464, 0.975966303073195, 0.975966303073195, 0.975966303073195, 0.975966303073195, 0.975966303073195, 0.975966303073195, 0.975966303073195, 0.975966303073195, 0.975966303073195, 0.975966303073195, 0.975966303073195, 0.975966303073195, 0.975966303073195, 0.975966303073195, 0.975966303073195, 0.975966303073195, 0.975966303073195, 0.975966303073195, 0.975966303073195, 0.975966303073195, 0.975966303073195, 0.975966303073195, 0.975966303073195, 0.975966303073195, 0.975966303073195]}], \"average_precision_score_micro\": [{\"categories\": [\"0\", \"1\", \"2\", \"3\", \"4\", \"5\", \"6\", \"7\", \"8\", \"9\", \"10\", \"11\", \"12\", \"13\", \"14\", \"15\", \"16\", \"17\", \"18\", \"19\", \"20\", \"21\", \"22\", \"23\", \"24\", \"25\", \"26\", \"27\", \"28\", \"29\", \"30\", \"31\", \"32\", \"33\", \"34\", \"35\", \"36\", \"37\", \"38\", \"39\", \"40\", \"41\", \"42\", \"43\", \"44\", \"45\", \"46\", \"47\", \"48\", \"49\", \"50\", \"51\", \"52\", \"53\", \"54\", \"55\", \"56\", \"57\", \"58\", \"59\", \"60\", \"61\", \"62\", \"63\", \"64\", \"65\", \"66\", \"67\", \"68\", \"69\", \"70\", \"71\", \"72\", \"73\", \"74\", \"75\", \"76\", \"77\", \"78\", \"79\", \"80\", \"81\", \"82\", \"83\", \"84\", \"85\", \"86\", \"87\", \"88\", \"89\", \"90\", \"91\", \"92\", \"93\", \"94\", \"95\", \"96\", \"97\", \"98\", \"99\"], \"mode\": \"markers\", \"name\": \"average_precision_score_micro\", \"stepped\": false, \"type\": \"scatter\", \"data\": [0.9906082335605643, 0.9891841526222658, 0.9154163027767712, 0.8966458050083504, 0.7937581414070639, 0.7460887831267037, 0.9648925833448663, 0.9510720988838516, 0.9655184691989472, 0.947607123143527, 0.9877718434595509, 0.9076589054323794, 0.9395513488305894, 0.962282055628838, 0.9520500315955716, 0.9639450105881128, 0.9866380333915565, 0.9477723344921521, 0.8996544153574089, 0.900350546420634, 0.9224178178843625, 0.9731479898472817, 0.9094416121158216, 0.9831153106981736, 0.9379532650651571, 0.8920478334854025, 0.9725142845110225, 0.9751034484803611, 0.9659856756917465, 0.9030807986666307, 0.7254429842591553, 0.8870758761630995, 0.9878419250739249, 0.9422433878361962, 0.9756687972625222, 0.7333605921557041, 0.9573748497112848, 0.9869800544050532, 0.9859115739658886, 0.9567943210598127, 0.9511519844542107, 0.9657784694649838, 0.9260051903967316, 0.9183662823404358, 0.9382959264078948, 0.9891922412414876, 0.9909285239746992, 0.946624270138755, 0.9887233056752569, 0.9884955830948139, 0.922560619102609, 0.937866878986007, 0.9887659226229968, 0.9610060090045026, 0.968012399201009, 0.9857968204554283, 0.9914792466616831, 0.9910787276990505, 0.9669250680408401, 0.9852389881376136, 0.985274191877416, 0.9741601201815941, 0.9564574118927546, 0.9623440193895145, 0.9904536932054592, 0.9866816347183528, 0.9766812281114712, 0.9812511577290562, 0.9671161214502961, 0.9852944056782235, 0.9891407301214986, 0.9914109270743394, 0.9848480696098149, 0.9862474607875982, 0.9482116601051047, 0.9880033733153679, 0.992115750508898, 0.9830294090080203, 0.9494226894252149, 0.9905752269080151, 0.9910950241884088, 0.9610939208063997, 0.9066951904980547, 0.9221862664248344, 0.9773119651769422, 0.9541250634561651, 0.9892266860826331, 0.9910392785918226, 0.9394625972521824, 0.9589807890819589, 0.9790959981154712, 0.9455149973661149, 0.9901222301072243, 0.9846731813515401, 0.9904478657072989, 0.9883330743925208, 0.9706725731056658, 0.9679172005953287, 0.992248025276227, 0.9916799557497402]}, {\"categories\": [\"0\", \"1\", \"2\", \"3\", \"4\", \"5\", \"6\", \"7\", \"8\", \"9\", \"10\", \"11\", \"12\", \"13\", \"14\", \"15\", \"16\", \"17\", \"18\", \"19\", \"20\", \"21\", \"22\", \"23\", \"24\", \"25\", \"26\", \"27\", \"28\", \"29\", \"30\", \"31\", \"32\", \"33\", \"34\", \"35\", \"36\", \"37\", \"38\", \"39\", \"40\", \"41\", \"42\", \"43\", \"44\", \"45\", \"46\", \"47\", \"48\", \"49\", \"50\", \"51\", \"52\", \"53\", \"54\", \"55\", \"56\", \"57\", \"58\", \"59\", \"60\", \"61\", \"62\", \"63\", \"64\", \"65\", \"66\", \"67\", \"68\", \"69\", \"70\", \"71\", \"72\", \"73\", \"74\", \"75\", \"76\", \"77\", \"78\", \"79\", \"80\", \"81\", \"82\", \"83\", \"84\", \"85\", \"86\", \"87\", \"88\", \"89\", \"90\", \"91\", \"92\", \"93\", \"94\", \"95\", \"96\", \"97\", \"98\", \"99\"], \"mode\": \"lines\", \"name\": \"average_precision_score_micro_max\", \"stepped\": true, \"type\": \"scatter\", \"data\": [0.9906082335605643, 0.9906082335605643, 0.9906082335605643, 0.9906082335605643, 0.9906082335605643, 0.9906082335605643, 0.9906082335605643, 0.9906082335605643, 0.9906082335605643, 0.9906082335605643, 0.9906082335605643, 0.9906082335605643, 0.9906082335605643, 0.9906082335605643, 0.9906082335605643, 0.9906082335605643, 0.9906082335605643, 0.9906082335605643, 0.9906082335605643, 0.9906082335605643, 0.9906082335605643, 0.9906082335605643, 0.9906082335605643, 0.9906082335605643, 0.9906082335605643, 0.9906082335605643, 0.9906082335605643, 0.9906082335605643, 0.9906082335605643, 0.9906082335605643, 0.9906082335605643, 0.9906082335605643, 0.9906082335605643, 0.9906082335605643, 0.9906082335605643, 0.9906082335605643, 0.9906082335605643, 0.9906082335605643, 0.9906082335605643, 0.9906082335605643, 0.9906082335605643, 0.9906082335605643, 0.9906082335605643, 0.9906082335605643, 0.9906082335605643, 0.9906082335605643, 0.9909285239746992, 0.9909285239746992, 0.9909285239746992, 0.9909285239746992, 0.9909285239746992, 0.9909285239746992, 0.9909285239746992, 0.9909285239746992, 0.9909285239746992, 0.9909285239746992, 0.9914792466616831, 0.9914792466616831, 0.9914792466616831, 0.9914792466616831, 0.9914792466616831, 0.9914792466616831, 0.9914792466616831, 0.9914792466616831, 0.9914792466616831, 0.9914792466616831, 0.9914792466616831, 0.9914792466616831, 0.9914792466616831, 0.9914792466616831, 0.9914792466616831, 0.9914792466616831, 0.9914792466616831, 0.9914792466616831, 0.9914792466616831, 0.9914792466616831, 0.992115750508898, 0.992115750508898, 0.992115750508898, 0.992115750508898, 0.992115750508898, 0.992115750508898, 0.992115750508898, 0.992115750508898, 0.992115750508898, 0.992115750508898, 0.992115750508898, 0.992115750508898, 0.992115750508898, 0.992115750508898, 0.992115750508898, 0.992115750508898, 0.992115750508898, 0.992115750508898, 0.992115750508898, 0.992115750508898, 0.992115750508898, 0.992115750508898, 0.992248025276227, 0.992248025276227]}], \"log_loss\": [{\"categories\": [\"0\", \"1\", \"2\", \"3\", \"4\", \"5\", \"6\", \"7\", \"8\", \"9\", \"10\", \"11\", \"12\", \"13\", \"14\", \"15\", \"16\", \"17\", \"18\", \"19\", \"20\", \"21\", \"22\", \"23\", \"24\", \"25\", \"26\", \"27\", \"28\", \"29\", \"30\", \"31\", \"32\", \"33\", \"34\", \"35\", \"36\", \"37\", \"38\", \"39\", \"40\", \"41\", \"42\", \"43\", \"44\", \"45\", \"46\", \"47\", \"48\", \"49\", \"50\", \"51\", \"52\", \"53\", \"54\", \"55\", \"56\", \"57\", \"58\", \"59\", \"60\", \"61\", \"62\", \"63\", \"64\", \"65\", \"66\", \"67\", \"68\", \"69\", \"70\", \"71\", \"72\", \"73\", \"74\", \"75\", \"76\", \"77\", \"78\", \"79\", \"80\", \"81\", \"82\", \"83\", \"84\", \"85\", \"86\", \"87\", \"88\", \"89\", \"90\", \"91\", \"92\", \"93\", \"94\", \"95\", \"96\", \"97\", \"98\", \"99\"], \"mode\": \"markers\", \"name\": \"log_loss\", \"stepped\": false, \"type\": \"scatter\", \"data\": [0.12476909765329988, 0.15365355851263746, 0.42650109825865823, 0.4499954369836086, 0.5662333839028841, 0.6673939309778685, 0.2496893816468278, 0.30979946708494605, 0.24533340260022052, 0.3457777427572703, 0.14382134276618394, 0.3759594302610651, 0.31469194230802644, 0.32149025610000714, 0.39269346105514946, 0.343476162087181, 0.16029941789687746, 0.39758218045894916, 0.4636843762235638, 0.42292801177903716, 0.4212268962284492, 0.22751742125023613, 0.42994713561901976, 0.17325255233151649, 0.41220625638246755, 0.643180715702616, 0.303154893107388, 0.2040515636250682, 0.2493250891545676, 0.4567746765830356, 0.6930853752102873, 0.46032285150889346, 0.15469190088524346, 0.46175327642997877, 0.22475114267184043, 0.6930653870767653, 0.2796426093056953, 0.14702678251641038, 0.19560992006122702, 0.28223542493677534, 0.4114637920200136, 0.28491756861572404, 0.4546343993967744, 0.4058232283176116, 0.37009331655398975, 0.13748082055791522, 0.13018448455355314, 0.32985192383764156, 0.15171548454118347, 0.15288355383403354, 0.38320611741251176, 0.36126219790683106, 0.1558887558794834, 0.36292780326301644, 0.23405694913222633, 0.17970425119487698, 0.1218569364732027, 0.12596874993416823, 0.23691594339952537, 0.19359447529854884, 0.1766728921023724, 0.3336834640308224, 0.28979106355957746, 0.2558867915802413, 0.1278283609424571, 0.18656987419158716, 0.19924030611448496, 0.19888419320663972, 0.24179271513682302, 0.16969887845364415, 0.13578456750404427, 0.12392496576758254, 0.20861085785047062, 0.2007288079196628, 0.3307276756125332, 0.1413865318943695, 0.11630890901361815, 0.1895951738096711, 0.31008164424928625, 0.1252661208198059, 0.12142729637990717, 0.2723126122704386, 0.42269979078292297, 0.4657859665701515, 0.3239052804853509, 0.28872746914384345, 0.1415113656063383, 0.13009678863730645, 0.31774906631462924, 0.2781004834428373, 0.2258584917866516, 0.3209437133679681, 0.14268485668962466, 0.19182238128860538, 0.1254771448746924, 0.14982237694046563, 0.27569843514671016, 0.23407463357680047, 0.11859954127085685, 0.3875049269777195]}, {\"categories\": [\"0\", \"1\", \"2\", \"3\", \"4\", \"5\", \"6\", \"7\", \"8\", \"9\", \"10\", \"11\", \"12\", \"13\", \"14\", \"15\", \"16\", \"17\", \"18\", \"19\", \"20\", \"21\", \"22\", \"23\", \"24\", \"25\", \"26\", \"27\", \"28\", \"29\", \"30\", \"31\", \"32\", \"33\", \"34\", \"35\", \"36\", \"37\", \"38\", \"39\", \"40\", \"41\", \"42\", \"43\", \"44\", \"45\", \"46\", \"47\", \"48\", \"49\", \"50\", \"51\", \"52\", \"53\", \"54\", \"55\", \"56\", \"57\", \"58\", \"59\", \"60\", \"61\", \"62\", \"63\", \"64\", \"65\", \"66\", \"67\", \"68\", \"69\", \"70\", \"71\", \"72\", \"73\", \"74\", \"75\", \"76\", \"77\", \"78\", \"79\", \"80\", \"81\", \"82\", \"83\", \"84\", \"85\", \"86\", \"87\", \"88\", \"89\", \"90\", \"91\", \"92\", \"93\", \"94\", \"95\", \"96\", \"97\", \"98\", \"99\"], \"mode\": \"lines\", \"name\": \"log_loss_min\", \"stepped\": true, \"type\": \"scatter\", \"data\": [0.12476909765329988, 0.12476909765329988, 0.12476909765329988, 0.12476909765329988, 0.12476909765329988, 0.12476909765329988, 0.12476909765329988, 0.12476909765329988, 0.12476909765329988, 0.12476909765329988, 0.12476909765329988, 0.12476909765329988, 0.12476909765329988, 0.12476909765329988, 0.12476909765329988, 0.12476909765329988, 0.12476909765329988, 0.12476909765329988, 0.12476909765329988, 0.12476909765329988, 0.12476909765329988, 0.12476909765329988, 0.12476909765329988, 0.12476909765329988, 0.12476909765329988, 0.12476909765329988, 0.12476909765329988, 0.12476909765329988, 0.12476909765329988, 0.12476909765329988, 0.12476909765329988, 0.12476909765329988, 0.12476909765329988, 0.12476909765329988, 0.12476909765329988, 0.12476909765329988, 0.12476909765329988, 0.12476909765329988, 0.12476909765329988, 0.12476909765329988, 0.12476909765329988, 0.12476909765329988, 0.12476909765329988, 0.12476909765329988, 0.12476909765329988, 0.12476909765329988, 0.12476909765329988, 0.12476909765329988, 0.12476909765329988, 0.12476909765329988, 0.12476909765329988, 0.12476909765329988, 0.12476909765329988, 0.12476909765329988, 0.12476909765329988, 0.12476909765329988, 0.1218569364732027, 0.1218569364732027, 0.1218569364732027, 0.1218569364732027, 0.1218569364732027, 0.1218569364732027, 0.1218569364732027, 0.1218569364732027, 0.1218569364732027, 0.1218569364732027, 0.1218569364732027, 0.1218569364732027, 0.1218569364732027, 0.1218569364732027, 0.1218569364732027, 0.1218569364732027, 0.1218569364732027, 0.1218569364732027, 0.1218569364732027, 0.1218569364732027, 0.11630890901361815, 0.11630890901361815, 0.11630890901361815, 0.11630890901361815, 0.11630890901361815, 0.11630890901361815, 0.11630890901361815, 0.11630890901361815, 0.11630890901361815, 0.11630890901361815, 0.11630890901361815, 0.11630890901361815, 0.11630890901361815, 0.11630890901361815, 0.11630890901361815, 0.11630890901361815, 0.11630890901361815, 0.11630890901361815, 0.11630890901361815, 0.11630890901361815, 0.11630890901361815, 0.11630890901361815, 0.11630890901361815, 0.11630890901361815]}], \"average_precision_score_weighted\": [{\"categories\": [\"0\", \"1\", \"2\", \"3\", \"4\", \"5\", \"6\", \"7\", \"8\", \"9\", \"10\", \"11\", \"12\", \"13\", \"14\", \"15\", \"16\", \"17\", \"18\", \"19\", \"20\", \"21\", \"22\", \"23\", \"24\", \"25\", \"26\", \"27\", \"28\", \"29\", \"30\", \"31\", \"32\", \"33\", \"34\", \"35\", \"36\", \"37\", \"38\", \"39\", \"40\", \"41\", \"42\", \"43\", \"44\", \"45\", \"46\", \"47\", \"48\", \"49\", \"50\", \"51\", \"52\", \"53\", \"54\", \"55\", \"56\", \"57\", \"58\", \"59\", \"60\", \"61\", \"62\", \"63\", \"64\", \"65\", \"66\", \"67\", \"68\", \"69\", \"70\", \"71\", \"72\", \"73\", \"74\", \"75\", \"76\", \"77\", \"78\", \"79\", \"80\", \"81\", \"82\", \"83\", \"84\", \"85\", \"86\", \"87\", \"88\", \"89\", \"90\", \"91\", \"92\", \"93\", \"94\", \"95\", \"96\", \"97\", \"98\", \"99\"], \"mode\": \"markers\", \"name\": \"average_precision_score_weighted\", \"stepped\": false, \"type\": \"scatter\", \"data\": [0.9928142202886845, 0.989217867696327, 0.9158603851129037, 0.8983089983303418, 0.9256780020788098, 0.8938767866902039, 0.9689821506511528, 0.9565715920809132, 0.9696974700576588, 0.9470666327378844, 0.9878726275748237, 0.8976589144187882, 0.9400156425768156, 0.9616765534911964, 0.9519498232346845, 0.963393589611375, 0.9860369583174282, 0.9475018507978664, 0.9003380502654164, 0.8997129638041466, 0.9238375509625036, 0.9722934248741947, 0.9097239561109646, 0.9824446161919352, 0.9415544829215644, 0.8938559861406047, 0.9712835848724269, 0.979331032739806, 0.9763687574006861, 0.9059841248595542, 0.8911753633034543, 0.8858375334539623, 0.9872500654893044, 0.9426519642191206, 0.9749196639968233, 0.9073762178924557, 0.9589739611867392, 0.9873785802469168, 0.9858714665726991, 0.9582660857517439, 0.94913911550788, 0.9647676417347988, 0.9269114617507432, 0.919325043981938, 0.9395150538061253, 0.9888346000825372, 0.9908704487533161, 0.946647539605005, 0.9886137195122293, 0.9881683589869009, 0.9225712667864674, 0.9391718375878331, 0.9887109445275174, 0.9624943984004117, 0.976098216595369, 0.9854297038016323, 0.9925557250896924, 0.9918610433601242, 0.9754570558328297, 0.9855253884132965, 0.9844550212254288, 0.9736380929059646, 0.9584031202590844, 0.9672789323432553, 0.9911155376699006, 0.9872278717620476, 0.9784364975920997, 0.980417248899778, 0.971330714578577, 0.9846448746261295, 0.9919973194877514, 0.9921327654582399, 0.9844626607259462, 0.9868135676549258, 0.9494210976454065, 0.9922926232136261, 0.9926298683951387, 0.982424113572782, 0.9500068333666061, 0.9918068043856701, 0.9914247892641883, 0.9607724972202558, 0.907084743017819, 0.9206204374254469, 0.9793375397176657, 0.9545660357371721, 0.989838350452985, 0.9912731466114367, 0.9406951318908406, 0.9620240792717164, 0.9784747809408312, 0.9461298726490541, 0.9904319863238239, 0.9854926089719369, 0.9925993098773629, 0.9877122788860004, 0.9697951469747436, 0.9771473508285731, 0.9929117189371928, 0.9928092113690195]}, {\"categories\": [\"0\", \"1\", \"2\", \"3\", \"4\", \"5\", \"6\", \"7\", \"8\", \"9\", \"10\", \"11\", \"12\", \"13\", \"14\", \"15\", \"16\", \"17\", \"18\", \"19\", \"20\", \"21\", \"22\", \"23\", \"24\", \"25\", \"26\", \"27\", \"28\", \"29\", \"30\", \"31\", \"32\", \"33\", \"34\", \"35\", \"36\", \"37\", \"38\", \"39\", \"40\", \"41\", \"42\", \"43\", \"44\", \"45\", \"46\", \"47\", \"48\", \"49\", \"50\", \"51\", \"52\", \"53\", \"54\", \"55\", \"56\", \"57\", \"58\", \"59\", \"60\", \"61\", \"62\", \"63\", \"64\", \"65\", \"66\", \"67\", \"68\", \"69\", \"70\", \"71\", \"72\", \"73\", \"74\", \"75\", \"76\", \"77\", \"78\", \"79\", \"80\", \"81\", \"82\", \"83\", \"84\", \"85\", \"86\", \"87\", \"88\", \"89\", \"90\", \"91\", \"92\", \"93\", \"94\", \"95\", \"96\", \"97\", \"98\", \"99\"], \"mode\": \"lines\", \"name\": \"average_precision_score_weighted_max\", \"stepped\": true, \"type\": \"scatter\", \"data\": [0.9928142202886845, 0.9928142202886845, 0.9928142202886845, 0.9928142202886845, 0.9928142202886845, 0.9928142202886845, 0.9928142202886845, 0.9928142202886845, 0.9928142202886845, 0.9928142202886845, 0.9928142202886845, 0.9928142202886845, 0.9928142202886845, 0.9928142202886845, 0.9928142202886845, 0.9928142202886845, 0.9928142202886845, 0.9928142202886845, 0.9928142202886845, 0.9928142202886845, 0.9928142202886845, 0.9928142202886845, 0.9928142202886845, 0.9928142202886845, 0.9928142202886845, 0.9928142202886845, 0.9928142202886845, 0.9928142202886845, 0.9928142202886845, 0.9928142202886845, 0.9928142202886845, 0.9928142202886845, 0.9928142202886845, 0.9928142202886845, 0.9928142202886845, 0.9928142202886845, 0.9928142202886845, 0.9928142202886845, 0.9928142202886845, 0.9928142202886845, 0.9928142202886845, 0.9928142202886845, 0.9928142202886845, 0.9928142202886845, 0.9928142202886845, 0.9928142202886845, 0.9928142202886845, 0.9928142202886845, 0.9928142202886845, 0.9928142202886845, 0.9928142202886845, 0.9928142202886845, 0.9928142202886845, 0.9928142202886845, 0.9928142202886845, 0.9928142202886845, 0.9928142202886845, 0.9928142202886845, 0.9928142202886845, 0.9928142202886845, 0.9928142202886845, 0.9928142202886845, 0.9928142202886845, 0.9928142202886845, 0.9928142202886845, 0.9928142202886845, 0.9928142202886845, 0.9928142202886845, 0.9928142202886845, 0.9928142202886845, 0.9928142202886845, 0.9928142202886845, 0.9928142202886845, 0.9928142202886845, 0.9928142202886845, 0.9928142202886845, 0.9928142202886845, 0.9928142202886845, 0.9928142202886845, 0.9928142202886845, 0.9928142202886845, 0.9928142202886845, 0.9928142202886845, 0.9928142202886845, 0.9928142202886845, 0.9928142202886845, 0.9928142202886845, 0.9928142202886845, 0.9928142202886845, 0.9928142202886845, 0.9928142202886845, 0.9928142202886845, 0.9928142202886845, 0.9928142202886845, 0.9928142202886845, 0.9928142202886845, 0.9928142202886845, 0.9928142202886845, 0.9929117189371928, 0.9929117189371928]}], \"recall_score_macro\": [{\"categories\": [\"0\", \"1\", \"2\", \"3\", \"4\", \"5\", \"6\", \"7\", \"8\", \"9\", \"10\", \"11\", \"12\", \"13\", \"14\", \"15\", \"16\", \"17\", \"18\", \"19\", \"20\", \"21\", \"22\", \"23\", \"24\", \"25\", \"26\", \"27\", \"28\", \"29\", \"30\", \"31\", \"32\", \"33\", \"34\", \"35\", \"36\", \"37\", \"38\", \"39\", \"40\", \"41\", \"42\", \"43\", \"44\", \"45\", \"46\", \"47\", \"48\", \"49\", \"50\", \"51\", \"52\", \"53\", \"54\", \"55\", \"56\", \"57\", \"58\", \"59\", \"60\", \"61\", \"62\", \"63\", \"64\", \"65\", \"66\", \"67\", \"68\", \"69\", \"70\", \"71\", \"72\", \"73\", \"74\", \"75\", \"76\", \"77\", \"78\", \"79\", \"80\", \"81\", \"82\", \"83\", \"84\", \"85\", \"86\", \"87\", \"88\", \"89\", \"90\", \"91\", \"92\", \"93\", \"94\", \"95\", \"96\", \"97\", \"98\", \"99\"], \"mode\": \"markers\", \"name\": \"recall_score_macro\", \"stepped\": false, \"type\": \"scatter\", \"data\": [0.9513530205264239, 0.9462843933398372, 0.8409335294753969, 0.8167359184451966, 0.6706906401953228, 0.6019995179218763, 0.8965142509884132, 0.8737490032004078, 0.8939996960919109, 0.8796585746978369, 0.9420700336872073, 0.8127206812545893, 0.8625225663352232, 0.9038660069219586, 0.8832968772271205, 0.9031784749409428, 0.9408682286898964, 0.8747158575916245, 0.8151239138777268, 0.8073958592126736, 0.8344687000421821, 0.9160922116154268, 0.8346204723598843, 0.9302516949399081, 0.8619296359634374, 0.7991246459705545, 0.9153423657553473, 0.9199880338559453, 0.8965802311124023, 0.8090886631754206, 0.5, 0.7982577190907422, 0.9454809779978663, 0.8653546713659012, 0.9188103742199318, 0.5, 0.8810643476789425, 0.9425524573960942, 0.9419500654853552, 0.880311445574321, 0.8807513604050612, 0.9089423765384991, 0.841668148439809, 0.8249616805615794, 0.8699526064057906, 0.9484101088972681, 0.9506036368319493, 0.8693668864101634, 0.9449775365231534, 0.947548584978169, 0.8392916047207436, 0.8562226026421111, 0.9465854877364043, 0.8996696054909673, 0.8993813964940822, 0.9403316397895953, 0.9533336642100725, 0.9521304105498357, 0.8999028210904327, 0.940339099199354, 0.9388134168054085, 0.9265670552423938, 0.8804161281710037, 0.8949729238743386, 0.9499046342609099, 0.94198035351555, 0.9234819811679316, 0.9331314571627676, 0.8984048023717925, 0.9392092013849419, 0.9450155532499325, 0.9484371286415552, 0.9391662212418821, 0.9388386533045582, 0.8684039289016784, 0.9446763972245419, 0.9541636893587736, 0.9351538490860392, 0.87021953802303, 0.9524214011270598, 0.9545614985386599, 0.8994716504766856, 0.8202839238694495, 0.8283104290195453, 0.9260926714600106, 0.8770711103002011, 0.9484989143784877, 0.9523607247390204, 0.8645699385334529, 0.889683735841977, 0.927232716669951, 0.8605000858336467, 0.9502848048233801, 0.9392185332120551, 0.9538182163953757, 0.943864347798041, 0.9111326835204862, 0.9035606665099942, 0.9574817335610948, 0.9549412428530657]}, {\"categories\": [\"0\", \"1\", \"2\", \"3\", \"4\", \"5\", \"6\", \"7\", \"8\", \"9\", \"10\", \"11\", \"12\", \"13\", \"14\", \"15\", \"16\", \"17\", \"18\", \"19\", \"20\", \"21\", \"22\", \"23\", \"24\", \"25\", \"26\", \"27\", \"28\", \"29\", \"30\", \"31\", \"32\", \"33\", \"34\", \"35\", \"36\", \"37\", \"38\", \"39\", \"40\", \"41\", \"42\", \"43\", \"44\", \"45\", \"46\", \"47\", \"48\", \"49\", \"50\", \"51\", \"52\", \"53\", \"54\", \"55\", \"56\", \"57\", \"58\", \"59\", \"60\", \"61\", \"62\", \"63\", \"64\", \"65\", \"66\", \"67\", \"68\", \"69\", \"70\", \"71\", \"72\", \"73\", \"74\", \"75\", \"76\", \"77\", \"78\", \"79\", \"80\", \"81\", \"82\", \"83\", \"84\", \"85\", \"86\", \"87\", \"88\", \"89\", \"90\", \"91\", \"92\", \"93\", \"94\", \"95\", \"96\", \"97\", \"98\", \"99\"], \"mode\": \"lines\", \"name\": \"recall_score_macro_max\", \"stepped\": true, \"type\": \"scatter\", \"data\": [0.9513530205264239, 0.9513530205264239, 0.9513530205264239, 0.9513530205264239, 0.9513530205264239, 0.9513530205264239, 0.9513530205264239, 0.9513530205264239, 0.9513530205264239, 0.9513530205264239, 0.9513530205264239, 0.9513530205264239, 0.9513530205264239, 0.9513530205264239, 0.9513530205264239, 0.9513530205264239, 0.9513530205264239, 0.9513530205264239, 0.9513530205264239, 0.9513530205264239, 0.9513530205264239, 0.9513530205264239, 0.9513530205264239, 0.9513530205264239, 0.9513530205264239, 0.9513530205264239, 0.9513530205264239, 0.9513530205264239, 0.9513530205264239, 0.9513530205264239, 0.9513530205264239, 0.9513530205264239, 0.9513530205264239, 0.9513530205264239, 0.9513530205264239, 0.9513530205264239, 0.9513530205264239, 0.9513530205264239, 0.9513530205264239, 0.9513530205264239, 0.9513530205264239, 0.9513530205264239, 0.9513530205264239, 0.9513530205264239, 0.9513530205264239, 0.9513530205264239, 0.9513530205264239, 0.9513530205264239, 0.9513530205264239, 0.9513530205264239, 0.9513530205264239, 0.9513530205264239, 0.9513530205264239, 0.9513530205264239, 0.9513530205264239, 0.9513530205264239, 0.9533336642100725, 0.9533336642100725, 0.9533336642100725, 0.9533336642100725, 0.9533336642100725, 0.9533336642100725, 0.9533336642100725, 0.9533336642100725, 0.9533336642100725, 0.9533336642100725, 0.9533336642100725, 0.9533336642100725, 0.9533336642100725, 0.9533336642100725, 0.9533336642100725, 0.9533336642100725, 0.9533336642100725, 0.9533336642100725, 0.9533336642100725, 0.9533336642100725, 0.9541636893587736, 0.9541636893587736, 0.9541636893587736, 0.9541636893587736, 0.9545614985386599, 0.9545614985386599, 0.9545614985386599, 0.9545614985386599, 0.9545614985386599, 0.9545614985386599, 0.9545614985386599, 0.9545614985386599, 0.9545614985386599, 0.9545614985386599, 0.9545614985386599, 0.9545614985386599, 0.9545614985386599, 0.9545614985386599, 0.9545614985386599, 0.9545614985386599, 0.9545614985386599, 0.9545614985386599, 0.9574817335610948, 0.9574817335610948]}], \"f1_score_macro\": [{\"categories\": [\"0\", \"1\", \"2\", \"3\", \"4\", \"5\", \"6\", \"7\", \"8\", \"9\", \"10\", \"11\", \"12\", \"13\", \"14\", \"15\", \"16\", \"17\", \"18\", \"19\", \"20\", \"21\", \"22\", \"23\", \"24\", \"25\", \"26\", \"27\", \"28\", \"29\", \"30\", \"31\", \"32\", \"33\", \"34\", \"35\", \"36\", \"37\", \"38\", \"39\", \"40\", \"41\", \"42\", \"43\", \"44\", \"45\", \"46\", \"47\", \"48\", \"49\", \"50\", \"51\", \"52\", \"53\", \"54\", \"55\", \"56\", \"57\", \"58\", \"59\", \"60\", \"61\", \"62\", \"63\", \"64\", \"65\", \"66\", \"67\", \"68\", \"69\", \"70\", \"71\", \"72\", \"73\", \"74\", \"75\", \"76\", \"77\", \"78\", \"79\", \"80\", \"81\", \"82\", \"83\", \"84\", \"85\", \"86\", \"87\", \"88\", \"89\", \"90\", \"91\", \"92\", \"93\", \"94\", \"95\", \"96\", \"97\", \"98\", \"99\"], \"mode\": \"markers\", \"name\": \"f1_score_macro\", \"stepped\": false, \"type\": \"scatter\", \"data\": [0.9513246303352811, 0.9463032971496677, 0.8406667280465699, 0.8161508769984307, 0.6309744709915048, 0.5225198799010211, 0.8962724172788874, 0.8733893120455034, 0.8936951096316058, 0.8794596110726672, 0.9420336726190769, 0.81253216249413, 0.8624448494497132, 0.9037332166413627, 0.8831926057956407, 0.9030765190206973, 0.9407728210472557, 0.8747327966469932, 0.8147766004640321, 0.8073001237719934, 0.834266434133009, 0.9160332536555842, 0.8343877582217705, 0.9302119492585412, 0.8613936562042808, 0.7983421802611803, 0.9152037949347104, 0.9198419091227521, 0.895922774124491, 0.8076724358175827, 0.3290623715302362, 0.7980927345397573, 0.9454071612737949, 0.865072150558035, 0.9187567342515672, 0.3290623715302362, 0.8809297607615335, 0.9425008849904287, 0.9418956611904111, 0.8801601348298937, 0.8806503820294868, 0.9089040792373074, 0.8413045235144578, 0.8246255897313833, 0.8698032631731099, 0.9483629141092254, 0.9505498520049708, 0.8692551300931168, 0.9449779688052807, 0.9475208156398471, 0.839149140732302, 0.8559210038055124, 0.9466329276604789, 0.8994953664445509, 0.8989145707770785, 0.9402863463704765, 0.9533068497933751, 0.9521132890830515, 0.8993839724929102, 0.9403140374697175, 0.9388295937158695, 0.9265072065768344, 0.8802872281020676, 0.894712598791445, 0.9498815589473473, 0.9419162474991941, 0.9233525205488409, 0.9330475135151163, 0.8981828536668909, 0.939144453647668, 0.9449185427947375, 0.9484024403594905, 0.9391393219369337, 0.9387207589781573, 0.8682094677039001, 0.9445475490085083, 0.954118694161154, 0.935092517444453, 0.8700254230599395, 0.9524039715559921, 0.9545530021011557, 0.8993632219506871, 0.820240755231888, 0.8275368061144747, 0.9259562653965128, 0.8770203120227947, 0.9484639769833392, 0.9523230933776325, 0.8645119046239962, 0.8894218534380673, 0.9271097109589614, 0.8603561979770351, 0.9502214139996497, 0.9391596000314941, 0.9538190290971056, 0.9438452230539888, 0.9109768820742626, 0.9031548563266725, 0.9574765020140793, 0.954911801128034]}, {\"categories\": [\"0\", \"1\", \"2\", \"3\", \"4\", \"5\", \"6\", \"7\", \"8\", \"9\", \"10\", \"11\", \"12\", \"13\", \"14\", \"15\", \"16\", \"17\", \"18\", \"19\", \"20\", \"21\", \"22\", \"23\", \"24\", \"25\", \"26\", \"27\", \"28\", \"29\", \"30\", \"31\", \"32\", \"33\", \"34\", \"35\", \"36\", \"37\", \"38\", \"39\", \"40\", \"41\", \"42\", \"43\", \"44\", \"45\", \"46\", \"47\", \"48\", \"49\", \"50\", \"51\", \"52\", \"53\", \"54\", \"55\", \"56\", \"57\", \"58\", \"59\", \"60\", \"61\", \"62\", \"63\", \"64\", \"65\", \"66\", \"67\", \"68\", \"69\", \"70\", \"71\", \"72\", \"73\", \"74\", \"75\", \"76\", \"77\", \"78\", \"79\", \"80\", \"81\", \"82\", \"83\", \"84\", \"85\", \"86\", \"87\", \"88\", \"89\", \"90\", \"91\", \"92\", \"93\", \"94\", \"95\", \"96\", \"97\", \"98\", \"99\"], \"mode\": \"lines\", \"name\": \"f1_score_macro_max\", \"stepped\": true, \"type\": \"scatter\", \"data\": [0.9513246303352811, 0.9513246303352811, 0.9513246303352811, 0.9513246303352811, 0.9513246303352811, 0.9513246303352811, 0.9513246303352811, 0.9513246303352811, 0.9513246303352811, 0.9513246303352811, 0.9513246303352811, 0.9513246303352811, 0.9513246303352811, 0.9513246303352811, 0.9513246303352811, 0.9513246303352811, 0.9513246303352811, 0.9513246303352811, 0.9513246303352811, 0.9513246303352811, 0.9513246303352811, 0.9513246303352811, 0.9513246303352811, 0.9513246303352811, 0.9513246303352811, 0.9513246303352811, 0.9513246303352811, 0.9513246303352811, 0.9513246303352811, 0.9513246303352811, 0.9513246303352811, 0.9513246303352811, 0.9513246303352811, 0.9513246303352811, 0.9513246303352811, 0.9513246303352811, 0.9513246303352811, 0.9513246303352811, 0.9513246303352811, 0.9513246303352811, 0.9513246303352811, 0.9513246303352811, 0.9513246303352811, 0.9513246303352811, 0.9513246303352811, 0.9513246303352811, 0.9513246303352811, 0.9513246303352811, 0.9513246303352811, 0.9513246303352811, 0.9513246303352811, 0.9513246303352811, 0.9513246303352811, 0.9513246303352811, 0.9513246303352811, 0.9513246303352811, 0.9533068497933751, 0.9533068497933751, 0.9533068497933751, 0.9533068497933751, 0.9533068497933751, 0.9533068497933751, 0.9533068497933751, 0.9533068497933751, 0.9533068497933751, 0.9533068497933751, 0.9533068497933751, 0.9533068497933751, 0.9533068497933751, 0.9533068497933751, 0.9533068497933751, 0.9533068497933751, 0.9533068497933751, 0.9533068497933751, 0.9533068497933751, 0.9533068497933751, 0.954118694161154, 0.954118694161154, 0.954118694161154, 0.954118694161154, 0.9545530021011557, 0.9545530021011557, 0.9545530021011557, 0.9545530021011557, 0.9545530021011557, 0.9545530021011557, 0.9545530021011557, 0.9545530021011557, 0.9545530021011557, 0.9545530021011557, 0.9545530021011557, 0.9545530021011557, 0.9545530021011557, 0.9545530021011557, 0.9545530021011557, 0.9545530021011557, 0.9545530021011557, 0.9545530021011557, 0.9574765020140793, 0.9574765020140793]}], \"precision_score_macro\": [{\"categories\": [\"0\", \"1\", \"2\", \"3\", \"4\", \"5\", \"6\", \"7\", \"8\", \"9\", \"10\", \"11\", \"12\", \"13\", \"14\", \"15\", \"16\", \"17\", \"18\", \"19\", \"20\", \"21\", \"22\", \"23\", \"24\", \"25\", \"26\", \"27\", \"28\", \"29\", \"30\", \"31\", \"32\", \"33\", \"34\", \"35\", \"36\", \"37\", \"38\", \"39\", \"40\", \"41\", \"42\", \"43\", \"44\", \"45\", \"46\", \"47\", \"48\", \"49\", \"50\", \"51\", \"52\", \"53\", \"54\", \"55\", \"56\", \"57\", \"58\", \"59\", \"60\", \"61\", \"62\", \"63\", \"64\", \"65\", \"66\", \"67\", \"68\", \"69\", \"70\", \"71\", \"72\", \"73\", \"74\", \"75\", \"76\", \"77\", \"78\", \"79\", \"80\", \"81\", \"82\", \"83\", \"84\", \"85\", \"86\", \"87\", \"88\", \"89\", \"90\", \"91\", \"92\", \"93\", \"94\", \"95\", \"96\", \"97\", \"98\", \"99\"], \"mode\": \"markers\", \"name\": \"precision_score_macro\", \"stepped\": false, \"type\": \"scatter\", \"data\": [0.9523687724114593, 0.9463717984213152, 0.8413875029926624, 0.8174249330312213, 0.7951590303168125, 0.7751128381075063, 0.8990735748172163, 0.8773929365429047, 0.8972805791928659, 0.8798134938778581, 0.9421377778342768, 0.8135389459500434, 0.8628938138041157, 0.9038306952985742, 0.8832868675390729, 0.9030765716391013, 0.9408902697931791, 0.8749713432063395, 0.8163676685645334, 0.8075550336626419, 0.8348032683585285, 0.916246652581924, 0.8348317736839153, 0.9302626918596815, 0.8647190651516302, 0.8000882507322509, 0.9161509600022661, 0.9217404445474815, 0.9051360484100052, 0.816483067259019, 0.24523579378017119, 0.7983194949324557, 0.9455150411473771, 0.8658209705226577, 0.9189261862986952, 0.24523579378017119, 0.8820882641081262, 0.9426397780408171, 0.941938550194719, 0.8813885217843165, 0.8822548920908246, 0.9094013746256777, 0.8433840690216755, 0.8249453454847349, 0.8701581721789189, 0.948375611755174, 0.950589103784276, 0.8694684288075651, 0.9450428669693591, 0.9476064561216647, 0.8393186621515225, 0.8570128150588063, 0.9467290582114269, 0.9008320211282023, 0.9052852677304125, 0.9404529016617253, 0.9537890600990375, 0.9524360608966029, 0.9057030755531473, 0.9403647150343023, 0.9390839085266443, 0.9267053550660999, 0.8817418693152845, 0.8977710769147651, 0.9502028949767745, 0.9422696980258127, 0.9241374306867101, 0.9335940284508357, 0.9011974593802279, 0.939361782029667, 0.9464486590434225, 0.9488032599273056, 0.9392385037422324, 0.9392046434668517, 0.8689554255882361, 0.9466997232037828, 0.9544088714316521, 0.9352387345388224, 0.8703469919290423, 0.9529670788697565, 0.9548084182061828, 0.8995640208072666, 0.8205795374804445, 0.8301189984556471, 0.9268549173226541, 0.8772459892426104, 0.9486218704412496, 0.9523964991817959, 0.865441155326973, 0.8912392207525318, 0.9273263584792873, 0.8606866417669377, 0.9503001616750912, 0.9394837216020948, 0.9547346914109365, 0.9438449259642823, 0.9115998370105446, 0.9089958739121645, 0.9577985994734106, 0.955163794614063]}, {\"categories\": [\"0\", \"1\", \"2\", \"3\", \"4\", \"5\", \"6\", \"7\", \"8\", \"9\", \"10\", \"11\", \"12\", \"13\", \"14\", \"15\", \"16\", \"17\", \"18\", \"19\", \"20\", \"21\", \"22\", \"23\", \"24\", \"25\", \"26\", \"27\", \"28\", \"29\", \"30\", \"31\", \"32\", \"33\", \"34\", \"35\", \"36\", \"37\", \"38\", \"39\", \"40\", \"41\", \"42\", \"43\", \"44\", \"45\", \"46\", \"47\", \"48\", \"49\", \"50\", \"51\", \"52\", \"53\", \"54\", \"55\", \"56\", \"57\", \"58\", \"59\", \"60\", \"61\", \"62\", \"63\", \"64\", \"65\", \"66\", \"67\", \"68\", \"69\", \"70\", \"71\", \"72\", \"73\", \"74\", \"75\", \"76\", \"77\", \"78\", \"79\", \"80\", \"81\", \"82\", \"83\", \"84\", \"85\", \"86\", \"87\", \"88\", \"89\", \"90\", \"91\", \"92\", \"93\", \"94\", \"95\", \"96\", \"97\", \"98\", \"99\"], \"mode\": \"lines\", \"name\": \"precision_score_macro_max\", \"stepped\": true, \"type\": \"scatter\", \"data\": [0.9523687724114593, 0.9523687724114593, 0.9523687724114593, 0.9523687724114593, 0.9523687724114593, 0.9523687724114593, 0.9523687724114593, 0.9523687724114593, 0.9523687724114593, 0.9523687724114593, 0.9523687724114593, 0.9523687724114593, 0.9523687724114593, 0.9523687724114593, 0.9523687724114593, 0.9523687724114593, 0.9523687724114593, 0.9523687724114593, 0.9523687724114593, 0.9523687724114593, 0.9523687724114593, 0.9523687724114593, 0.9523687724114593, 0.9523687724114593, 0.9523687724114593, 0.9523687724114593, 0.9523687724114593, 0.9523687724114593, 0.9523687724114593, 0.9523687724114593, 0.9523687724114593, 0.9523687724114593, 0.9523687724114593, 0.9523687724114593, 0.9523687724114593, 0.9523687724114593, 0.9523687724114593, 0.9523687724114593, 0.9523687724114593, 0.9523687724114593, 0.9523687724114593, 0.9523687724114593, 0.9523687724114593, 0.9523687724114593, 0.9523687724114593, 0.9523687724114593, 0.9523687724114593, 0.9523687724114593, 0.9523687724114593, 0.9523687724114593, 0.9523687724114593, 0.9523687724114593, 0.9523687724114593, 0.9523687724114593, 0.9523687724114593, 0.9523687724114593, 0.9537890600990375, 0.9537890600990375, 0.9537890600990375, 0.9537890600990375, 0.9537890600990375, 0.9537890600990375, 0.9537890600990375, 0.9537890600990375, 0.9537890600990375, 0.9537890600990375, 0.9537890600990375, 0.9537890600990375, 0.9537890600990375, 0.9537890600990375, 0.9537890600990375, 0.9537890600990375, 0.9537890600990375, 0.9537890600990375, 0.9537890600990375, 0.9537890600990375, 0.9544088714316521, 0.9544088714316521, 0.9544088714316521, 0.9544088714316521, 0.9548084182061828, 0.9548084182061828, 0.9548084182061828, 0.9548084182061828, 0.9548084182061828, 0.9548084182061828, 0.9548084182061828, 0.9548084182061828, 0.9548084182061828, 0.9548084182061828, 0.9548084182061828, 0.9548084182061828, 0.9548084182061828, 0.9548084182061828, 0.9548084182061828, 0.9548084182061828, 0.9548084182061828, 0.9548084182061828, 0.9577985994734106, 0.9577985994734106]}], \"AUC_weighted\": [{\"categories\": [\"0\", \"1\", \"2\", \"3\", \"4\", \"5\", \"6\", \"7\", \"8\", \"9\", \"10\", \"11\", \"12\", \"13\", \"14\", \"15\", \"16\", \"17\", \"18\", \"19\", \"20\", \"21\", \"22\", \"23\", \"24\", \"25\", \"26\", \"27\", \"28\", \"29\", \"30\", \"31\", \"32\", \"33\", \"34\", \"35\", \"36\", \"37\", \"38\", \"39\", \"40\", \"41\", \"42\", \"43\", \"44\", \"45\", \"46\", \"47\", \"48\", \"49\", \"50\", \"51\", \"52\", \"53\", \"54\", \"55\", \"56\", \"57\", \"58\", \"59\", \"60\", \"61\", \"62\", \"63\", \"64\", \"65\", \"66\", \"67\", \"68\", \"69\", \"70\", \"71\", \"72\", \"73\", \"74\", \"75\", \"76\", \"77\", \"78\", \"79\", \"80\", \"81\", \"82\", \"83\", \"84\", \"85\", \"86\", \"87\", \"88\", \"89\", \"90\", \"91\", \"92\", \"93\", \"94\", \"95\", \"96\", \"97\", \"98\", \"99\"], \"mode\": \"markers\", \"name\": \"AUC_weighted\", \"stepped\": false, \"type\": \"scatter\", \"data\": [0.9927111305078589, 0.9890456350779407, 0.9165010460659964, 0.8996578924984359, 0.9263300846539109, 0.8937664018998458, 0.9679896854361505, 0.9554425721082873, 0.9688040631602813, 0.9475852738070113, 0.9876956153342451, 0.9086426453736361, 0.9395531285686513, 0.9621086577765171, 0.9524969725691325, 0.9638059415641452, 0.9859756084316791, 0.9476583721020122, 0.900638013145913, 0.8989264308649855, 0.9234197919312301, 0.972366706922795, 0.9110015445813374, 0.9823524815845032, 0.9432541644217531, 0.8929613959989279, 0.9714079829676052, 0.978826703725524, 0.9756530744040782, 0.9048623969638594, 0.8912661608069303, 0.8846874070161455, 0.9872500546127096, 0.9428792105978567, 0.9749461833198241, 0.9067571303155146, 0.9575819107886483, 0.9872925853978346, 0.9857645879533488, 0.9569665382983958, 0.9495668196240661, 0.9650458659760488, 0.9259415169622993, 0.9177814147370723, 0.9397362638700386, 0.9887967627063391, 0.9906882950897543, 0.9458146755736874, 0.9884613777541753, 0.9880734133133051, 0.9206621666507978, 0.9377914934545597, 0.9885591753945426, 0.9636568670534658, 0.9753256647570895, 0.9853922946611278, 0.9924314491862083, 0.9916894804497389, 0.974761131137938, 0.9852784801420261, 0.9845894522912204, 0.97537914811059, 0.9571494157009551, 0.9661569295829864, 0.991078265741671, 0.9870612519073513, 0.9779191226850565, 0.9804815780776899, 0.970506174685859, 0.9846146335058916, 0.9918299484134019, 0.9919798077939352, 0.9843584408761046, 0.9866527576962643, 0.9481105217794499, 0.9922026039780031, 0.9925363157590736, 0.9822800801465397, 0.9481362998851303, 0.9916735320999269, 0.9913689373661734, 0.9610102984620083, 0.9052860319244544, 0.9228724672679585, 0.9800506769820382, 0.9531987647243317, 0.9896815155631724, 0.9911142916767005, 0.9399896522816507, 0.961011834195423, 0.9785106417145505, 0.9441307084553132, 0.9902815366465945, 0.9855206316372538, 0.9925383272926916, 0.9876125714841422, 0.9700499939489999, 0.9764892051313716, 0.9927837190475554, 0.9926767735689701]}, {\"categories\": [\"0\", \"1\", \"2\", \"3\", \"4\", \"5\", \"6\", \"7\", \"8\", \"9\", \"10\", \"11\", \"12\", \"13\", \"14\", \"15\", \"16\", \"17\", \"18\", \"19\", \"20\", \"21\", \"22\", \"23\", \"24\", \"25\", \"26\", \"27\", \"28\", \"29\", \"30\", \"31\", \"32\", \"33\", \"34\", \"35\", \"36\", \"37\", \"38\", \"39\", \"40\", \"41\", \"42\", \"43\", \"44\", \"45\", \"46\", \"47\", \"48\", \"49\", \"50\", \"51\", \"52\", \"53\", \"54\", \"55\", \"56\", \"57\", \"58\", \"59\", \"60\", \"61\", \"62\", \"63\", \"64\", \"65\", \"66\", \"67\", \"68\", \"69\", \"70\", \"71\", \"72\", \"73\", \"74\", \"75\", \"76\", \"77\", \"78\", \"79\", \"80\", \"81\", \"82\", \"83\", \"84\", \"85\", \"86\", \"87\", \"88\", \"89\", \"90\", \"91\", \"92\", \"93\", \"94\", \"95\", \"96\", \"97\", \"98\", \"99\"], \"mode\": \"lines\", \"name\": \"AUC_weighted_max\", \"stepped\": true, \"type\": \"scatter\", \"data\": [0.9927111305078589, 0.9927111305078589, 0.9927111305078589, 0.9927111305078589, 0.9927111305078589, 0.9927111305078589, 0.9927111305078589, 0.9927111305078589, 0.9927111305078589, 0.9927111305078589, 0.9927111305078589, 0.9927111305078589, 0.9927111305078589, 0.9927111305078589, 0.9927111305078589, 0.9927111305078589, 0.9927111305078589, 0.9927111305078589, 0.9927111305078589, 0.9927111305078589, 0.9927111305078589, 0.9927111305078589, 0.9927111305078589, 0.9927111305078589, 0.9927111305078589, 0.9927111305078589, 0.9927111305078589, 0.9927111305078589, 0.9927111305078589, 0.9927111305078589, 0.9927111305078589, 0.9927111305078589, 0.9927111305078589, 0.9927111305078589, 0.9927111305078589, 0.9927111305078589, 0.9927111305078589, 0.9927111305078589, 0.9927111305078589, 0.9927111305078589, 0.9927111305078589, 0.9927111305078589, 0.9927111305078589, 0.9927111305078589, 0.9927111305078589, 0.9927111305078589, 0.9927111305078589, 0.9927111305078589, 0.9927111305078589, 0.9927111305078589, 0.9927111305078589, 0.9927111305078589, 0.9927111305078589, 0.9927111305078589, 0.9927111305078589, 0.9927111305078589, 0.9927111305078589, 0.9927111305078589, 0.9927111305078589, 0.9927111305078589, 0.9927111305078589, 0.9927111305078589, 0.9927111305078589, 0.9927111305078589, 0.9927111305078589, 0.9927111305078589, 0.9927111305078589, 0.9927111305078589, 0.9927111305078589, 0.9927111305078589, 0.9927111305078589, 0.9927111305078589, 0.9927111305078589, 0.9927111305078589, 0.9927111305078589, 0.9927111305078589, 0.9927111305078589, 0.9927111305078589, 0.9927111305078589, 0.9927111305078589, 0.9927111305078589, 0.9927111305078589, 0.9927111305078589, 0.9927111305078589, 0.9927111305078589, 0.9927111305078589, 0.9927111305078589, 0.9927111305078589, 0.9927111305078589, 0.9927111305078589, 0.9927111305078589, 0.9927111305078589, 0.9927111305078589, 0.9927111305078589, 0.9927111305078589, 0.9927111305078589, 0.9927111305078589, 0.9927111305078589, 0.9927837190475554, 0.9927837190475554]}], \"f1_score_weighted\": [{\"categories\": [\"0\", \"1\", \"2\", \"3\", \"4\", \"5\", \"6\", \"7\", \"8\", \"9\", \"10\", \"11\", \"12\", \"13\", \"14\", \"15\", \"16\", \"17\", \"18\", \"19\", \"20\", \"21\", \"22\", \"23\", \"24\", \"25\", \"26\", \"27\", \"28\", \"29\", \"30\", \"31\", \"32\", \"33\", \"34\", \"35\", \"36\", \"37\", \"38\", \"39\", \"40\", \"41\", \"42\", \"43\", \"44\", \"45\", \"46\", \"47\", \"48\", \"49\", \"50\", \"51\", \"52\", \"53\", \"54\", \"55\", \"56\", \"57\", \"58\", \"59\", \"60\", \"61\", \"62\", \"63\", \"64\", \"65\", \"66\", \"67\", \"68\", \"69\", \"70\", \"71\", \"72\", \"73\", \"74\", \"75\", \"76\", \"77\", \"78\", \"79\", \"80\", \"81\", \"82\", \"83\", \"84\", \"85\", \"86\", \"87\", \"88\", \"89\", \"90\", \"91\", \"92\", \"93\", \"94\", \"95\", \"96\", \"97\", \"98\", \"99\"], \"mode\": \"markers\", \"name\": \"f1_score_weighted\", \"stepped\": false, \"type\": \"scatter\", \"data\": [0.9513494845567324, 0.9463295888433384, 0.8407012120228771, 0.8161316921789602, 0.6308563356002478, 0.5227605255396013, 0.8963125333134319, 0.8734424640129307, 0.8937345108540142, 0.8794935013695309, 0.9420609298899529, 0.8126016765501578, 0.8625040842294951, 0.9037642936089243, 0.8832347474264551, 0.903110533653798, 0.9407962105375296, 0.8747949879124388, 0.8148255418478231, 0.8073735164609885, 0.8343152067412362, 0.9160685867912857, 0.8344266748749373, 0.9302432006747313, 0.8614134166021099, 0.7982796842972653, 0.9152357742997179, 0.9198757339796296, 0.8959555466799692, 0.807687216338252, 0.3228184320601952, 0.7981488545835432, 0.9454308627815282, 0.8651003066017878, 0.9187894248747746, 0.3228184320601952, 0.8809772646914302, 0.9425270967504655, 0.9419194628123411, 0.8802077763407647, 0.8807063885751998, 0.9089437976048271, 0.8413480491039624, 0.8246389813081846, 0.869845600112791, 0.9483865546032277, 0.9505714880086081, 0.8693016716507189, 0.9450045048869633, 0.9475449751921655, 0.8391991507547747, 0.855951722020721, 0.9466609682591877, 0.8995291153302372, 0.898952610832653, 0.9403118865444077, 0.9533290016543312, 0.9521368946203876, 0.899414020642818, 0.9403415548383893, 0.9388606692530537, 0.9265364935406153, 0.8803448308459743, 0.8947489406868637, 0.9499059445829994, 0.941938141197468, 0.923381631312649, 0.9330747029117921, 0.8982306535626039, 0.9391702293394127, 0.9449402320558583, 0.9484250964848681, 0.9391668940854065, 0.9387417278674659, 0.8682492713932641, 0.9445675050920256, 0.9541397965300374, 0.9351192479117157, 0.8700592339574748, 0.95242676242026, 0.9545784999827884, 0.8994000921720163, 0.8203246825407773, 0.8274988001418384, 0.9259816291492857, 0.8770754057460552, 0.9484868394167314, 0.9523462295703269, 0.8645787091738482, 0.8894547052325302, 0.927135226982825, 0.8604020203959195, 0.9502428967729404, 0.9391854361326549, 0.9538442237361784, 0.9438714481886248, 0.911004972106673, 0.9031953518671545, 0.9574998755472219, 0.9549351941476786]}, {\"categories\": [\"0\", \"1\", \"2\", \"3\", \"4\", \"5\", \"6\", \"7\", \"8\", \"9\", \"10\", \"11\", \"12\", \"13\", \"14\", \"15\", \"16\", \"17\", \"18\", \"19\", \"20\", \"21\", \"22\", \"23\", \"24\", \"25\", \"26\", \"27\", \"28\", \"29\", \"30\", \"31\", \"32\", \"33\", \"34\", \"35\", \"36\", \"37\", \"38\", \"39\", \"40\", \"41\", \"42\", \"43\", \"44\", \"45\", \"46\", \"47\", \"48\", \"49\", \"50\", \"51\", \"52\", \"53\", \"54\", \"55\", \"56\", \"57\", \"58\", \"59\", \"60\", \"61\", \"62\", \"63\", \"64\", \"65\", \"66\", \"67\", \"68\", \"69\", \"70\", \"71\", \"72\", \"73\", \"74\", \"75\", \"76\", \"77\", \"78\", \"79\", \"80\", \"81\", \"82\", \"83\", \"84\", \"85\", \"86\", \"87\", \"88\", \"89\", \"90\", \"91\", \"92\", \"93\", \"94\", \"95\", \"96\", \"97\", \"98\", \"99\"], \"mode\": \"lines\", \"name\": \"f1_score_weighted_max\", \"stepped\": true, \"type\": \"scatter\", \"data\": [0.9513494845567324, 0.9513494845567324, 0.9513494845567324, 0.9513494845567324, 0.9513494845567324, 0.9513494845567324, 0.9513494845567324, 0.9513494845567324, 0.9513494845567324, 0.9513494845567324, 0.9513494845567324, 0.9513494845567324, 0.9513494845567324, 0.9513494845567324, 0.9513494845567324, 0.9513494845567324, 0.9513494845567324, 0.9513494845567324, 0.9513494845567324, 0.9513494845567324, 0.9513494845567324, 0.9513494845567324, 0.9513494845567324, 0.9513494845567324, 0.9513494845567324, 0.9513494845567324, 0.9513494845567324, 0.9513494845567324, 0.9513494845567324, 0.9513494845567324, 0.9513494845567324, 0.9513494845567324, 0.9513494845567324, 0.9513494845567324, 0.9513494845567324, 0.9513494845567324, 0.9513494845567324, 0.9513494845567324, 0.9513494845567324, 0.9513494845567324, 0.9513494845567324, 0.9513494845567324, 0.9513494845567324, 0.9513494845567324, 0.9513494845567324, 0.9513494845567324, 0.9513494845567324, 0.9513494845567324, 0.9513494845567324, 0.9513494845567324, 0.9513494845567324, 0.9513494845567324, 0.9513494845567324, 0.9513494845567324, 0.9513494845567324, 0.9513494845567324, 0.9533290016543312, 0.9533290016543312, 0.9533290016543312, 0.9533290016543312, 0.9533290016543312, 0.9533290016543312, 0.9533290016543312, 0.9533290016543312, 0.9533290016543312, 0.9533290016543312, 0.9533290016543312, 0.9533290016543312, 0.9533290016543312, 0.9533290016543312, 0.9533290016543312, 0.9533290016543312, 0.9533290016543312, 0.9533290016543312, 0.9533290016543312, 0.9533290016543312, 0.9541397965300374, 0.9541397965300374, 0.9541397965300374, 0.9541397965300374, 0.9545784999827884, 0.9545784999827884, 0.9545784999827884, 0.9545784999827884, 0.9545784999827884, 0.9545784999827884, 0.9545784999827884, 0.9545784999827884, 0.9545784999827884, 0.9545784999827884, 0.9545784999827884, 0.9545784999827884, 0.9545784999827884, 0.9545784999827884, 0.9545784999827884, 0.9545784999827884, 0.9545784999827884, 0.9545784999827884, 0.9574998755472219, 0.9574998755472219]}], \"recall_score_weighted\": [{\"categories\": [\"0\", \"1\", \"2\", \"3\", \"4\", \"5\", \"6\", \"7\", \"8\", \"9\", \"10\", \"11\", \"12\", \"13\", \"14\", \"15\", \"16\", \"17\", \"18\", \"19\", \"20\", \"21\", \"22\", \"23\", \"24\", \"25\", \"26\", \"27\", \"28\", \"29\", \"30\", \"31\", \"32\", \"33\", \"34\", \"35\", \"36\", \"37\", \"38\", \"39\", \"40\", \"41\", \"42\", \"43\", \"44\", \"45\", \"46\", \"47\", \"48\", \"49\", \"50\", \"51\", \"52\", \"53\", \"54\", \"55\", \"56\", \"57\", \"58\", \"59\", \"60\", \"61\", \"62\", \"63\", \"64\", \"65\", \"66\", \"67\", \"68\", \"69\", \"70\", \"71\", \"72\", \"73\", \"74\", \"75\", \"76\", \"77\", \"78\", \"79\", \"80\", \"81\", \"82\", \"83\", \"84\", \"85\", \"86\", \"87\", \"88\", \"89\", \"90\", \"91\", \"92\", \"93\", \"94\", \"95\", \"96\", \"97\", \"98\", \"99\"], \"mode\": \"markers\", \"name\": \"recall_score_weighted\", \"stepped\": false, \"type\": \"scatter\", \"data\": [0.9513817127173215, 0.9463319442111191, 0.8407664038875913, 0.8162294120871799, 0.6703740069508626, 0.6020219521542409, 0.8964867690787154, 0.8737540704239404, 0.8939559777553827, 0.8795034050380451, 0.9420637451234812, 0.8127141799762864, 0.8625467320649944, 0.9037618718190312, 0.8832347844380614, 0.9031048421932679, 0.9407969168534907, 0.8748150196257504, 0.8149969001145788, 0.8074017720986134, 0.834360025375594, 0.9160760963324541, 0.8344587092115232, 0.9302432173676168, 0.8616993604806, 0.7984402588464988, 0.9152762888446497, 0.9199626457565314, 0.8965369025521174, 0.8087887710109942, 0.4904715875603161, 0.7981581445094736, 0.9454316448425869, 0.8651501421343042, 0.9187938423963116, 0.4904715875603161, 0.8810623573843767, 0.9425304316484248, 0.941919164740057, 0.8802986275987044, 0.8808184972384179, 0.9089680799047514, 0.8415591223446173, 0.8246353417595481, 0.8698657796659282, 0.9483856548334039, 0.9505711925689869, 0.8693111349297393, 0.945006404948946, 0.9475464287884595, 0.8392025662259522, 0.8560380679057559, 0.9466645807627291, 0.8996089229059621, 0.899344337390777, 0.9403154962937371, 0.9533417171286762, 0.9521458763780389, 0.8997967879012272, 0.9403425451050298, 0.938869328224128, 0.9265426819997173, 0.8804518160039816, 0.8949372097927064, 0.9499149546587308, 0.9419485741583445, 0.9234131237033234, 0.9330916696934132, 0.898409298984137, 0.9391752144686102, 0.9449848510933727, 0.9484362783940791, 0.9391690563802051, 0.9387555781625865, 0.8683040817901138, 0.9446329369233768, 0.954147030078313, 0.9351225253413936, 0.8700742160121354, 0.9524426319783055, 0.954586251985023, 0.899405265822443, 0.8203669139764218, 0.8277478931819757, 0.926016151057073, 0.8770899684183646, 0.9484906199705557, 0.9523481135306948, 0.8646577719553813, 0.8895689862018396, 0.9271390052260052, 0.8604215802499136, 0.9502435435188618, 0.9391955102716439, 0.9538706871655904, 0.9438706701505627, 0.9110285091963387, 0.9035283620038392, 0.9575090332307132, 0.954942307767314]}, {\"categories\": [\"0\", \"1\", \"2\", \"3\", \"4\", \"5\", \"6\", \"7\", \"8\", \"9\", \"10\", \"11\", \"12\", \"13\", \"14\", \"15\", \"16\", \"17\", \"18\", \"19\", \"20\", \"21\", \"22\", \"23\", \"24\", \"25\", \"26\", \"27\", \"28\", \"29\", \"30\", \"31\", \"32\", \"33\", \"34\", \"35\", \"36\", \"37\", \"38\", \"39\", \"40\", \"41\", \"42\", \"43\", \"44\", \"45\", \"46\", \"47\", \"48\", \"49\", \"50\", \"51\", \"52\", \"53\", \"54\", \"55\", \"56\", \"57\", \"58\", \"59\", \"60\", \"61\", \"62\", \"63\", \"64\", \"65\", \"66\", \"67\", \"68\", \"69\", \"70\", \"71\", \"72\", \"73\", \"74\", \"75\", \"76\", \"77\", \"78\", \"79\", \"80\", \"81\", \"82\", \"83\", \"84\", \"85\", \"86\", \"87\", \"88\", \"89\", \"90\", \"91\", \"92\", \"93\", \"94\", \"95\", \"96\", \"97\", \"98\", \"99\"], \"mode\": \"lines\", \"name\": \"recall_score_weighted_max\", \"stepped\": true, \"type\": \"scatter\", \"data\": [0.9513817127173215, 0.9513817127173215, 0.9513817127173215, 0.9513817127173215, 0.9513817127173215, 0.9513817127173215, 0.9513817127173215, 0.9513817127173215, 0.9513817127173215, 0.9513817127173215, 0.9513817127173215, 0.9513817127173215, 0.9513817127173215, 0.9513817127173215, 0.9513817127173215, 0.9513817127173215, 0.9513817127173215, 0.9513817127173215, 0.9513817127173215, 0.9513817127173215, 0.9513817127173215, 0.9513817127173215, 0.9513817127173215, 0.9513817127173215, 0.9513817127173215, 0.9513817127173215, 0.9513817127173215, 0.9513817127173215, 0.9513817127173215, 0.9513817127173215, 0.9513817127173215, 0.9513817127173215, 0.9513817127173215, 0.9513817127173215, 0.9513817127173215, 0.9513817127173215, 0.9513817127173215, 0.9513817127173215, 0.9513817127173215, 0.9513817127173215, 0.9513817127173215, 0.9513817127173215, 0.9513817127173215, 0.9513817127173215, 0.9513817127173215, 0.9513817127173215, 0.9513817127173215, 0.9513817127173215, 0.9513817127173215, 0.9513817127173215, 0.9513817127173215, 0.9513817127173215, 0.9513817127173215, 0.9513817127173215, 0.9513817127173215, 0.9513817127173215, 0.9533417171286762, 0.9533417171286762, 0.9533417171286762, 0.9533417171286762, 0.9533417171286762, 0.9533417171286762, 0.9533417171286762, 0.9533417171286762, 0.9533417171286762, 0.9533417171286762, 0.9533417171286762, 0.9533417171286762, 0.9533417171286762, 0.9533417171286762, 0.9533417171286762, 0.9533417171286762, 0.9533417171286762, 0.9533417171286762, 0.9533417171286762, 0.9533417171286762, 0.954147030078313, 0.954147030078313, 0.954147030078313, 0.954147030078313, 0.954586251985023, 0.954586251985023, 0.954586251985023, 0.954586251985023, 0.954586251985023, 0.954586251985023, 0.954586251985023, 0.954586251985023, 0.954586251985023, 0.954586251985023, 0.954586251985023, 0.954586251985023, 0.954586251985023, 0.954586251985023, 0.954586251985023, 0.954586251985023, 0.954586251985023, 0.954586251985023, 0.9575090332307132, 0.9575090332307132]}], \"f1_score_micro\": [{\"categories\": [\"0\", \"1\", \"2\", \"3\", \"4\", \"5\", \"6\", \"7\", \"8\", \"9\", \"10\", \"11\", \"12\", \"13\", \"14\", \"15\", \"16\", \"17\", \"18\", \"19\", \"20\", \"21\", \"22\", \"23\", \"24\", \"25\", \"26\", \"27\", \"28\", \"29\", \"30\", \"31\", \"32\", \"33\", \"34\", \"35\", \"36\", \"37\", \"38\", \"39\", \"40\", \"41\", \"42\", \"43\", \"44\", \"45\", \"46\", \"47\", \"48\", \"49\", \"50\", \"51\", \"52\", \"53\", \"54\", \"55\", \"56\", \"57\", \"58\", \"59\", \"60\", \"61\", \"62\", \"63\", \"64\", \"65\", \"66\", \"67\", \"68\", \"69\", \"70\", \"71\", \"72\", \"73\", \"74\", \"75\", \"76\", \"77\", \"78\", \"79\", \"80\", \"81\", \"82\", \"83\", \"84\", \"85\", \"86\", \"87\", \"88\", \"89\", \"90\", \"91\", \"92\", \"93\", \"94\", \"95\", \"96\", \"97\", \"98\", \"99\"], \"mode\": \"markers\", \"name\": \"f1_score_micro\", \"stepped\": false, \"type\": \"scatter\", \"data\": [0.951381712717323, 0.9463319442111191, 0.8407664038875918, 0.8162294120871806, 0.6703740069508722, 0.6020219521542524, 0.8964867690787178, 0.8737540704239436, 0.8939559777553857, 0.8795034050380452, 0.9420637451234815, 0.8127141799762875, 0.8625467320649951, 0.9037618718190312, 0.8832347844380616, 0.9031048421932679, 0.9407969168534907, 0.8748150196257505, 0.8149969001145791, 0.8074017720986137, 0.8343600253755946, 0.9160760963324541, 0.8344587092115237, 0.930243217367617, 0.8616993604806027, 0.7984402588465003, 0.9152762888446502, 0.9199626457565335, 0.8965369025521224, 0.808788771010996, 0.4904715875603293, 0.7981581445094738, 0.9454316448425869, 0.8651501421343049, 0.9187938423963116, 0.4904715875603293, 0.8810623573843779, 0.9425304316484251, 0.9419191647400572, 0.8802986275987056, 0.8808184972384183, 0.9089680799047514, 0.8415591223446194, 0.8246353417595481, 0.8698657796659285, 0.9483856548334039, 0.9505711925689869, 0.8693111349297397, 0.9450064049489463, 0.9475464287884596, 0.8392025662259526, 0.8560380679057571, 0.9466645807627293, 0.8996089229059635, 0.899344337390781, 0.9403154962937371, 0.9533417171286771, 0.9521458763780395, 0.8997967879012313, 0.9403425451050298, 0.9388693282241283, 0.9265426819997176, 0.8804518160039831, 0.8949372097927091, 0.9499149546587313, 0.9419485741583452, 0.9234131237033246, 0.9330916696934135, 0.8984092989841397, 0.9391752144686102, 0.9449848510933748, 0.9484362783940797, 0.9391690563802053, 0.9387555781625873, 0.8683040817901144, 0.944632936923379, 0.9541470300783137, 0.9351225253413936, 0.8700742160121362, 0.9524426319783064, 0.9545862519850236, 0.899405265822443, 0.8203669139764225, 0.8277478931819763, 0.9260161510570744, 0.8770899684183651, 0.9484906199705561, 0.952348113530695, 0.8646577719553825, 0.8895689862018414, 0.9271390052260052, 0.8604215802499141, 0.950243543518862, 0.9391955102716445, 0.9538706871655919, 0.9438706701505628, 0.9110285091963389, 0.9035283620038431, 0.9575090332307138, 0.9549423077673144]}, {\"categories\": [\"0\", \"1\", \"2\", \"3\", \"4\", \"5\", \"6\", \"7\", \"8\", \"9\", \"10\", \"11\", \"12\", \"13\", \"14\", \"15\", \"16\", \"17\", \"18\", \"19\", \"20\", \"21\", \"22\", \"23\", \"24\", \"25\", \"26\", \"27\", \"28\", \"29\", \"30\", \"31\", \"32\", \"33\", \"34\", \"35\", \"36\", \"37\", \"38\", \"39\", \"40\", \"41\", \"42\", \"43\", \"44\", \"45\", \"46\", \"47\", \"48\", \"49\", \"50\", \"51\", \"52\", \"53\", \"54\", \"55\", \"56\", \"57\", \"58\", \"59\", \"60\", \"61\", \"62\", \"63\", \"64\", \"65\", \"66\", \"67\", \"68\", \"69\", \"70\", \"71\", \"72\", \"73\", \"74\", \"75\", \"76\", \"77\", \"78\", \"79\", \"80\", \"81\", \"82\", \"83\", \"84\", \"85\", \"86\", \"87\", \"88\", \"89\", \"90\", \"91\", \"92\", \"93\", \"94\", \"95\", \"96\", \"97\", \"98\", \"99\"], \"mode\": \"lines\", \"name\": \"f1_score_micro_max\", \"stepped\": true, \"type\": \"scatter\", \"data\": [0.951381712717323, 0.951381712717323, 0.951381712717323, 0.951381712717323, 0.951381712717323, 0.951381712717323, 0.951381712717323, 0.951381712717323, 0.951381712717323, 0.951381712717323, 0.951381712717323, 0.951381712717323, 0.951381712717323, 0.951381712717323, 0.951381712717323, 0.951381712717323, 0.951381712717323, 0.951381712717323, 0.951381712717323, 0.951381712717323, 0.951381712717323, 0.951381712717323, 0.951381712717323, 0.951381712717323, 0.951381712717323, 0.951381712717323, 0.951381712717323, 0.951381712717323, 0.951381712717323, 0.951381712717323, 0.951381712717323, 0.951381712717323, 0.951381712717323, 0.951381712717323, 0.951381712717323, 0.951381712717323, 0.951381712717323, 0.951381712717323, 0.951381712717323, 0.951381712717323, 0.951381712717323, 0.951381712717323, 0.951381712717323, 0.951381712717323, 0.951381712717323, 0.951381712717323, 0.951381712717323, 0.951381712717323, 0.951381712717323, 0.951381712717323, 0.951381712717323, 0.951381712717323, 0.951381712717323, 0.951381712717323, 0.951381712717323, 0.951381712717323, 0.9533417171286771, 0.9533417171286771, 0.9533417171286771, 0.9533417171286771, 0.9533417171286771, 0.9533417171286771, 0.9533417171286771, 0.9533417171286771, 0.9533417171286771, 0.9533417171286771, 0.9533417171286771, 0.9533417171286771, 0.9533417171286771, 0.9533417171286771, 0.9533417171286771, 0.9533417171286771, 0.9533417171286771, 0.9533417171286771, 0.9533417171286771, 0.9533417171286771, 0.9541470300783137, 0.9541470300783137, 0.9541470300783137, 0.9541470300783137, 0.9545862519850236, 0.9545862519850236, 0.9545862519850236, 0.9545862519850236, 0.9545862519850236, 0.9545862519850236, 0.9545862519850236, 0.9545862519850236, 0.9545862519850236, 0.9545862519850236, 0.9545862519850236, 0.9545862519850236, 0.9545862519850236, 0.9545862519850236, 0.9545862519850236, 0.9545862519850236, 0.9545862519850236, 0.9545862519850236, 0.9575090332307138, 0.9575090332307138]}], \"balanced_accuracy\": [{\"categories\": [\"0\", \"1\", \"2\", \"3\", \"4\", \"5\", \"6\", \"7\", \"8\", \"9\", \"10\", \"11\", \"12\", \"13\", \"14\", \"15\", \"16\", \"17\", \"18\", \"19\", \"20\", \"21\", \"22\", \"23\", \"24\", \"25\", \"26\", \"27\", \"28\", \"29\", \"30\", \"31\", \"32\", \"33\", \"34\", \"35\", \"36\", \"37\", \"38\", \"39\", \"40\", \"41\", \"42\", \"43\", \"44\", \"45\", \"46\", \"47\", \"48\", \"49\", \"50\", \"51\", \"52\", \"53\", \"54\", \"55\", \"56\", \"57\", \"58\", \"59\", \"60\", \"61\", \"62\", \"63\", \"64\", \"65\", \"66\", \"67\", \"68\", \"69\", \"70\", \"71\", \"72\", \"73\", \"74\", \"75\", \"76\", \"77\", \"78\", \"79\", \"80\", \"81\", \"82\", \"83\", \"84\", \"85\", \"86\", \"87\", \"88\", \"89\", \"90\", \"91\", \"92\", \"93\", \"94\", \"95\", \"96\", \"97\", \"98\", \"99\"], \"mode\": \"markers\", \"name\": \"balanced_accuracy\", \"stepped\": false, \"type\": \"scatter\", \"data\": [0.9513530205264239, 0.9462843933398372, 0.8409335294753969, 0.8167359184451966, 0.6706906401953228, 0.6019995179218763, 0.8965142509884132, 0.8737490032004078, 0.8939996960919109, 0.8796585746978369, 0.9420700336872073, 0.8127206812545893, 0.8625225663352232, 0.9038660069219586, 0.8832968772271205, 0.9031784749409428, 0.9408682286898964, 0.8747158575916245, 0.8151239138777268, 0.8073958592126736, 0.8344687000421821, 0.9160922116154268, 0.8346204723598843, 0.9302516949399081, 0.8619296359634374, 0.7991246459705545, 0.9153423657553473, 0.9199880338559453, 0.8965802311124023, 0.8090886631754206, 0.5, 0.7982577190907422, 0.9454809779978663, 0.8653546713659012, 0.9188103742199318, 0.5, 0.8810643476789425, 0.9425524573960942, 0.9419500654853552, 0.880311445574321, 0.8807513604050612, 0.9089423765384991, 0.841668148439809, 0.8249616805615794, 0.8699526064057906, 0.9484101088972681, 0.9506036368319493, 0.8693668864101634, 0.9449775365231534, 0.947548584978169, 0.8392916047207436, 0.8562226026421111, 0.9465854877364043, 0.8996696054909673, 0.8993813964940822, 0.9403316397895953, 0.9533336642100725, 0.9521304105498357, 0.8999028210904327, 0.940339099199354, 0.9388134168054085, 0.9265670552423938, 0.8804161281710037, 0.8949729238743386, 0.9499046342609099, 0.94198035351555, 0.9234819811679316, 0.9331314571627676, 0.8984048023717925, 0.9392092013849419, 0.9450155532499325, 0.9484371286415552, 0.9391662212418821, 0.9388386533045582, 0.8684039289016784, 0.9446763972245419, 0.9541636893587736, 0.9351538490860392, 0.87021953802303, 0.9524214011270598, 0.9545614985386599, 0.8994716504766856, 0.8202839238694495, 0.8283104290195453, 0.9260926714600106, 0.8770711103002011, 0.9484989143784877, 0.9523607247390204, 0.8645699385334529, 0.889683735841977, 0.927232716669951, 0.8605000858336467, 0.9502848048233801, 0.9392185332120551, 0.9538182163953757, 0.943864347798041, 0.9111326835204862, 0.9035606665099942, 0.9574817335610948, 0.9549412428530657]}, {\"categories\": [\"0\", \"1\", \"2\", \"3\", \"4\", \"5\", \"6\", \"7\", \"8\", \"9\", \"10\", \"11\", \"12\", \"13\", \"14\", \"15\", \"16\", \"17\", \"18\", \"19\", \"20\", \"21\", \"22\", \"23\", \"24\", \"25\", \"26\", \"27\", \"28\", \"29\", \"30\", \"31\", \"32\", \"33\", \"34\", \"35\", \"36\", \"37\", \"38\", \"39\", \"40\", \"41\", \"42\", \"43\", \"44\", \"45\", \"46\", \"47\", \"48\", \"49\", \"50\", \"51\", \"52\", \"53\", \"54\", \"55\", \"56\", \"57\", \"58\", \"59\", \"60\", \"61\", \"62\", \"63\", \"64\", \"65\", \"66\", \"67\", \"68\", \"69\", \"70\", \"71\", \"72\", \"73\", \"74\", \"75\", \"76\", \"77\", \"78\", \"79\", \"80\", \"81\", \"82\", \"83\", \"84\", \"85\", \"86\", \"87\", \"88\", \"89\", \"90\", \"91\", \"92\", \"93\", \"94\", \"95\", \"96\", \"97\", \"98\", \"99\"], \"mode\": \"lines\", \"name\": \"balanced_accuracy_max\", \"stepped\": true, \"type\": \"scatter\", \"data\": [0.9513530205264239, 0.9513530205264239, 0.9513530205264239, 0.9513530205264239, 0.9513530205264239, 0.9513530205264239, 0.9513530205264239, 0.9513530205264239, 0.9513530205264239, 0.9513530205264239, 0.9513530205264239, 0.9513530205264239, 0.9513530205264239, 0.9513530205264239, 0.9513530205264239, 0.9513530205264239, 0.9513530205264239, 0.9513530205264239, 0.9513530205264239, 0.9513530205264239, 0.9513530205264239, 0.9513530205264239, 0.9513530205264239, 0.9513530205264239, 0.9513530205264239, 0.9513530205264239, 0.9513530205264239, 0.9513530205264239, 0.9513530205264239, 0.9513530205264239, 0.9513530205264239, 0.9513530205264239, 0.9513530205264239, 0.9513530205264239, 0.9513530205264239, 0.9513530205264239, 0.9513530205264239, 0.9513530205264239, 0.9513530205264239, 0.9513530205264239, 0.9513530205264239, 0.9513530205264239, 0.9513530205264239, 0.9513530205264239, 0.9513530205264239, 0.9513530205264239, 0.9513530205264239, 0.9513530205264239, 0.9513530205264239, 0.9513530205264239, 0.9513530205264239, 0.9513530205264239, 0.9513530205264239, 0.9513530205264239, 0.9513530205264239, 0.9513530205264239, 0.9533336642100725, 0.9533336642100725, 0.9533336642100725, 0.9533336642100725, 0.9533336642100725, 0.9533336642100725, 0.9533336642100725, 0.9533336642100725, 0.9533336642100725, 0.9533336642100725, 0.9533336642100725, 0.9533336642100725, 0.9533336642100725, 0.9533336642100725, 0.9533336642100725, 0.9533336642100725, 0.9533336642100725, 0.9533336642100725, 0.9533336642100725, 0.9533336642100725, 0.9541636893587736, 0.9541636893587736, 0.9541636893587736, 0.9541636893587736, 0.9545614985386599, 0.9545614985386599, 0.9545614985386599, 0.9545614985386599, 0.9545614985386599, 0.9545614985386599, 0.9545614985386599, 0.9545614985386599, 0.9545614985386599, 0.9545614985386599, 0.9545614985386599, 0.9545614985386599, 0.9545614985386599, 0.9545614985386599, 0.9545614985386599, 0.9545614985386599, 0.9545614985386599, 0.9545614985386599, 0.9574817335610948, 0.9574817335610948]}], \"average_precision_score_macro\": [{\"categories\": [\"0\", \"1\", \"2\", \"3\", \"4\", \"5\", \"6\", \"7\", \"8\", \"9\", \"10\", \"11\", \"12\", \"13\", \"14\", \"15\", \"16\", \"17\", \"18\", \"19\", \"20\", \"21\", \"22\", \"23\", \"24\", \"25\", \"26\", \"27\", \"28\", \"29\", \"30\", \"31\", \"32\", \"33\", \"34\", \"35\", \"36\", \"37\", \"38\", \"39\", \"40\", \"41\", \"42\", \"43\", \"44\", \"45\", \"46\", \"47\", \"48\", \"49\", \"50\", \"51\", \"52\", \"53\", \"54\", \"55\", \"56\", \"57\", \"58\", \"59\", \"60\", \"61\", \"62\", \"63\", \"64\", \"65\", \"66\", \"67\", \"68\", \"69\", \"70\", \"71\", \"72\", \"73\", \"74\", \"75\", \"76\", \"77\", \"78\", \"79\", \"80\", \"81\", \"82\", \"83\", \"84\", \"85\", \"86\", \"87\", \"88\", \"89\", \"90\", \"91\", \"92\", \"93\", \"94\", \"95\", \"96\", \"97\", \"98\", \"99\"], \"mode\": \"markers\", \"name\": \"average_precision_score_macro\", \"stepped\": false, \"type\": \"scatter\", \"data\": [0.9928085645244001, 0.9892076991584571, 0.9157524541538316, 0.8982368083068974, 0.9255699336049336, 0.8937496573965286, 0.9689541138734385, 0.9565331848725943, 0.9696697864810142, 0.9469855183594398, 0.987858859166848, 0.8975516098036718, 0.9399659940871927, 0.961615157648388, 0.9518575980565016, 0.9633257824423558, 0.9860146557914918, 0.9474217279495658, 0.9002288939097308, 0.8995782675333845, 0.9237399617765891, 0.9722569659644968, 0.9096343901368179, 0.9824229891360915, 0.9414831320020864, 0.8936920274209982, 0.9712488906726005, 0.9793121933882141, 0.9763513833338588, 0.9058887000443235, 0.8910561309378544, 0.8857115197126062, 0.9872268003897713, 0.94257610401958, 0.9748804998078653, 0.9072740750147072, 0.9589390907693061, 0.9873629162372405, 0.9858557110837296, 0.9582262851556165, 0.949067259147094, 0.9647031543585051, 0.9268572187209397, 0.9192296417576769, 0.9394398791708204, 0.9888153539820742, 0.9908625349675235, 0.9465973775087123, 0.988600026006546, 0.9881535633609759, 0.9224901022085957, 0.9391194732445582, 0.9886997608531928, 0.9624518084250859, 0.9760736878627885, 0.9854103423716584, 0.9925494511212447, 0.9918543338017264, 0.9754370396079226, 0.9855168394532148, 0.9844292679757579, 0.9736098121969358, 0.9583583551640673, 0.9672523972554641, 0.9911076418006013, 0.9872199642490338, 0.9784194117177705, 0.980381890327186, 0.9713088247887344, 0.9846181172060104, 0.991991709319144, 0.9921271463682931, 0.9844464648635503, 0.9867988734799041, 0.9493725496957938, 0.9922844557169734, 0.9926230621781459, 0.982401144277153, 0.9499712770297275, 0.9917994179269517, 0.9914118740343805, 0.9607306766043798, 0.9069900393740093, 0.9205212837158407, 0.9793239628463617, 0.9545276377715954, 0.9898304557534324, 0.991266436799334, 0.9406437107744987, 0.961997045365185, 0.978436362170906, 0.9460879256761485, 0.9904249864964179, 0.9854885357336954, 0.9925909415924166, 0.9876970435988122, 0.9697575869802673, 0.9771275874071197, 0.9929041594106913, 0.992801866103062]}, {\"categories\": [\"0\", \"1\", \"2\", \"3\", \"4\", \"5\", \"6\", \"7\", \"8\", \"9\", \"10\", \"11\", \"12\", \"13\", \"14\", \"15\", \"16\", \"17\", \"18\", \"19\", \"20\", \"21\", \"22\", \"23\", \"24\", \"25\", \"26\", \"27\", \"28\", \"29\", \"30\", \"31\", \"32\", \"33\", \"34\", \"35\", \"36\", \"37\", \"38\", \"39\", \"40\", \"41\", \"42\", \"43\", \"44\", \"45\", \"46\", \"47\", \"48\", \"49\", \"50\", \"51\", \"52\", \"53\", \"54\", \"55\", \"56\", \"57\", \"58\", \"59\", \"60\", \"61\", \"62\", \"63\", \"64\", \"65\", \"66\", \"67\", \"68\", \"69\", \"70\", \"71\", \"72\", \"73\", \"74\", \"75\", \"76\", \"77\", \"78\", \"79\", \"80\", \"81\", \"82\", \"83\", \"84\", \"85\", \"86\", \"87\", \"88\", \"89\", \"90\", \"91\", \"92\", \"93\", \"94\", \"95\", \"96\", \"97\", \"98\", \"99\"], \"mode\": \"lines\", \"name\": \"average_precision_score_macro_max\", \"stepped\": true, \"type\": \"scatter\", \"data\": [0.9928085645244001, 0.9928085645244001, 0.9928085645244001, 0.9928085645244001, 0.9928085645244001, 0.9928085645244001, 0.9928085645244001, 0.9928085645244001, 0.9928085645244001, 0.9928085645244001, 0.9928085645244001, 0.9928085645244001, 0.9928085645244001, 0.9928085645244001, 0.9928085645244001, 0.9928085645244001, 0.9928085645244001, 0.9928085645244001, 0.9928085645244001, 0.9928085645244001, 0.9928085645244001, 0.9928085645244001, 0.9928085645244001, 0.9928085645244001, 0.9928085645244001, 0.9928085645244001, 0.9928085645244001, 0.9928085645244001, 0.9928085645244001, 0.9928085645244001, 0.9928085645244001, 0.9928085645244001, 0.9928085645244001, 0.9928085645244001, 0.9928085645244001, 0.9928085645244001, 0.9928085645244001, 0.9928085645244001, 0.9928085645244001, 0.9928085645244001, 0.9928085645244001, 0.9928085645244001, 0.9928085645244001, 0.9928085645244001, 0.9928085645244001, 0.9928085645244001, 0.9928085645244001, 0.9928085645244001, 0.9928085645244001, 0.9928085645244001, 0.9928085645244001, 0.9928085645244001, 0.9928085645244001, 0.9928085645244001, 0.9928085645244001, 0.9928085645244001, 0.9928085645244001, 0.9928085645244001, 0.9928085645244001, 0.9928085645244001, 0.9928085645244001, 0.9928085645244001, 0.9928085645244001, 0.9928085645244001, 0.9928085645244001, 0.9928085645244001, 0.9928085645244001, 0.9928085645244001, 0.9928085645244001, 0.9928085645244001, 0.9928085645244001, 0.9928085645244001, 0.9928085645244001, 0.9928085645244001, 0.9928085645244001, 0.9928085645244001, 0.9928085645244001, 0.9928085645244001, 0.9928085645244001, 0.9928085645244001, 0.9928085645244001, 0.9928085645244001, 0.9928085645244001, 0.9928085645244001, 0.9928085645244001, 0.9928085645244001, 0.9928085645244001, 0.9928085645244001, 0.9928085645244001, 0.9928085645244001, 0.9928085645244001, 0.9928085645244001, 0.9928085645244001, 0.9928085645244001, 0.9928085645244001, 0.9928085645244001, 0.9928085645244001, 0.9928085645244001, 0.9929041594106913, 0.9929041594106913]}], \"accuracy\": [{\"categories\": [\"0\", \"1\", \"2\", \"3\", \"4\", \"5\", \"6\", \"7\", \"8\", \"9\", \"10\", \"11\", \"12\", \"13\", \"14\", \"15\", \"16\", \"17\", \"18\", \"19\", \"20\", \"21\", \"22\", \"23\", \"24\", \"25\", \"26\", \"27\", \"28\", \"29\", \"30\", \"31\", \"32\", \"33\", \"34\", \"35\", \"36\", \"37\", \"38\", \"39\", \"40\", \"41\", \"42\", \"43\", \"44\", \"45\", \"46\", \"47\", \"48\", \"49\", \"50\", \"51\", \"52\", \"53\", \"54\", \"55\", \"56\", \"57\", \"58\", \"59\", \"60\", \"61\", \"62\", \"63\", \"64\", \"65\", \"66\", \"67\", \"68\", \"69\", \"70\", \"71\", \"72\", \"73\", \"74\", \"75\", \"76\", \"77\", \"78\", \"79\", \"80\", \"81\", \"82\", \"83\", \"84\", \"85\", \"86\", \"87\", \"88\", \"89\", \"90\", \"91\", \"92\", \"93\", \"94\", \"95\", \"96\", \"97\", \"98\", \"99\"], \"mode\": \"markers\", \"name\": \"accuracy\", \"stepped\": false, \"type\": \"scatter\", \"data\": [0.9513817127173217, 0.9463319442111192, 0.8407664038875919, 0.8162294120871806, 0.6703740069508624, 0.6020219521542405, 0.8964867690787159, 0.873754070423941, 0.8939559777553832, 0.8795034050380455, 0.9420637451234812, 0.8127141799762871, 0.862546732064995, 0.9037618718190317, 0.8832347844380617, 0.9031048421932681, 0.9407969168534909, 0.8748150196257509, 0.8149969001145791, 0.8074017720986142, 0.8343600253755948, 0.9160760963324541, 0.8344587092115239, 0.930243217367617, 0.8616993604806009, 0.7984402588464998, 0.91527628884465, 0.9199626457565317, 0.896536902552118, 0.8087887710109944, 0.4904715875603163, 0.7981581445094743, 0.9454316448425871, 0.8651501421343045, 0.9187938423963116, 0.4904715875603163, 0.8810623573843772, 0.9425304316484248, 0.941919164740057, 0.8802986275987049, 0.8808184972384181, 0.9089680799047516, 0.8415591223446182, 0.8246353417595488, 0.8698657796659285, 0.9483856548334039, 0.9505711925689869, 0.8693111349297398, 0.945006404948946, 0.9475464287884596, 0.8392025662259528, 0.8560380679057566, 0.9466645807627293, 0.8996089229059624, 0.8993443373907777, 0.9403154962937371, 0.9533417171286764, 0.952145876378039, 0.8997967879012279, 0.94034254510503, 0.9388693282241283, 0.9265426819997173, 0.8804518160039823, 0.894937209792707, 0.9499149546587308, 0.9419485741583447, 0.9234131237033235, 0.9330916696934134, 0.8984092989841376, 0.9391752144686102, 0.944984851093373, 0.9484362783940792, 0.9391690563802053, 0.9387555781625867, 0.8683040817901142, 0.9446329369233769, 0.9541470300783133, 0.9351225253413936, 0.8700742160121362, 0.9524426319783057, 0.9545862519850232, 0.8994052658224432, 0.8203669139764225, 0.8277478931819762, 0.9260161510570735, 0.8770899684183651, 0.948490619970556, 0.952348113530695, 0.864657771955382, 0.8895689862018401, 0.9271390052260055, 0.8604215802499141, 0.950243543518862, 0.9391955102716443, 0.9538706871655908, 0.9438706701505628, 0.9110285091963389, 0.9035283620038399, 0.9575090332307135, 0.9549423077673141]}, {\"categories\": [\"0\", \"1\", \"2\", \"3\", \"4\", \"5\", \"6\", \"7\", \"8\", \"9\", \"10\", \"11\", \"12\", \"13\", \"14\", \"15\", \"16\", \"17\", \"18\", \"19\", \"20\", \"21\", \"22\", \"23\", \"24\", \"25\", \"26\", \"27\", \"28\", \"29\", \"30\", \"31\", \"32\", \"33\", \"34\", \"35\", \"36\", \"37\", \"38\", \"39\", \"40\", \"41\", \"42\", \"43\", \"44\", \"45\", \"46\", \"47\", \"48\", \"49\", \"50\", \"51\", \"52\", \"53\", \"54\", \"55\", \"56\", \"57\", \"58\", \"59\", \"60\", \"61\", \"62\", \"63\", \"64\", \"65\", \"66\", \"67\", \"68\", \"69\", \"70\", \"71\", \"72\", \"73\", \"74\", \"75\", \"76\", \"77\", \"78\", \"79\", \"80\", \"81\", \"82\", \"83\", \"84\", \"85\", \"86\", \"87\", \"88\", \"89\", \"90\", \"91\", \"92\", \"93\", \"94\", \"95\", \"96\", \"97\", \"98\", \"99\"], \"mode\": \"lines\", \"name\": \"accuracy_max\", \"stepped\": true, \"type\": \"scatter\", \"data\": [0.9513817127173217, 0.9513817127173217, 0.9513817127173217, 0.9513817127173217, 0.9513817127173217, 0.9513817127173217, 0.9513817127173217, 0.9513817127173217, 0.9513817127173217, 0.9513817127173217, 0.9513817127173217, 0.9513817127173217, 0.9513817127173217, 0.9513817127173217, 0.9513817127173217, 0.9513817127173217, 0.9513817127173217, 0.9513817127173217, 0.9513817127173217, 0.9513817127173217, 0.9513817127173217, 0.9513817127173217, 0.9513817127173217, 0.9513817127173217, 0.9513817127173217, 0.9513817127173217, 0.9513817127173217, 0.9513817127173217, 0.9513817127173217, 0.9513817127173217, 0.9513817127173217, 0.9513817127173217, 0.9513817127173217, 0.9513817127173217, 0.9513817127173217, 0.9513817127173217, 0.9513817127173217, 0.9513817127173217, 0.9513817127173217, 0.9513817127173217, 0.9513817127173217, 0.9513817127173217, 0.9513817127173217, 0.9513817127173217, 0.9513817127173217, 0.9513817127173217, 0.9513817127173217, 0.9513817127173217, 0.9513817127173217, 0.9513817127173217, 0.9513817127173217, 0.9513817127173217, 0.9513817127173217, 0.9513817127173217, 0.9513817127173217, 0.9513817127173217, 0.9533417171286764, 0.9533417171286764, 0.9533417171286764, 0.9533417171286764, 0.9533417171286764, 0.9533417171286764, 0.9533417171286764, 0.9533417171286764, 0.9533417171286764, 0.9533417171286764, 0.9533417171286764, 0.9533417171286764, 0.9533417171286764, 0.9533417171286764, 0.9533417171286764, 0.9533417171286764, 0.9533417171286764, 0.9533417171286764, 0.9533417171286764, 0.9533417171286764, 0.9541470300783133, 0.9541470300783133, 0.9541470300783133, 0.9541470300783133, 0.9545862519850232, 0.9545862519850232, 0.9545862519850232, 0.9545862519850232, 0.9545862519850232, 0.9545862519850232, 0.9545862519850232, 0.9545862519850232, 0.9545862519850232, 0.9545862519850232, 0.9545862519850232, 0.9545862519850232, 0.9545862519850232, 0.9545862519850232, 0.9545862519850232, 0.9545862519850232, 0.9545862519850232, 0.9545862519850232, 0.9575090332307135, 0.9575090332307135]}], \"AUC_macro\": [{\"categories\": [\"0\", \"1\", \"2\", \"3\", \"4\", \"5\", \"6\", \"7\", \"8\", \"9\", \"10\", \"11\", \"12\", \"13\", \"14\", \"15\", \"16\", \"17\", \"18\", \"19\", \"20\", \"21\", \"22\", \"23\", \"24\", \"25\", \"26\", \"27\", \"28\", \"29\", \"30\", \"31\", \"32\", \"33\", \"34\", \"35\", \"36\", \"37\", \"38\", \"39\", \"40\", \"41\", \"42\", \"43\", \"44\", \"45\", \"46\", \"47\", \"48\", \"49\", \"50\", \"51\", \"52\", \"53\", \"54\", \"55\", \"56\", \"57\", \"58\", \"59\", \"60\", \"61\", \"62\", \"63\", \"64\", \"65\", \"66\", \"67\", \"68\", \"69\", \"70\", \"71\", \"72\", \"73\", \"74\", \"75\", \"76\", \"77\", \"78\", \"79\", \"80\", \"81\", \"82\", \"83\", \"84\", \"85\", \"86\", \"87\", \"88\", \"89\", \"90\", \"91\", \"92\", \"93\", \"94\", \"95\", \"96\", \"97\", \"98\", \"99\"], \"mode\": \"markers\", \"name\": \"AUC_macro\", \"stepped\": false, \"type\": \"scatter\", \"data\": [0.9927111305078589, 0.9890456350779407, 0.9165010460659964, 0.8996578924984359, 0.9263300846539109, 0.8937664018998458, 0.9679896854361505, 0.9554425721082873, 0.9688040631602813, 0.9475852738070113, 0.987695615334245, 0.9086426453736361, 0.9395531285686513, 0.9621086577765169, 0.9524969725691325, 0.9638059415641452, 0.9859756084316791, 0.9476583721020122, 0.9006380131459132, 0.8989264308649852, 0.9234197919312301, 0.9723667069227948, 0.9110015445813373, 0.9823524815845032, 0.9432541644217531, 0.8929613959989279, 0.9714079829676052, 0.978826703725524, 0.9756530744040782, 0.9048623969638594, 0.8912661608069303, 0.8846874070161455, 0.9872500546127096, 0.9428792105978566, 0.9749461833198241, 0.9067571303155146, 0.9575819107886483, 0.9872925853978346, 0.9857645879533488, 0.9569665382983958, 0.949566819624066, 0.9650458659760488, 0.9259415169622993, 0.9177814147370723, 0.9397362638700384, 0.9887967627063391, 0.9906882950897543, 0.9458146755736874, 0.9884613777541755, 0.9880734133133051, 0.9206621666507978, 0.9377914934545597, 0.9885591753945425, 0.9636568670534655, 0.9753256647570895, 0.9853922946611278, 0.9924314491862083, 0.9916894804497389, 0.9747611311379378, 0.9852784801420261, 0.9845894522912204, 0.97537914811059, 0.9571494157009551, 0.9661569295829862, 0.9910782657416709, 0.9870612519073513, 0.9779191226850565, 0.9804815780776901, 0.970506174685859, 0.9846146335058916, 0.9918299484134021, 0.9919798077939351, 0.9843584408761046, 0.9866527576962643, 0.9481105217794497, 0.9922026039780031, 0.9925363157590736, 0.9822800801465394, 0.9481362998851302, 0.9916735320999269, 0.9913689373661733, 0.9610102984620083, 0.9052860319244544, 0.9228724672679582, 0.9800506769820381, 0.9531987647243317, 0.9896815155631724, 0.9911142916767005, 0.9399896522816507, 0.961011834195423, 0.9785106417145503, 0.9441307084553132, 0.9902815366465945, 0.9855206316372538, 0.9925383272926916, 0.9876125714841422, 0.9700499939489999, 0.9764892020384238, 0.9927837190475552, 0.9926767735689699]}, {\"categories\": [\"0\", \"1\", \"2\", \"3\", \"4\", \"5\", \"6\", \"7\", \"8\", \"9\", \"10\", \"11\", \"12\", \"13\", \"14\", \"15\", \"16\", \"17\", \"18\", \"19\", \"20\", \"21\", \"22\", \"23\", \"24\", \"25\", \"26\", \"27\", \"28\", \"29\", \"30\", \"31\", \"32\", \"33\", \"34\", \"35\", \"36\", \"37\", \"38\", \"39\", \"40\", \"41\", \"42\", \"43\", \"44\", \"45\", \"46\", \"47\", \"48\", \"49\", \"50\", \"51\", \"52\", \"53\", \"54\", \"55\", \"56\", \"57\", \"58\", \"59\", \"60\", \"61\", \"62\", \"63\", \"64\", \"65\", \"66\", \"67\", \"68\", \"69\", \"70\", \"71\", \"72\", \"73\", \"74\", \"75\", \"76\", \"77\", \"78\", \"79\", \"80\", \"81\", \"82\", \"83\", \"84\", \"85\", \"86\", \"87\", \"88\", \"89\", \"90\", \"91\", \"92\", \"93\", \"94\", \"95\", \"96\", \"97\", \"98\", \"99\"], \"mode\": \"lines\", \"name\": \"AUC_macro_max\", \"stepped\": true, \"type\": \"scatter\", \"data\": [0.9927111305078589, 0.9927111305078589, 0.9927111305078589, 0.9927111305078589, 0.9927111305078589, 0.9927111305078589, 0.9927111305078589, 0.9927111305078589, 0.9927111305078589, 0.9927111305078589, 0.9927111305078589, 0.9927111305078589, 0.9927111305078589, 0.9927111305078589, 0.9927111305078589, 0.9927111305078589, 0.9927111305078589, 0.9927111305078589, 0.9927111305078589, 0.9927111305078589, 0.9927111305078589, 0.9927111305078589, 0.9927111305078589, 0.9927111305078589, 0.9927111305078589, 0.9927111305078589, 0.9927111305078589, 0.9927111305078589, 0.9927111305078589, 0.9927111305078589, 0.9927111305078589, 0.9927111305078589, 0.9927111305078589, 0.9927111305078589, 0.9927111305078589, 0.9927111305078589, 0.9927111305078589, 0.9927111305078589, 0.9927111305078589, 0.9927111305078589, 0.9927111305078589, 0.9927111305078589, 0.9927111305078589, 0.9927111305078589, 0.9927111305078589, 0.9927111305078589, 0.9927111305078589, 0.9927111305078589, 0.9927111305078589, 0.9927111305078589, 0.9927111305078589, 0.9927111305078589, 0.9927111305078589, 0.9927111305078589, 0.9927111305078589, 0.9927111305078589, 0.9927111305078589, 0.9927111305078589, 0.9927111305078589, 0.9927111305078589, 0.9927111305078589, 0.9927111305078589, 0.9927111305078589, 0.9927111305078589, 0.9927111305078589, 0.9927111305078589, 0.9927111305078589, 0.9927111305078589, 0.9927111305078589, 0.9927111305078589, 0.9927111305078589, 0.9927111305078589, 0.9927111305078589, 0.9927111305078589, 0.9927111305078589, 0.9927111305078589, 0.9927111305078589, 0.9927111305078589, 0.9927111305078589, 0.9927111305078589, 0.9927111305078589, 0.9927111305078589, 0.9927111305078589, 0.9927111305078589, 0.9927111305078589, 0.9927111305078589, 0.9927111305078589, 0.9927111305078589, 0.9927111305078589, 0.9927111305078589, 0.9927111305078589, 0.9927111305078589, 0.9927111305078589, 0.9927111305078589, 0.9927111305078589, 0.9927111305078589, 0.9927111305078589, 0.9927111305078589, 0.9927837190475552, 0.9927837190475552]}], \"AUC_micro\": [{\"categories\": [\"0\", \"1\", \"2\", \"3\", \"4\", \"5\", \"6\", \"7\", \"8\", \"9\", \"10\", \"11\", \"12\", \"13\", \"14\", \"15\", \"16\", \"17\", \"18\", \"19\", \"20\", \"21\", \"22\", \"23\", \"24\", \"25\", \"26\", \"27\", \"28\", \"29\", \"30\", \"31\", \"32\", \"33\", \"34\", \"35\", \"36\", \"37\", \"38\", \"39\", \"40\", \"41\", \"42\", \"43\", \"44\", \"45\", \"46\", \"47\", \"48\", \"49\", \"50\", \"51\", \"52\", \"53\", \"54\", \"55\", \"56\", \"57\", \"58\", \"59\", \"60\", \"61\", \"62\", \"63\", \"64\", \"65\", \"66\", \"67\", \"68\", \"69\", \"70\", \"71\", \"72\", \"73\", \"74\", \"75\", \"76\", \"77\", \"78\", \"79\", \"80\", \"81\", \"82\", \"83\", \"84\", \"85\", \"86\", \"87\", \"88\", \"89\", \"90\", \"91\", \"92\", \"93\", \"94\", \"95\", \"96\", \"97\", \"98\", \"99\"], \"mode\": \"markers\", \"name\": \"AUC_micro\", \"stepped\": false, \"type\": \"scatter\", \"data\": [0.990462625237375, 0.9889757558924371, 0.9157952778230471, 0.8980585145098765, 0.7795438734849975, 0.7249813514104764, 0.9638890379484317, 0.9496935135374663, 0.9645436074364453, 0.9477375943920989, 0.987467350947308, 0.9116348474787342, 0.9392375371775884, 0.9624487823364642, 0.9525880289005364, 0.9640177382648165, 0.9863653757001909, 0.9479473448847905, 0.8997308123660985, 0.8988003368684041, 0.9217858810827477, 0.97280637086062, 0.9107012736227926, 0.9827532713082, 0.93852611034467, 0.8912678902394509, 0.9719718621343999, 0.9745570449819295, 0.9649994047706313, 0.9007387998417059, 0.6860095939661476, 0.8848385154982482, 0.9876478816697919, 0.9422680352223098, 0.9753264909191974, 0.6937517379984962, 0.9560575056986528, 0.9867335462865862, 0.9857234105685071, 0.9554627816154022, 0.9508281748338246, 0.9655977311393429, 0.9242905748723637, 0.9165541546977934, 0.9385795569099267, 0.9890139708251967, 0.9906935384971532, 0.9456893868662817, 0.988570628964047, 0.9882917581636935, 0.9207121082417238, 0.9363495265746854, 0.9885695227374434, 0.9619261454470063, 0.9669504208158539, 0.9855870539826169, 0.9913298853936618, 0.9908870243147334, 0.9660201670599129, 0.9849597489586716, 0.9850763917219526, 0.9754099569419882, 0.9552346874154127, 0.9612766705025791, 0.99042600023008, 0.9863237689167429, 0.9761135887572412, 0.9809146193100343, 0.9662982674180519, 0.9849992265187707, 0.9889017082790661, 0.9912140341991862, 0.9845228336035255, 0.9859678297215746, 0.9466974186143684, 0.9878552507081679, 0.9920209959582925, 0.9826718103110543, 0.9476477675537145, 0.9904504625688905, 0.9909795440340471, 0.961201497683707, 0.9047997461618102, 0.9219330180049268, 0.9780371139429922, 0.9528176088609186, 0.9890635550346476, 0.9908542568648437, 0.938902831026921, 0.9580580552241669, 0.9788925933123718, 0.9435227439958418, 0.9899221154075329, 0.9845573617659135, 0.9903507989627865, 0.9880539142944939, 0.9705988816197563, 0.9670669804814688, 0.992124114779816, 0.9918057912059449]}, {\"categories\": [\"0\", \"1\", \"2\", \"3\", \"4\", \"5\", \"6\", \"7\", \"8\", \"9\", \"10\", \"11\", \"12\", \"13\", \"14\", \"15\", \"16\", \"17\", \"18\", \"19\", \"20\", \"21\", \"22\", \"23\", \"24\", \"25\", \"26\", \"27\", \"28\", \"29\", \"30\", \"31\", \"32\", \"33\", \"34\", \"35\", \"36\", \"37\", \"38\", \"39\", \"40\", \"41\", \"42\", \"43\", \"44\", \"45\", \"46\", \"47\", \"48\", \"49\", \"50\", \"51\", \"52\", \"53\", \"54\", \"55\", \"56\", \"57\", \"58\", \"59\", \"60\", \"61\", \"62\", \"63\", \"64\", \"65\", \"66\", \"67\", \"68\", \"69\", \"70\", \"71\", \"72\", \"73\", \"74\", \"75\", \"76\", \"77\", \"78\", \"79\", \"80\", \"81\", \"82\", \"83\", \"84\", \"85\", \"86\", \"87\", \"88\", \"89\", \"90\", \"91\", \"92\", \"93\", \"94\", \"95\", \"96\", \"97\", \"98\", \"99\"], \"mode\": \"lines\", \"name\": \"AUC_micro_max\", \"stepped\": true, \"type\": \"scatter\", \"data\": [0.990462625237375, 0.990462625237375, 0.990462625237375, 0.990462625237375, 0.990462625237375, 0.990462625237375, 0.990462625237375, 0.990462625237375, 0.990462625237375, 0.990462625237375, 0.990462625237375, 0.990462625237375, 0.990462625237375, 0.990462625237375, 0.990462625237375, 0.990462625237375, 0.990462625237375, 0.990462625237375, 0.990462625237375, 0.990462625237375, 0.990462625237375, 0.990462625237375, 0.990462625237375, 0.990462625237375, 0.990462625237375, 0.990462625237375, 0.990462625237375, 0.990462625237375, 0.990462625237375, 0.990462625237375, 0.990462625237375, 0.990462625237375, 0.990462625237375, 0.990462625237375, 0.990462625237375, 0.990462625237375, 0.990462625237375, 0.990462625237375, 0.990462625237375, 0.990462625237375, 0.990462625237375, 0.990462625237375, 0.990462625237375, 0.990462625237375, 0.990462625237375, 0.990462625237375, 0.9906935384971532, 0.9906935384971532, 0.9906935384971532, 0.9906935384971532, 0.9906935384971532, 0.9906935384971532, 0.9906935384971532, 0.9906935384971532, 0.9906935384971532, 0.9906935384971532, 0.9913298853936618, 0.9913298853936618, 0.9913298853936618, 0.9913298853936618, 0.9913298853936618, 0.9913298853936618, 0.9913298853936618, 0.9913298853936618, 0.9913298853936618, 0.9913298853936618, 0.9913298853936618, 0.9913298853936618, 0.9913298853936618, 0.9913298853936618, 0.9913298853936618, 0.9913298853936618, 0.9913298853936618, 0.9913298853936618, 0.9913298853936618, 0.9913298853936618, 0.9920209959582925, 0.9920209959582925, 0.9920209959582925, 0.9920209959582925, 0.9920209959582925, 0.9920209959582925, 0.9920209959582925, 0.9920209959582925, 0.9920209959582925, 0.9920209959582925, 0.9920209959582925, 0.9920209959582925, 0.9920209959582925, 0.9920209959582925, 0.9920209959582925, 0.9920209959582925, 0.9920209959582925, 0.9920209959582925, 0.9920209959582925, 0.9920209959582925, 0.9920209959582925, 0.9920209959582925, 0.992124114779816, 0.992124114779816]}], \"precision_score_micro\": [{\"categories\": [\"0\", \"1\", \"2\", \"3\", \"4\", \"5\", \"6\", \"7\", \"8\", \"9\", \"10\", \"11\", \"12\", \"13\", \"14\", \"15\", \"16\", \"17\", \"18\", \"19\", \"20\", \"21\", \"22\", \"23\", \"24\", \"25\", \"26\", \"27\", \"28\", \"29\", \"30\", \"31\", \"32\", \"33\", \"34\", \"35\", \"36\", \"37\", \"38\", \"39\", \"40\", \"41\", \"42\", \"43\", \"44\", \"45\", \"46\", \"47\", \"48\", \"49\", \"50\", \"51\", \"52\", \"53\", \"54\", \"55\", \"56\", \"57\", \"58\", \"59\", \"60\", \"61\", \"62\", \"63\", \"64\", \"65\", \"66\", \"67\", \"68\", \"69\", \"70\", \"71\", \"72\", \"73\", \"74\", \"75\", \"76\", \"77\", \"78\", \"79\", \"80\", \"81\", \"82\", \"83\", \"84\", \"85\", \"86\", \"87\", \"88\", \"89\", \"90\", \"91\", \"92\", \"93\", \"94\", \"95\", \"96\", \"97\", \"98\", \"99\"], \"mode\": \"markers\", \"name\": \"precision_score_micro\", \"stepped\": false, \"type\": \"scatter\", \"data\": [0.9513817127173244, 0.9463319442111192, 0.8407664038875925, 0.8162294120871815, 0.6703740069508818, 0.6020219521542638, 0.8964867690787205, 0.8737540704239468, 0.8939559777553889, 0.8795034050380455, 0.9420637451234815, 0.8127141799762885, 0.8625467320649955, 0.9037618718190312, 0.8832347844380619, 0.9031048421932681, 0.9407969168534907, 0.8748150196257507, 0.8149969001145797, 0.8074017720986142, 0.8343600253755954, 0.9160760963324543, 0.8344587092115244, 0.9302432173676168, 0.8616993604806055, 0.7984402588465015, 0.9152762888446503, 0.9199626457565359, 0.8965369025521275, 0.8087887710109978, 0.49047158756034237, 0.7981581445094739, 0.9454316448425871, 0.8651501421343054, 0.9187938423963118, 0.49047158756034237, 0.8810623573843793, 0.9425304316484253, 0.9419191647400572, 0.880298627598707, 0.8808184972384188, 0.9089680799047517, 0.8415591223446214, 0.8246353417595482, 0.8698657796659288, 0.9483856548334039, 0.9505711925689871, 0.86931113492974, 0.9450064049489464, 0.9475464287884596, 0.8392025662259528, 0.8560380679057584, 0.9466645807627293, 0.8996089229059651, 0.899344337390785, 0.9403154962937373, 0.9533417171286779, 0.9521458763780399, 0.8997967879012354, 0.94034254510503, 0.9388693282241285, 0.9265426819997181, 0.8804518160039848, 0.8949372097927117, 0.9499149546587319, 0.9419485741583458, 0.9234131237033256, 0.9330916696934137, 0.8984092989841426, 0.9391752144686103, 0.9449848510933767, 0.9484362783940805, 0.9391690563802053, 0.9387555781625881, 0.8683040817901155, 0.9446329369233813, 0.9541470300783143, 0.9351225253413936, 0.8700742160121366, 0.9524426319783071, 0.9545862519850239, 0.8994052658224432, 0.8203669139764228, 0.8277478931819771, 0.9260161510570757, 0.8770899684183654, 0.9484906199705563, 0.9523481135306952, 0.8646577719553837, 0.8895689862018434, 0.9271390052260052, 0.8604215802499147, 0.950243543518862, 0.9391955102716452, 0.9538706871655933, 0.9438706701505628, 0.911028509196339, 0.9035283620038472, 0.9575090332307143, 0.9549423077673149]}, {\"categories\": [\"0\", \"1\", \"2\", \"3\", \"4\", \"5\", \"6\", \"7\", \"8\", \"9\", \"10\", \"11\", \"12\", \"13\", \"14\", \"15\", \"16\", \"17\", \"18\", \"19\", \"20\", \"21\", \"22\", \"23\", \"24\", \"25\", \"26\", \"27\", \"28\", \"29\", \"30\", \"31\", \"32\", \"33\", \"34\", \"35\", \"36\", \"37\", \"38\", \"39\", \"40\", \"41\", \"42\", \"43\", \"44\", \"45\", \"46\", \"47\", \"48\", \"49\", \"50\", \"51\", \"52\", \"53\", \"54\", \"55\", \"56\", \"57\", \"58\", \"59\", \"60\", \"61\", \"62\", \"63\", \"64\", \"65\", \"66\", \"67\", \"68\", \"69\", \"70\", \"71\", \"72\", \"73\", \"74\", \"75\", \"76\", \"77\", \"78\", \"79\", \"80\", \"81\", \"82\", \"83\", \"84\", \"85\", \"86\", \"87\", \"88\", \"89\", \"90\", \"91\", \"92\", \"93\", \"94\", \"95\", \"96\", \"97\", \"98\", \"99\"], \"mode\": \"lines\", \"name\": \"precision_score_micro_max\", \"stepped\": true, \"type\": \"scatter\", \"data\": [0.9513817127173244, 0.9513817127173244, 0.9513817127173244, 0.9513817127173244, 0.9513817127173244, 0.9513817127173244, 0.9513817127173244, 0.9513817127173244, 0.9513817127173244, 0.9513817127173244, 0.9513817127173244, 0.9513817127173244, 0.9513817127173244, 0.9513817127173244, 0.9513817127173244, 0.9513817127173244, 0.9513817127173244, 0.9513817127173244, 0.9513817127173244, 0.9513817127173244, 0.9513817127173244, 0.9513817127173244, 0.9513817127173244, 0.9513817127173244, 0.9513817127173244, 0.9513817127173244, 0.9513817127173244, 0.9513817127173244, 0.9513817127173244, 0.9513817127173244, 0.9513817127173244, 0.9513817127173244, 0.9513817127173244, 0.9513817127173244, 0.9513817127173244, 0.9513817127173244, 0.9513817127173244, 0.9513817127173244, 0.9513817127173244, 0.9513817127173244, 0.9513817127173244, 0.9513817127173244, 0.9513817127173244, 0.9513817127173244, 0.9513817127173244, 0.9513817127173244, 0.9513817127173244, 0.9513817127173244, 0.9513817127173244, 0.9513817127173244, 0.9513817127173244, 0.9513817127173244, 0.9513817127173244, 0.9513817127173244, 0.9513817127173244, 0.9513817127173244, 0.9533417171286779, 0.9533417171286779, 0.9533417171286779, 0.9533417171286779, 0.9533417171286779, 0.9533417171286779, 0.9533417171286779, 0.9533417171286779, 0.9533417171286779, 0.9533417171286779, 0.9533417171286779, 0.9533417171286779, 0.9533417171286779, 0.9533417171286779, 0.9533417171286779, 0.9533417171286779, 0.9533417171286779, 0.9533417171286779, 0.9533417171286779, 0.9533417171286779, 0.9541470300783143, 0.9541470300783143, 0.9541470300783143, 0.9541470300783143, 0.9545862519850239, 0.9545862519850239, 0.9545862519850239, 0.9545862519850239, 0.9545862519850239, 0.9545862519850239, 0.9545862519850239, 0.9545862519850239, 0.9545862519850239, 0.9545862519850239, 0.9545862519850239, 0.9545862519850239, 0.9545862519850239, 0.9545862519850239, 0.9545862519850239, 0.9545862519850239, 0.9545862519850239, 0.9545862519850239, 0.9575090332307143, 0.9575090332307143]}]}, \"metricName\": null, \"primaryMetricName\": \"accuracy\", \"showLegend\": false}, \"run_metrics\": [{\"name\": \"experiment_status\", \"run_id\": \"AutoML_2e6c69b0-1fa0-4548-823c-38194d3b44b6\", \"categories\": [0, 1, 2, 3, 4, 5, 6, 7, 8, 9, 10, 11, 12, 13, 14], \"series\": [{\"data\": [\"DatasetEvaluation\", \"FeaturesGeneration\", \"DatasetFeaturization\", \"DatasetFeaturizationCompleted\", \"DatasetBalancing\", \"DatasetCrossValidationSplit\", \"ModelSelection\", \"BestRunExplainModel\", \"ModelExplanationDataSetSetup\", \"PickSurrogateModel\", \"EngineeredFeatureExplanations\", \"EngineeredFeatureExplanations\", \"RawFeaturesExplanations\", \"RawFeaturesExplanations\", \"BestRunExplainModel\"]}]}, {\"name\": \"experiment_status_description\", \"run_id\": \"AutoML_2e6c69b0-1fa0-4548-823c-38194d3b44b6\", \"categories\": [0, 1, 2, 3, 4, 5, 6, 7, 8, 9, 10, 11, 12, 13, 14], \"series\": [{\"data\": [\"Gathering dataset statistics.\", \"Generating features for the dataset.\", \"Beginning to fit featurizers and featurize the dataset.\", \"Completed fit featurizers and featurizing the dataset.\", \"Performing class balancing sweeping\", \"Generating individually featurized CV splits.\", \"Beginning model selection.\", \"Best run model explanations started\", \"Model explanations data setup completed\", \"Choosing LightGBM as the surrogate model for explanations\", \"Computation of engineered features started\", \"Computation of engineered features completed\", \"Computation of raw features started\", \"Computation of raw features completed\", \"Best run model explanations completed\"]}]}, {\"name\": \"f1_score_macro\", \"run_id\": \"AutoML_2e6c69b0-1fa0-4548-823c-38194d3b44b6\", \"categories\": [0], \"series\": [{\"data\": [0.9574765020140793]}]}, {\"name\": \"recall_score_weighted\", \"run_id\": \"AutoML_2e6c69b0-1fa0-4548-823c-38194d3b44b6\", \"categories\": [0], \"series\": [{\"data\": [0.9575090332307132]}]}, {\"name\": \"average_precision_score_macro\", \"run_id\": \"AutoML_2e6c69b0-1fa0-4548-823c-38194d3b44b6\", \"categories\": [0], \"series\": [{\"data\": [0.9929041594106913]}]}, {\"name\": \"recall_score_micro\", \"run_id\": \"AutoML_2e6c69b0-1fa0-4548-823c-38194d3b44b6\", \"categories\": [0], \"series\": [{\"data\": [0.9575090332307132]}]}, {\"name\": \"norm_macro_recall\", \"run_id\": \"AutoML_2e6c69b0-1fa0-4548-823c-38194d3b44b6\", \"categories\": [0], \"series\": [{\"data\": [0.9149634671221903]}]}, {\"name\": \"precision_score_macro\", \"run_id\": \"AutoML_2e6c69b0-1fa0-4548-823c-38194d3b44b6\", \"categories\": [0], \"series\": [{\"data\": [0.9577985994734106]}]}, {\"name\": \"weighted_accuracy\", \"run_id\": \"AutoML_2e6c69b0-1fa0-4548-823c-38194d3b44b6\", \"categories\": [0], \"series\": [{\"data\": [0.9683651213901928]}]}, {\"name\": \"accuracy\", \"run_id\": \"AutoML_2e6c69b0-1fa0-4548-823c-38194d3b44b6\", \"categories\": [0], \"series\": [{\"data\": [0.9575090332307135]}]}, {\"name\": \"precision_score_micro\", \"run_id\": \"AutoML_2e6c69b0-1fa0-4548-823c-38194d3b44b6\", \"categories\": [0], \"series\": [{\"data\": [0.9575090332307143]}]}, {\"name\": \"balanced_accuracy\", \"run_id\": \"AutoML_2e6c69b0-1fa0-4548-823c-38194d3b44b6\", \"categories\": [0], \"series\": [{\"data\": [0.9574817335610948]}]}, {\"name\": \"precision_score_weighted\", \"run_id\": \"AutoML_2e6c69b0-1fa0-4548-823c-38194d3b44b6\", \"categories\": [0], \"series\": [{\"data\": [0.9578176711882371]}]}, {\"name\": \"matthews_correlation\", \"run_id\": \"AutoML_2e6c69b0-1fa0-4548-823c-38194d3b44b6\", \"categories\": [0], \"series\": [{\"data\": [0.9152800548857286]}]}, {\"name\": \"AUC_macro\", \"run_id\": \"AutoML_2e6c69b0-1fa0-4548-823c-38194d3b44b6\", \"categories\": [0], \"series\": [{\"data\": [0.9927837190475552]}]}, {\"name\": \"AUC_micro\", \"run_id\": \"AutoML_2e6c69b0-1fa0-4548-823c-38194d3b44b6\", \"categories\": [0], \"series\": [{\"data\": [0.992124114779816]}]}, {\"name\": \"f1_score_weighted\", \"run_id\": \"AutoML_2e6c69b0-1fa0-4548-823c-38194d3b44b6\", \"categories\": [0], \"series\": [{\"data\": [0.9574998755472219]}]}, {\"name\": \"AUC_weighted\", \"run_id\": \"AutoML_2e6c69b0-1fa0-4548-823c-38194d3b44b6\", \"categories\": [0], \"series\": [{\"data\": [0.9927837190475554]}]}, {\"name\": \"average_precision_score_micro\", \"run_id\": \"AutoML_2e6c69b0-1fa0-4548-823c-38194d3b44b6\", \"categories\": [0], \"series\": [{\"data\": [0.992248025276227]}]}, {\"name\": \"f1_score_micro\", \"run_id\": \"AutoML_2e6c69b0-1fa0-4548-823c-38194d3b44b6\", \"categories\": [0], \"series\": [{\"data\": [0.9575090332307138]}]}, {\"name\": \"log_loss\", \"run_id\": \"AutoML_2e6c69b0-1fa0-4548-823c-38194d3b44b6\", \"categories\": [0], \"series\": [{\"data\": [0.11859954127085685]}]}, {\"name\": \"average_precision_score_weighted\", \"run_id\": \"AutoML_2e6c69b0-1fa0-4548-823c-38194d3b44b6\", \"categories\": [0], \"series\": [{\"data\": [0.9929117189371928]}]}, {\"name\": \"recall_score_macro\", \"run_id\": \"AutoML_2e6c69b0-1fa0-4548-823c-38194d3b44b6\", \"categories\": [0], \"series\": [{\"data\": [0.9574817335610948]}]}], \"run_logs\": \"\\nRun is completed.\", \"graph\": {}, \"widget_settings\": {\"childWidgetDisplay\": \"popup\", \"send_telemetry\": false, \"log_level\": \"INFO\", \"sdk_version\": \"1.22.0\"}, \"loading\": false}"
     },
     "metadata": {},
     "output_type": "display_data"
    },
    {
     "name": "stdout",
     "output_type": "stream",
     "text": [
      "\n",
      "Current status: FeaturesGeneration. Generating features for the dataset.\n",
      "Current status: DatasetBalancing. Performing class balancing sweeping\n",
      "Current status: DatasetCrossValidationSplit. Generating individually featurized CV splits.\n",
      "Current status: ModelSelection. Beginning model selection.\n",
      "\n",
      "****************************************************************************************************\n",
      "DATA GUARDRAILS: \n",
      "\n",
      "TYPE:         Class balancing detection\n",
      "STATUS:       ALERTED\n",
      "DESCRIPTION:  To decrease model bias, please cancel the current run and fix balancing problem.\n",
      "              Learn more about imbalanced data: https://aka.ms/AutomatedMLImbalancedData\n",
      "DETAILS:      Imbalanced data can lead to a falsely perceived positive effect of a model's accuracy because the input data has bias towards one class.\n",
      "+---------------------------------+---------------------------------+--------------------------------------+\n",
      "|Size of the smallest class       |Name/Label of the smallest class |Number of samples in the training data|\n",
      "+=================================+=================================+======================================+\n",
      "|1627                             |Attrited Customer                |10127                                 |\n",
      "+---------------------------------+---------------------------------+--------------------------------------+\n",
      "\n",
      "****************************************************************************************************\n",
      "\n",
      "TYPE:         Missing feature values imputation\n",
      "STATUS:       PASSED\n",
      "DESCRIPTION:  No feature missing values were detected in the training data.\n",
      "              Learn more about missing value imputation: https://aka.ms/AutomatedMLFeaturization\n",
      "\n",
      "****************************************************************************************************\n",
      "\n",
      "TYPE:         High cardinality feature detection\n",
      "STATUS:       PASSED\n",
      "DESCRIPTION:  Your inputs were analyzed, and no high cardinality features were detected.\n",
      "              Learn more about high cardinality feature handling: https://aka.ms/AutomatedMLFeaturization\n",
      "\n",
      "****************************************************************************************************\n",
      "\n",
      "****************************************************************************************************\n",
      "ITERATION: The iteration being evaluated.\n",
      "PIPELINE: A summary description of the pipeline being evaluated.\n",
      "DURATION: Time taken for the current iteration.\n",
      "METRIC: The result of computing score on the fitted pipeline.\n",
      "BEST: The best observed score thus far.\n",
      "****************************************************************************************************\n",
      "\n",
      " ITERATION   PIPELINE                                       DURATION      METRIC      BEST\n",
      "         2   MaxAbsScaler RandomForest                      0:00:49       0.8408    0.8408\n",
      "         3   MaxAbsScaler RandomForest                      0:00:46       0.8162    0.8408\n",
      "         0   MaxAbsScaler LightGBM                          0:00:54       0.9514    0.9514\n",
      "         4   MaxAbsScaler RandomForest                      0:00:45       0.6704    0.9514\n",
      "         8   SparseNormalizer XGBoostClassifier             0:01:08       0.8940    0.9514\n",
      "         5   MaxAbsScaler RandomForest                      0:02:03       0.6020    0.9514\n",
      "         1   MaxAbsScaler XGBoostClassifier                 0:02:08       0.9463    0.9514\n",
      "         7   SparseNormalizer XGBoostClassifier             0:02:16       0.8738    0.9514\n",
      "         6   SparseNormalizer XGBoostClassifier             0:02:24       0.8965    0.9514\n",
      "        10   StandardScalerWrapper LightGBM                 0:00:48       0.9421    0.9514\n",
      "         9   StandardScalerWrapper RandomForest             0:00:56       0.8795    0.9514\n",
      "        11   MaxAbsScaler RandomForest                      0:00:54       0.8127    0.9514\n",
      "        12   MaxAbsScaler LogisticRegression                0:01:10       0.8625    0.9514\n",
      "        13   MaxAbsScaler LightGBM                          0:00:54       0.9038    0.9514\n",
      "        17   MaxAbsScaler LightGBM                          0:00:42       0.8748    0.9514\n",
      "        14   MaxAbsScaler LightGBM                          0:00:53       0.8832    0.9514\n",
      "        15   MaxAbsScaler LightGBM                          0:00:54       0.9031    0.9514\n",
      "        16   MaxAbsScaler LightGBM                          0:00:57       0.9408    0.9514\n",
      "        18   MaxAbsScaler ExtremeRandomTrees                0:01:21       0.8150    0.9514\n",
      "        19   SparseNormalizer RandomForest                  0:00:47       0.8074    0.9514\n",
      "        20   MaxAbsScaler LightGBM                          0:00:48       0.8344    0.9514\n",
      "        21   MaxAbsScaler LightGBM                          0:00:52       0.9161    0.9514\n",
      "        22   MaxAbsScaler GradientBoosting                  0:00:57       0.8345    0.9514\n",
      "        23   MaxAbsScaler LightGBM                          0:00:59       0.9302    0.9514\n",
      "        24   SparseNormalizer XGBoostClassifier             0:00:48       0.8617    0.9514\n",
      "        25   MaxAbsScaler LightGBM                          0:00:51       0.7984    0.9514\n",
      "        26   MaxAbsScaler LightGBM                          0:00:49       0.9153    0.9514\n",
      "        27   StandardScalerWrapper XGBoostClassifier        0:00:48       0.9200    0.9514\n",
      "        30   SparseNormalizer LightGBM                      0:00:45       0.4905    0.9514\n",
      "        29   MaxAbsScaler ExtremeRandomTrees                0:01:03       0.8088    0.9514\n",
      "        32   MaxAbsScaler LightGBM                          0:00:47       0.9454    0.9514\n",
      "        33   MaxAbsScaler LightGBM                          0:00:43       0.8652    0.9514\n",
      "        31   SparseNormalizer ExtremeRandomTrees            0:01:52       0.7982    0.9514\n",
      "        34   MaxAbsScaler LightGBM                          0:00:51       0.9188    0.9514\n",
      "        35   MaxAbsScaler LightGBM                          0:00:50       0.4905    0.9514\n",
      "        28   SparseNormalizer XGBoostClassifier             0:02:42       0.8965    0.9514\n",
      "        36   SparseNormalizer XGBoostClassifier             0:01:04       0.8811    0.9514\n",
      "        38   StandardScalerWrapper XGBoostClassifier        0:00:51       0.9419    0.9514\n",
      "        37   MaxAbsScaler LightGBM                          0:00:57       0.9425    0.9514\n",
      "        39   SparseNormalizer XGBoostClassifier             0:00:51       0.8803    0.9514\n",
      "        40   MaxAbsScaler LightGBM                          0:00:47       0.8808    0.9514\n",
      "        41   StandardScalerWrapper LightGBM                 0:00:49       0.9090    0.9514\n",
      "        42   SparseNormalizer XGBoostClassifier             0:00:55       0.8416    0.9514\n",
      "        43   StandardScalerWrapper RandomForest             0:01:00       0.8246    0.9514\n",
      "        44   StandardScalerWrapper ExtremeRandomTrees       0:01:10       0.8699    0.9514\n",
      "        45   MaxAbsScaler LightGBM                          0:00:48       0.9484    0.9514\n",
      "        46   StandardScalerWrapper XGBoostClassifier        0:00:52       0.9506    0.9514\n",
      "        47   SparseNormalizer LightGBM                      0:00:49       0.8693    0.9514\n",
      "        48   StandardScalerWrapper XGBoostClassifier        0:00:56       0.9450    0.9514\n",
      "        50   SparseNormalizer XGBoostClassifier             0:00:45       0.8392    0.9514\n",
      "        49   StandardScalerWrapper LightGBM                 0:00:50       0.9475    0.9514\n",
      "        52   StandardScalerWrapper XGBoostClassifier        0:00:47       0.9467    0.9514\n",
      "        51   SparseNormalizer XGBoostClassifier             0:00:57       0.8560    0.9514\n",
      "        53   StandardScalerWrapper XGBoostClassifier        0:00:49       0.8996    0.9514\n",
      "        55   MaxAbsScaler LightGBM                          0:00:51       0.9403    0.9514\n",
      "        54   SparseNormalizer XGBoostClassifier             0:01:20       0.8993    0.9514\n",
      "        56   StandardScalerWrapper XGBoostClassifier        0:00:54       0.9533    0.9533\n",
      "        57   StandardScalerWrapper XGBoostClassifier        0:00:50       0.9521    0.9533\n",
      "        58   SparseNormalizer XGBoostClassifier             0:01:09       0.8998    0.9533\n",
      "        59   StandardScalerWrapper XGBoostClassifier        0:00:55       0.9403    0.9533\n"
     ]
    },
    {
     "name": "stdout",
     "output_type": "stream",
     "text": [
      "        60   StandardScalerWrapper LightGBM                 0:00:44       0.9389    0.9533\n",
      "        61   StandardScalerWrapper XGBoostClassifier        0:00:52       0.9265    0.9533\n",
      "        62   SparseNormalizer XGBoostClassifier             0:00:53       0.8805    0.9533\n",
      "        63   SparseNormalizer XGBoostClassifier             0:01:02       0.8949    0.9533\n",
      "        64   StandardScalerWrapper XGBoostClassifier        0:00:57       0.9499    0.9533\n",
      "        65   StandardScalerWrapper XGBoostClassifier        0:00:55       0.9419    0.9533\n",
      "        66   StandardScalerWrapper XGBoostClassifier        0:00:47       0.9234    0.9533\n",
      "        67   MaxAbsScaler LightGBM                          0:00:43       0.9331    0.9533\n",
      "        69   StandardScalerWrapper LightGBM                 0:00:47       0.9392    0.9533\n",
      "        72   StandardScalerWrapper XGBoostClassifier        0:00:48       0.9392    0.9533\n",
      "        68   SparseNormalizer XGBoostClassifier             0:01:12       0.8984    0.9533\n",
      "        71   StandardScalerWrapper XGBoostClassifier        0:00:55       0.9484    0.9533\n",
      "        70   StandardScalerWrapper XGBoostClassifier        0:01:11       0.9450    0.9533\n",
      "        73   StandardScalerWrapper XGBoostClassifier        0:00:48       0.9388    0.9533\n",
      "        74   SparseNormalizer XGBoostClassifier             0:00:52       0.8683    0.9533\n",
      "        75   StandardScalerWrapper XGBoostClassifier        0:00:51       0.9446    0.9533\n",
      "        77   MaxAbsScaler LightGBM                          0:00:42       0.9351    0.9533\n",
      "        76   StandardScalerWrapper XGBoostClassifier        0:00:58       0.9541    0.9541\n",
      "        78   SparseNormalizer XGBoostClassifier             0:01:00       0.8701    0.9541\n",
      "        79   StandardScalerWrapper XGBoostClassifier        0:00:56       0.9524    0.9541\n",
      "        80   StandardScalerWrapper LightGBM                 0:00:46       0.9546    0.9546\n",
      "        81   MaxAbsScaler LightGBM                          0:00:51       0.8994    0.9546\n",
      "        82   SparseNormalizer XGBoostClassifier             0:00:52       0.8204    0.9546\n",
      "        83   StandardScalerWrapper XGBoostClassifier        0:00:45       0.8277    0.9546\n",
      "        84   StandardScalerWrapper XGBoostClassifier        0:00:45       0.9260    0.9546\n",
      "        85   SparseNormalizer LightGBM                      0:00:47       0.8771    0.9546\n",
      "        87   StandardScalerWrapper XGBoostClassifier        0:00:52       0.9523    0.9546\n",
      "        86   StandardScalerWrapper XGBoostClassifier        0:01:00       0.9485    0.9546\n",
      "        88   MaxAbsScaler LogisticRegression                0:00:53       0.8647    0.9546\n",
      "        90   MaxAbsScaler LightGBM                          0:00:44       0.9271    0.9546\n",
      "        89   SparseNormalizer XGBoostClassifier             0:01:04       0.8896    0.9546\n",
      "        92   StandardScalerWrapper XGBoostClassifier        0:00:48       0.9502    0.9546\n",
      "        91   SparseNormalizer XGBoostClassifier             0:00:54       0.8604    0.9546\n",
      "        93   StandardScalerWrapper XGBoostClassifier        0:00:49       0.9392    0.9546\n",
      "        95   MaxAbsScaler LightGBM                          0:00:44       0.9439    0.9546\n",
      "        96   StandardScalerWrapper XGBoostClassifier        0:00:48       0.9110    0.9546\n",
      "        94   StandardScalerWrapper XGBoostClassifier        0:01:28       0.9539    0.9546\n",
      "        97   SparseNormalizer XGBoostClassifier             0:01:18       0.9035    0.9546\n",
      "        98    VotingEnsemble                                0:01:30       0.9575    0.9575\n",
      "        99    StackEnsemble                                 0:01:45       0.9549    0.9575\n"
     ]
    },
    {
     "data": {
      "text/plain": [
       "{'runId': 'AutoML_2e6c69b0-1fa0-4548-823c-38194d3b44b6',\n",
       " 'target': 'compute-obi-3',\n",
       " 'status': 'Completed',\n",
       " 'startTimeUtc': '2021-03-04T21:44:18.372516Z',\n",
       " 'endTimeUtc': '2021-03-04T23:01:54.728361Z',\n",
       " 'properties': {'num_iterations': '100',\n",
       "  'training_type': 'TrainFull',\n",
       "  'acquisition_function': 'EI',\n",
       "  'primary_metric': 'accuracy',\n",
       "  'train_split': '0',\n",
       "  'acquisition_parameter': '0',\n",
       "  'num_cross_validation': '5',\n",
       "  'target': 'compute-obi-3',\n",
       "  'AMLSettingsJsonString': '{\"path\":null,\"name\":\"credit_card_churn\",\"subscription_id\":\"b968fb36-f06a-4c76-a15f-afab68ae7667\",\"resource_group\":\"aml-quickstarts-139822\",\"workspace_name\":\"quick-starts-ws-139822\",\"region\":\"southcentralus\",\"compute_target\":\"compute-obi-3\",\"spark_service\":null,\"azure_service\":\"remote\",\"many_models\":false,\"pipeline_fetch_max_batch_size\":1,\"iterations\":100,\"primary_metric\":\"accuracy\",\"task_type\":\"classification\",\"data_script\":null,\"validation_size\":0.0,\"n_cross_validations\":5,\"y_min\":null,\"y_max\":null,\"num_classes\":null,\"featurization\":\"auto\",\"_ignore_package_version_incompatibilities\":false,\"is_timeseries\":false,\"max_cores_per_iteration\":1,\"max_concurrent_iterations\":5,\"iteration_timeout_minutes\":null,\"mem_in_mb\":null,\"enforce_time_on_windows\":false,\"experiment_timeout_minutes\":60,\"experiment_exit_score\":0.963,\"whitelist_models\":null,\"blacklist_algos\":[\"TensorFlowLinearClassifier\",\"TensorFlowDNN\"],\"supported_models\":[\"SVM\",\"LinearSVM\",\"LightGBM\",\"XGBoostClassifier\",\"BernoulliNaiveBayes\",\"AveragedPerceptronClassifier\",\"ExtremeRandomTrees\",\"RandomForest\",\"MultinomialNaiveBayes\",\"TensorFlowDNN\",\"SGD\",\"TensorFlowLinearClassifier\",\"LogisticRegression\",\"DecisionTree\",\"GradientBoosting\",\"KNN\"],\"private_models\":[],\"auto_blacklist\":true,\"blacklist_samples_reached\":false,\"exclude_nan_labels\":true,\"verbosity\":20,\"_debug_log\":\"azureml_automl.log\",\"show_warnings\":false,\"model_explainability\":true,\"service_url\":null,\"sdk_url\":null,\"sdk_packages\":null,\"enable_onnx_compatible_models\":false,\"enable_split_onnx_featurizer_estimator_models\":false,\"vm_type\":\"STANDARD_D4_V2\",\"telemetry_verbosity\":20,\"send_telemetry\":true,\"enable_dnn\":false,\"scenario\":\"SDK-1.13.0\",\"environment_label\":null,\"force_text_dnn\":false,\"enable_feature_sweeping\":true,\"enable_early_stopping\":false,\"early_stopping_n_iters\":10,\"metrics\":null,\"enable_ensembling\":true,\"enable_stack_ensembling\":true,\"ensemble_iterations\":15,\"enable_tf\":false,\"enable_subsampling\":false,\"subsample_seed\":null,\"enable_nimbusml\":false,\"enable_streaming\":false,\"force_streaming\":false,\"track_child_runs\":true,\"allowed_private_models\":[],\"label_column_name\":\"Attrition_Flag\",\"weight_column_name\":null,\"cv_split_column_names\":null,\"enable_local_managed\":false,\"_local_managed_run_id\":null,\"cost_mode\":1,\"lag_length\":0,\"metric_operation\":\"maximize\",\"preprocess\":true}',\n",
       "  'DataPrepJsonString': '{\\\\\"training_data\\\\\": \\\\\"{\\\\\\\\\\\\\"blocks\\\\\\\\\\\\\": [{\\\\\\\\\\\\\"id\\\\\\\\\\\\\": \\\\\\\\\\\\\"f7b4655c-2dd4-42f0-8441-12fe197c7b3b\\\\\\\\\\\\\", \\\\\\\\\\\\\"type\\\\\\\\\\\\\": \\\\\\\\\\\\\"Microsoft.DPrep.GetFilesBlock\\\\\\\\\\\\\", \\\\\\\\\\\\\"arguments\\\\\\\\\\\\\": {\\\\\\\\\\\\\"isArchive\\\\\\\\\\\\\": false, \\\\\\\\\\\\\"path\\\\\\\\\\\\\": {\\\\\\\\\\\\\"target\\\\\\\\\\\\\": 4, \\\\\\\\\\\\\"resourceDetails\\\\\\\\\\\\\": [{\\\\\\\\\\\\\"path\\\\\\\\\\\\\": \\\\\\\\\\\\\"https://raw.githubusercontent.com/obinnaonyema/CreditCardChurn_UdacityAZMLCapstone/main/BankChurners.csv\\\\\\\\\\\\\"}]}}, \\\\\\\\\\\\\"localData\\\\\\\\\\\\\": {}, \\\\\\\\\\\\\"isEnabled\\\\\\\\\\\\\": true, \\\\\\\\\\\\\"name\\\\\\\\\\\\\": null, \\\\\\\\\\\\\"annotation\\\\\\\\\\\\\": null}, {\\\\\\\\\\\\\"id\\\\\\\\\\\\\": \\\\\\\\\\\\\"4ca729b5-9b0a-403d-bdff-1e0415542d1e\\\\\\\\\\\\\", \\\\\\\\\\\\\"type\\\\\\\\\\\\\": \\\\\\\\\\\\\"Microsoft.DPrep.ParseDelimitedBlock\\\\\\\\\\\\\", \\\\\\\\\\\\\"arguments\\\\\\\\\\\\\": {\\\\\\\\\\\\\"columnHeadersMode\\\\\\\\\\\\\": 3, \\\\\\\\\\\\\"fileEncoding\\\\\\\\\\\\\": 0, \\\\\\\\\\\\\"handleQuotedLineBreaks\\\\\\\\\\\\\": false, \\\\\\\\\\\\\"preview\\\\\\\\\\\\\": false, \\\\\\\\\\\\\"separator\\\\\\\\\\\\\": \\\\\\\\\\\\\",\\\\\\\\\\\\\", \\\\\\\\\\\\\"skipRows\\\\\\\\\\\\\": 0, \\\\\\\\\\\\\"skipRowsMode\\\\\\\\\\\\\": 0}, \\\\\\\\\\\\\"localData\\\\\\\\\\\\\": {}, \\\\\\\\\\\\\"isEnabled\\\\\\\\\\\\\": true, \\\\\\\\\\\\\"name\\\\\\\\\\\\\": null, \\\\\\\\\\\\\"annotation\\\\\\\\\\\\\": null}, {\\\\\\\\\\\\\"id\\\\\\\\\\\\\": \\\\\\\\\\\\\"915f21cd-d593-4f40-b5b8-df182c1cf9ee\\\\\\\\\\\\\", \\\\\\\\\\\\\"type\\\\\\\\\\\\\": \\\\\\\\\\\\\"Microsoft.DPrep.DropColumnsBlock\\\\\\\\\\\\\", \\\\\\\\\\\\\"arguments\\\\\\\\\\\\\": {\\\\\\\\\\\\\"columns\\\\\\\\\\\\\": {\\\\\\\\\\\\\"type\\\\\\\\\\\\\": 0, \\\\\\\\\\\\\"details\\\\\\\\\\\\\": {\\\\\\\\\\\\\"selectedColumns\\\\\\\\\\\\\": [\\\\\\\\\\\\\"Path\\\\\\\\\\\\\"]}}}, \\\\\\\\\\\\\"localData\\\\\\\\\\\\\": {}, \\\\\\\\\\\\\"isEnabled\\\\\\\\\\\\\": true, \\\\\\\\\\\\\"name\\\\\\\\\\\\\": null, \\\\\\\\\\\\\"annotation\\\\\\\\\\\\\": null}, {\\\\\\\\\\\\\"id\\\\\\\\\\\\\": \\\\\\\\\\\\\"068535c8-d754-40fe-b567-143d4004a5eb\\\\\\\\\\\\\", \\\\\\\\\\\\\"type\\\\\\\\\\\\\": \\\\\\\\\\\\\"Microsoft.DPrep.SetColumnTypesBlock\\\\\\\\\\\\\", \\\\\\\\\\\\\"arguments\\\\\\\\\\\\\": {\\\\\\\\\\\\\"columnConversion\\\\\\\\\\\\\": [{\\\\\\\\\\\\\"column\\\\\\\\\\\\\": {\\\\\\\\\\\\\"type\\\\\\\\\\\\\": 2, \\\\\\\\\\\\\"details\\\\\\\\\\\\\": {\\\\\\\\\\\\\"selectedColumn\\\\\\\\\\\\\": \\\\\\\\\\\\\"CLIENTNUM\\\\\\\\\\\\\"}}, \\\\\\\\\\\\\"typeProperty\\\\\\\\\\\\\": 2}, {\\\\\\\\\\\\\"column\\\\\\\\\\\\\": {\\\\\\\\\\\\\"type\\\\\\\\\\\\\": 2, \\\\\\\\\\\\\"details\\\\\\\\\\\\\": {\\\\\\\\\\\\\"selectedColumn\\\\\\\\\\\\\": \\\\\\\\\\\\\"Attrition_Flag\\\\\\\\\\\\\"}}, \\\\\\\\\\\\\"typeProperty\\\\\\\\\\\\\": 0}, {\\\\\\\\\\\\\"column\\\\\\\\\\\\\": {\\\\\\\\\\\\\"type\\\\\\\\\\\\\": 2, \\\\\\\\\\\\\"details\\\\\\\\\\\\\": {\\\\\\\\\\\\\"selectedColumn\\\\\\\\\\\\\": \\\\\\\\\\\\\"Customer_Age\\\\\\\\\\\\\"}}, \\\\\\\\\\\\\"typeProperty\\\\\\\\\\\\\": 2}, {\\\\\\\\\\\\\"column\\\\\\\\\\\\\": {\\\\\\\\\\\\\"type\\\\\\\\\\\\\": 2, \\\\\\\\\\\\\"details\\\\\\\\\\\\\": {\\\\\\\\\\\\\"selectedColumn\\\\\\\\\\\\\": \\\\\\\\\\\\\"Gender\\\\\\\\\\\\\"}}, \\\\\\\\\\\\\"typeProperty\\\\\\\\\\\\\": 0}, {\\\\\\\\\\\\\"column\\\\\\\\\\\\\": {\\\\\\\\\\\\\"type\\\\\\\\\\\\\": 2, \\\\\\\\\\\\\"details\\\\\\\\\\\\\": {\\\\\\\\\\\\\"selectedColumn\\\\\\\\\\\\\": \\\\\\\\\\\\\"Dependent_count\\\\\\\\\\\\\"}}, \\\\\\\\\\\\\"typeProperty\\\\\\\\\\\\\": 2}, {\\\\\\\\\\\\\"column\\\\\\\\\\\\\": {\\\\\\\\\\\\\"type\\\\\\\\\\\\\": 2, \\\\\\\\\\\\\"details\\\\\\\\\\\\\": {\\\\\\\\\\\\\"selectedColumn\\\\\\\\\\\\\": \\\\\\\\\\\\\"Education_Level\\\\\\\\\\\\\"}}, \\\\\\\\\\\\\"typeProperty\\\\\\\\\\\\\": 0}, {\\\\\\\\\\\\\"column\\\\\\\\\\\\\": {\\\\\\\\\\\\\"type\\\\\\\\\\\\\": 2, \\\\\\\\\\\\\"details\\\\\\\\\\\\\": {\\\\\\\\\\\\\"selectedColumn\\\\\\\\\\\\\": \\\\\\\\\\\\\"Marital_Status\\\\\\\\\\\\\"}}, \\\\\\\\\\\\\"typeProperty\\\\\\\\\\\\\": 0}, {\\\\\\\\\\\\\"column\\\\\\\\\\\\\": {\\\\\\\\\\\\\"type\\\\\\\\\\\\\": 2, \\\\\\\\\\\\\"details\\\\\\\\\\\\\": {\\\\\\\\\\\\\"selectedColumn\\\\\\\\\\\\\": \\\\\\\\\\\\\"Income_Category\\\\\\\\\\\\\"}}, \\\\\\\\\\\\\"typeProperty\\\\\\\\\\\\\": 0}, {\\\\\\\\\\\\\"column\\\\\\\\\\\\\": {\\\\\\\\\\\\\"type\\\\\\\\\\\\\": 2, \\\\\\\\\\\\\"details\\\\\\\\\\\\\": {\\\\\\\\\\\\\"selectedColumn\\\\\\\\\\\\\": \\\\\\\\\\\\\"Card_Category\\\\\\\\\\\\\"}}, \\\\\\\\\\\\\"typeProperty\\\\\\\\\\\\\": 0}, {\\\\\\\\\\\\\"column\\\\\\\\\\\\\": {\\\\\\\\\\\\\"type\\\\\\\\\\\\\": 2, \\\\\\\\\\\\\"details\\\\\\\\\\\\\": {\\\\\\\\\\\\\"selectedColumn\\\\\\\\\\\\\": \\\\\\\\\\\\\"Months_on_book\\\\\\\\\\\\\"}}, \\\\\\\\\\\\\"typeProperty\\\\\\\\\\\\\": 2}, {\\\\\\\\\\\\\"column\\\\\\\\\\\\\": {\\\\\\\\\\\\\"type\\\\\\\\\\\\\": 2, \\\\\\\\\\\\\"details\\\\\\\\\\\\\": {\\\\\\\\\\\\\"selectedColumn\\\\\\\\\\\\\": \\\\\\\\\\\\\"Total_Relationship_Count\\\\\\\\\\\\\"}}, \\\\\\\\\\\\\"typeProperty\\\\\\\\\\\\\": 2}, {\\\\\\\\\\\\\"column\\\\\\\\\\\\\": {\\\\\\\\\\\\\"type\\\\\\\\\\\\\": 2, \\\\\\\\\\\\\"details\\\\\\\\\\\\\": {\\\\\\\\\\\\\"selectedColumn\\\\\\\\\\\\\": \\\\\\\\\\\\\"Months_Inactive_12_mon\\\\\\\\\\\\\"}}, \\\\\\\\\\\\\"typeProperty\\\\\\\\\\\\\": 2}, {\\\\\\\\\\\\\"column\\\\\\\\\\\\\": {\\\\\\\\\\\\\"type\\\\\\\\\\\\\": 2, \\\\\\\\\\\\\"details\\\\\\\\\\\\\": {\\\\\\\\\\\\\"selectedColumn\\\\\\\\\\\\\": \\\\\\\\\\\\\"Contacts_Count_12_mon\\\\\\\\\\\\\"}}, \\\\\\\\\\\\\"typeProperty\\\\\\\\\\\\\": 2}, {\\\\\\\\\\\\\"column\\\\\\\\\\\\\": {\\\\\\\\\\\\\"type\\\\\\\\\\\\\": 2, \\\\\\\\\\\\\"details\\\\\\\\\\\\\": {\\\\\\\\\\\\\"selectedColumn\\\\\\\\\\\\\": \\\\\\\\\\\\\"Credit_Limit\\\\\\\\\\\\\"}}, \\\\\\\\\\\\\"typeProperty\\\\\\\\\\\\\": 3}, {\\\\\\\\\\\\\"column\\\\\\\\\\\\\": {\\\\\\\\\\\\\"type\\\\\\\\\\\\\": 2, \\\\\\\\\\\\\"details\\\\\\\\\\\\\": {\\\\\\\\\\\\\"selectedColumn\\\\\\\\\\\\\": \\\\\\\\\\\\\"Total_Revolving_Bal\\\\\\\\\\\\\"}}, \\\\\\\\\\\\\"typeProperty\\\\\\\\\\\\\": 2}, {\\\\\\\\\\\\\"column\\\\\\\\\\\\\": {\\\\\\\\\\\\\"type\\\\\\\\\\\\\": 2, \\\\\\\\\\\\\"details\\\\\\\\\\\\\": {\\\\\\\\\\\\\"selectedColumn\\\\\\\\\\\\\": \\\\\\\\\\\\\"Avg_Open_To_Buy\\\\\\\\\\\\\"}}, \\\\\\\\\\\\\"typeProperty\\\\\\\\\\\\\": 3}, {\\\\\\\\\\\\\"column\\\\\\\\\\\\\": {\\\\\\\\\\\\\"type\\\\\\\\\\\\\": 2, \\\\\\\\\\\\\"details\\\\\\\\\\\\\": {\\\\\\\\\\\\\"selectedColumn\\\\\\\\\\\\\": \\\\\\\\\\\\\"Total_Amt_Chng_Q4_Q1\\\\\\\\\\\\\"}}, \\\\\\\\\\\\\"typeProperty\\\\\\\\\\\\\": 3}, {\\\\\\\\\\\\\"column\\\\\\\\\\\\\": {\\\\\\\\\\\\\"type\\\\\\\\\\\\\": 2, \\\\\\\\\\\\\"details\\\\\\\\\\\\\": {\\\\\\\\\\\\\"selectedColumn\\\\\\\\\\\\\": \\\\\\\\\\\\\"Total_Trans_Amt\\\\\\\\\\\\\"}}, \\\\\\\\\\\\\"typeProperty\\\\\\\\\\\\\": 2}, {\\\\\\\\\\\\\"column\\\\\\\\\\\\\": {\\\\\\\\\\\\\"type\\\\\\\\\\\\\": 2, \\\\\\\\\\\\\"details\\\\\\\\\\\\\": {\\\\\\\\\\\\\"selectedColumn\\\\\\\\\\\\\": \\\\\\\\\\\\\"Total_Trans_Ct\\\\\\\\\\\\\"}}, \\\\\\\\\\\\\"typeProperty\\\\\\\\\\\\\": 2}, {\\\\\\\\\\\\\"column\\\\\\\\\\\\\": {\\\\\\\\\\\\\"type\\\\\\\\\\\\\": 2, \\\\\\\\\\\\\"details\\\\\\\\\\\\\": {\\\\\\\\\\\\\"selectedColumn\\\\\\\\\\\\\": \\\\\\\\\\\\\"Total_Ct_Chng_Q4_Q1\\\\\\\\\\\\\"}}, \\\\\\\\\\\\\"typeProperty\\\\\\\\\\\\\": 3}, {\\\\\\\\\\\\\"column\\\\\\\\\\\\\": {\\\\\\\\\\\\\"type\\\\\\\\\\\\\": 2, \\\\\\\\\\\\\"details\\\\\\\\\\\\\": {\\\\\\\\\\\\\"selectedColumn\\\\\\\\\\\\\": \\\\\\\\\\\\\"Avg_Utilization_Ratio\\\\\\\\\\\\\"}}, \\\\\\\\\\\\\"typeProperty\\\\\\\\\\\\\": 3}, {\\\\\\\\\\\\\"column\\\\\\\\\\\\\": {\\\\\\\\\\\\\"type\\\\\\\\\\\\\": 2, \\\\\\\\\\\\\"details\\\\\\\\\\\\\": {\\\\\\\\\\\\\"selectedColumn\\\\\\\\\\\\\": \\\\\\\\\\\\\"Naive_Bayes_Classifier_Attrition_Flag_Card_Category_Contacts_Count_12_mon_Dependent_count_Education_Level_Months_Inactive_12_mon_1\\\\\\\\\\\\\"}}, \\\\\\\\\\\\\"typeProperty\\\\\\\\\\\\\": 3}, {\\\\\\\\\\\\\"column\\\\\\\\\\\\\": {\\\\\\\\\\\\\"type\\\\\\\\\\\\\": 2, \\\\\\\\\\\\\"details\\\\\\\\\\\\\": {\\\\\\\\\\\\\"selectedColumn\\\\\\\\\\\\\": \\\\\\\\\\\\\"Naive_Bayes_Classifier_Attrition_Flag_Card_Category_Contacts_Count_12_mon_Dependent_count_Education_Level_Months_Inactive_12_mon_2\\\\\\\\\\\\\"}}, \\\\\\\\\\\\\"typeProperty\\\\\\\\\\\\\": 3}]}, \\\\\\\\\\\\\"localData\\\\\\\\\\\\\": {}, \\\\\\\\\\\\\"isEnabled\\\\\\\\\\\\\": true, \\\\\\\\\\\\\"name\\\\\\\\\\\\\": null, \\\\\\\\\\\\\"annotation\\\\\\\\\\\\\": null}, {\\\\\\\\\\\\\"id\\\\\\\\\\\\\": \\\\\\\\\\\\\"92c3ba08-3d8d-48de-a86b-3a4d36793b92\\\\\\\\\\\\\", \\\\\\\\\\\\\"type\\\\\\\\\\\\\": \\\\\\\\\\\\\"Microsoft.DPrep.DropColumnsBlock\\\\\\\\\\\\\", \\\\\\\\\\\\\"arguments\\\\\\\\\\\\\": {\\\\\\\\\\\\\"columns\\\\\\\\\\\\\": {\\\\\\\\\\\\\"type\\\\\\\\\\\\\": 0, \\\\\\\\\\\\\"details\\\\\\\\\\\\\": {\\\\\\\\\\\\\"selectedColumns\\\\\\\\\\\\\": [\\\\\\\\\\\\\"Naive_Bayes_Classifier_Attrition_Flag_Card_Category_Contacts_Count_12_mon_Dependent_count_Education_Level_Months_Inactive_12_mon_1\\\\\\\\\\\\\", \\\\\\\\\\\\\"Naive_Bayes_Classifier_Attrition_Flag_Card_Category_Contacts_Count_12_mon_Dependent_count_Education_Level_Months_Inactive_12_mon_2\\\\\\\\\\\\\", \\\\\\\\\\\\\"CLIENTNUM\\\\\\\\\\\\\"]}}}, \\\\\\\\\\\\\"localData\\\\\\\\\\\\\": {}, \\\\\\\\\\\\\"isEnabled\\\\\\\\\\\\\": true, \\\\\\\\\\\\\"name\\\\\\\\\\\\\": null, \\\\\\\\\\\\\"annotation\\\\\\\\\\\\\": null}], \\\\\\\\\\\\\"inspectors\\\\\\\\\\\\\": [], \\\\\\\\\\\\\"meta\\\\\\\\\\\\\": {\\\\\\\\\\\\\"savedDatasetId\\\\\\\\\\\\\": \\\\\\\\\\\\\"bf7c4c5f-2ff6-463f-82a9-652b0b933ef6\\\\\\\\\\\\\", \\\\\\\\\\\\\"datasetType\\\\\\\\\\\\\": \\\\\\\\\\\\\"tabular\\\\\\\\\\\\\", \\\\\\\\\\\\\"subscriptionId\\\\\\\\\\\\\": \\\\\\\\\\\\\"b968fb36-f06a-4c76-a15f-afab68ae7667\\\\\\\\\\\\\", \\\\\\\\\\\\\"workspaceId\\\\\\\\\\\\\": \\\\\\\\\\\\\"a658ebac-897e-4fc2-9dab-c650b0c2a2b8\\\\\\\\\\\\\", \\\\\\\\\\\\\"workspaceLocation\\\\\\\\\\\\\": \\\\\\\\\\\\\"southcentralus\\\\\\\\\\\\\"}}\\\\\", \\\\\"activities\\\\\": 0}',\n",
       "  'EnableSubsampling': 'False',\n",
       "  'runTemplate': 'AutoML',\n",
       "  'azureml.runsource': 'automl',\n",
       "  'display_task_type': 'classification',\n",
       "  'dependencies_versions': '{\"azureml-widgets\": \"1.22.0\", \"azureml-train\": \"1.22.0\", \"azureml-train-restclients-hyperdrive\": \"1.22.0\", \"azureml-train-core\": \"1.22.0\", \"azureml-train-automl\": \"1.22.0\", \"azureml-train-automl-runtime\": \"1.22.0\", \"azureml-train-automl-client\": \"1.22.0\", \"azureml-tensorboard\": \"1.22.0\", \"azureml-telemetry\": \"1.22.0\", \"azureml-sdk\": \"1.22.0\", \"azureml-samples\": \"0+unknown\", \"azureml-pipeline\": \"1.22.0\", \"azureml-pipeline-steps\": \"1.22.0\", \"azureml-pipeline-core\": \"1.22.0\", \"azureml-opendatasets\": \"1.22.0\", \"azureml-model-management-sdk\": \"1.0.1b6.post1\", \"azureml-mlflow\": \"1.22.0\", \"azureml-interpret\": \"1.22.0\", \"azureml-explain-model\": \"1.22.0\", \"azureml-defaults\": \"1.22.0\", \"azureml-dataset-runtime\": \"1.22.0\", \"azureml-dataprep\": \"2.9.1\", \"azureml-dataprep-rslex\": \"1.7.0\", \"azureml-dataprep-native\": \"29.0.0\", \"azureml-datadrift\": \"1.22.0\", \"azureml-core\": \"1.22.0\", \"azureml-contrib-services\": \"1.22.0\", \"azureml-contrib-server\": \"1.22.0\", \"azureml-contrib-reinforcementlearning\": \"1.22.0\", \"azureml-contrib-pipeline-steps\": \"1.22.0\", \"azureml-contrib-notebook\": \"1.22.0\", \"azureml-contrib-interpret\": \"1.22.0\", \"azureml-contrib-gbdt\": \"1.22.0\", \"azureml-contrib-fairness\": \"1.22.0\", \"azureml-contrib-dataset\": \"1.22.0\", \"azureml-cli-common\": \"1.22.0\", \"azureml-automl-runtime\": \"1.22.0\", \"azureml-automl-core\": \"1.22.0\", \"azureml-accel-models\": \"1.22.0\"}',\n",
       "  '_aml_system_scenario_identification': 'Remote.Parent',\n",
       "  'ClientType': 'SDK',\n",
       "  'environment_cpu_name': 'AzureML-AutoML',\n",
       "  'environment_cpu_label': 'prod',\n",
       "  'environment_gpu_name': 'AzureML-AutoML-GPU',\n",
       "  'environment_gpu_label': 'prod',\n",
       "  'root_attribution': 'automl',\n",
       "  'attribution': 'AutoML',\n",
       "  'Orchestrator': 'AutoML',\n",
       "  'CancelUri': 'https://southcentralus.experiments.azureml.net/jasmine/v1.0/subscriptions/b968fb36-f06a-4c76-a15f-afab68ae7667/resourceGroups/aml-quickstarts-139822/providers/Microsoft.MachineLearningServices/workspaces/quick-starts-ws-139822/experimentids/5b83c0d3-c5f6-4ac7-bd42-30b3d7439fd8/cancel/AutoML_2e6c69b0-1fa0-4548-823c-38194d3b44b6',\n",
       "  'azureml.git.repository_uri': 'https://github.com/obinnaonyema/CreditCardChurn_UdacityAZMLCapstone.git',\n",
       "  'mlflow.source.git.repoURL': 'https://github.com/obinnaonyema/CreditCardChurn_UdacityAZMLCapstone.git',\n",
       "  'azureml.git.branch': 'master',\n",
       "  'mlflow.source.git.branch': 'master',\n",
       "  'azureml.git.commit': '5dc653cf65f54d174c8336b161cb0f58dc45af43',\n",
       "  'mlflow.source.git.commit': '5dc653cf65f54d174c8336b161cb0f58dc45af43',\n",
       "  'azureml.git.dirty': 'True',\n",
       "  'ClientSdkVersion': '1.23.0',\n",
       "  'snapshotId': '00000000-0000-0000-0000-000000000000',\n",
       "  'SetupRunId': 'AutoML_2e6c69b0-1fa0-4548-823c-38194d3b44b6_setup',\n",
       "  'SetupRunContainerId': 'dcid.AutoML_2e6c69b0-1fa0-4548-823c-38194d3b44b6_setup',\n",
       "  'FeaturizationRunJsonPath': 'featurizer_container.json',\n",
       "  'FeaturizationRunId': 'AutoML_2e6c69b0-1fa0-4548-823c-38194d3b44b6_featurize',\n",
       "  'ProblemInfoJsonString': '{\"dataset_num_categorical\": 0, \"is_sparse\": true, \"subsampling\": false, \"dataset_classes\": 2, \"dataset_features\": 153, \"dataset_samples\": 10127, \"single_frequency_class_detected\": false}',\n",
       "  'ModelExplainRunId': 'AutoML_2e6c69b0-1fa0-4548-823c-38194d3b44b6_ModelExplain'},\n",
       " 'inputDatasets': [{'dataset': {'id': 'bf7c4c5f-2ff6-463f-82a9-652b0b933ef6'}, 'consumptionDetails': {'type': 'RunInput', 'inputName': 'training_data', 'mechanism': 'Direct'}}],\n",
       " 'outputDatasets': [],\n",
       " 'logFiles': {},\n",
       " 'submittedBy': 'ODL_User 139822'}"
      ]
     },
     "execution_count": 7,
     "metadata": {},
     "output_type": "execute_result"
    }
   ],
   "source": [
    "RunDetails(remote_run).show()\n",
    "remote_run.wait_for_completion(show_output=True)"
   ]
  },
  {
   "cell_type": "markdown",
   "metadata": {},
   "source": [
    "## Best Model\n",
    "\n"
   ]
  },
  {
   "cell_type": "code",
   "execution_count": 8,
   "metadata": {
    "gather": {
     "logged": 1614464065136
    },
    "jupyter": {
     "outputs_hidden": false,
     "source_hidden": false
    },
    "nteract": {
     "transient": {
      "deleting": false
     }
    }
   },
   "outputs": [
    {
     "name": "stderr",
     "output_type": "stream",
     "text": [
      "WARNING:root:The version of the SDK does not match the version the model was trained on.\n",
      "WARNING:root:The consistency in the result may not be guaranteed.\n",
      "WARNING:root:Package:azureml-automl-core, training version:1.23.0, current version:1.22.0\n",
      "Package:azureml-automl-runtime, training version:1.23.0, current version:1.22.0\n",
      "Package:azureml-core, training version:1.23.0, current version:1.22.0\n",
      "Package:azureml-dataprep, training version:2.10.1, current version:2.9.1\n",
      "Package:azureml-dataprep-native, training version:30.0.0, current version:29.0.0\n",
      "Package:azureml-dataprep-rslex, training version:1.8.0, current version:1.7.0\n",
      "Package:azureml-dataset-runtime, training version:1.23.0, current version:1.22.0\n",
      "Package:azureml-defaults, training version:1.23.0, current version:1.22.0\n",
      "Package:azureml-interpret, training version:1.23.0, current version:1.22.0\n",
      "Package:azureml-mlflow, training version:1.23.0, current version:1.22.0\n",
      "Package:azureml-pipeline-core, training version:1.23.0, current version:1.22.0\n",
      "Package:azureml-telemetry, training version:1.23.0, current version:1.22.0\n",
      "Package:azureml-train-automl-client, training version:1.23.0, current version:1.22.0\n",
      "Package:azureml-train-automl-runtime, training version:1.23.0, current version:1.22.0\n",
      "WARNING:root:Please ensure the version of your local conda dependencies match the version on which your model was trained in order to properly retrieve your model.\n",
      "WARNING:root:The version of the SDK does not match the version the model was trained on.\n",
      "WARNING:root:The consistency in the result may not be guaranteed.\n",
      "WARNING:root:Package:azureml-automl-core, training version:1.23.0, current version:1.22.0\n",
      "Package:azureml-automl-runtime, training version:1.23.0, current version:1.22.0\n",
      "Package:azureml-core, training version:1.23.0, current version:1.22.0\n",
      "Package:azureml-dataprep, training version:2.10.1, current version:2.9.1\n",
      "Package:azureml-dataprep-native, training version:30.0.0, current version:29.0.0\n",
      "Package:azureml-dataprep-rslex, training version:1.8.0, current version:1.7.0\n",
      "Package:azureml-dataset-runtime, training version:1.23.0, current version:1.22.0\n",
      "Package:azureml-defaults, training version:1.23.0, current version:1.22.0\n",
      "Package:azureml-interpret, training version:1.23.0, current version:1.22.0\n",
      "Package:azureml-mlflow, training version:1.23.0, current version:1.22.0\n",
      "Package:azureml-pipeline-core, training version:1.23.0, current version:1.22.0\n",
      "Package:azureml-telemetry, training version:1.23.0, current version:1.22.0\n",
      "Package:azureml-train-automl-client, training version:1.23.0, current version:1.22.0\n",
      "Package:azureml-train-automl-runtime, training version:1.23.0, current version:1.22.0\n"
     ]
    },
    {
     "ename": "AttributeError",
     "evalue": "/anaconda/envs/azureml_py36/lib/libxgboost.so: undefined symbol: XGBoosterUnserializeFromBuffer",
     "output_type": "error",
     "traceback": [
      "\u001b[0;31m---------------------------------------------------------------------------\u001b[0m",
      "\u001b[0;31mAttributeError\u001b[0m                            Traceback (most recent call last)",
      "\u001b[0;32m<ipython-input-8-554a30a8c0be>\u001b[0m in \u001b[0;36m<module>\u001b[0;34m\u001b[0m\n\u001b[1;32m      1\u001b[0m \u001b[0;31m# obtaining best run and fitted model\u001b[0m\u001b[0;34m\u001b[0m\u001b[0;34m\u001b[0m\u001b[0;34m\u001b[0m\u001b[0m\n\u001b[0;32m----> 2\u001b[0;31m \u001b[0mbest_run\u001b[0m\u001b[0;34m,\u001b[0m \u001b[0mfitted_model\u001b[0m \u001b[0;34m=\u001b[0m \u001b[0mremote_run\u001b[0m\u001b[0;34m.\u001b[0m\u001b[0mget_output\u001b[0m\u001b[0;34m(\u001b[0m\u001b[0;34m)\u001b[0m\u001b[0;34m\u001b[0m\u001b[0;34m\u001b[0m\u001b[0m\n\u001b[0m\u001b[1;32m      3\u001b[0m \u001b[0;34m\u001b[0m\u001b[0m\n\u001b[1;32m      4\u001b[0m \u001b[0;31m# Print the best run\u001b[0m\u001b[0;34m\u001b[0m\u001b[0;34m\u001b[0m\u001b[0;34m\u001b[0m\u001b[0m\n\u001b[1;32m      5\u001b[0m \u001b[0mprint\u001b[0m\u001b[0;34m(\u001b[0m\u001b[0mbest_run\u001b[0m\u001b[0;34m)\u001b[0m\u001b[0;34m\u001b[0m\u001b[0;34m\u001b[0m\u001b[0m\n",
      "\u001b[0;32m/anaconda/envs/azureml_py36/lib/python3.6/site-packages/azureml/train/automl/run.py\u001b[0m in \u001b[0;36mget_output\u001b[0;34m(self, iteration, metric, return_onnx_model, return_split_onnx_model, **kwargs)\u001b[0m\n\u001b[1;32m    699\u001b[0m                     \u001b[0mfitted_model\u001b[0m \u001b[0;34m=\u001b[0m \u001b[0m_download_automl_onnx_model\u001b[0m\u001b[0;34m(\u001b[0m\u001b[0mcurr_run\u001b[0m\u001b[0;34m,\u001b[0m \u001b[0mmodel_name\u001b[0m\u001b[0;34m)\u001b[0m\u001b[0;34m\u001b[0m\u001b[0;34m\u001b[0m\u001b[0m\n\u001b[1;32m    700\u001b[0m                 \u001b[0;32melse\u001b[0m\u001b[0;34m:\u001b[0m\u001b[0;34m\u001b[0m\u001b[0;34m\u001b[0m\u001b[0m\n\u001b[0;32m--> 701\u001b[0;31m                     \u001b[0mfitted_model\u001b[0m \u001b[0;34m=\u001b[0m \u001b[0m_download_automl_model\u001b[0m\u001b[0;34m(\u001b[0m\u001b[0mcurr_run\u001b[0m\u001b[0;34m,\u001b[0m \u001b[0mmodel_name\u001b[0m\u001b[0;34m)\u001b[0m\u001b[0;34m\u001b[0m\u001b[0;34m\u001b[0m\u001b[0m\n\u001b[0m\u001b[1;32m    702\u001b[0m \u001b[0;34m\u001b[0m\u001b[0m\n\u001b[1;32m    703\u001b[0m             \u001b[0;32mreturn\u001b[0m \u001b[0mcurr_run\u001b[0m\u001b[0;34m,\u001b[0m \u001b[0mfitted_model\u001b[0m\u001b[0;34m\u001b[0m\u001b[0;34m\u001b[0m\u001b[0m\n",
      "\u001b[0;32m/anaconda/envs/azureml_py36/lib/python3.6/site-packages/azureml/train/automl/_model_download_utilities.py\u001b[0m in \u001b[0;36m_download_automl_model\u001b[0;34m(run, model_name)\u001b[0m\n\u001b[1;32m     88\u001b[0m             \u001b[0;31m# Pass through any exceptions from loading the model.\u001b[0m\u001b[0;34m\u001b[0m\u001b[0;34m\u001b[0m\u001b[0;34m\u001b[0m\u001b[0m\n\u001b[1;32m     89\u001b[0m             \u001b[0;31m# Try is used here to ensure we can cleanup the side effect of model downlad.\u001b[0m\u001b[0;34m\u001b[0m\u001b[0;34m\u001b[0m\u001b[0;34m\u001b[0m\u001b[0m\n\u001b[0;32m---> 90\u001b[0;31m             \u001b[0mmodel\u001b[0m \u001b[0;34m=\u001b[0m \u001b[0m_load_automl_model\u001b[0m\u001b[0;34m(\u001b[0m\u001b[0mmodel_path\u001b[0m\u001b[0;34m)\u001b[0m\u001b[0;34m\u001b[0m\u001b[0;34m\u001b[0m\u001b[0m\n\u001b[0m\u001b[1;32m     91\u001b[0m             \u001b[0;32mif\u001b[0m \u001b[0mmodel\u001b[0m \u001b[0;32mis\u001b[0m \u001b[0;32mNone\u001b[0m\u001b[0;34m:\u001b[0m\u001b[0;34m\u001b[0m\u001b[0;34m\u001b[0m\u001b[0m\n\u001b[1;32m     92\u001b[0m                 \u001b[0;31m# If we can retrieve the automl runtime version, we do so we can inform the user what to install.\u001b[0m\u001b[0;34m\u001b[0m\u001b[0;34m\u001b[0m\u001b[0;34m\u001b[0m\u001b[0m\n",
      "\u001b[0;32m/anaconda/envs/azureml_py36/lib/python3.6/site-packages/azureml/train/automl/_model_download_utilities.py\u001b[0m in \u001b[0;36m_load_automl_model\u001b[0;34m(model_path)\u001b[0m\n\u001b[1;32m    172\u001b[0m         \u001b[0;32mimport\u001b[0m \u001b[0mazureml\u001b[0m\u001b[0;34m.\u001b[0m\u001b[0mtrain\u001b[0m\u001b[0;34m.\u001b[0m\u001b[0mautoml\u001b[0m\u001b[0;34m.\u001b[0m\u001b[0mruntime\u001b[0m\u001b[0;34m\u001b[0m\u001b[0;34m\u001b[0m\u001b[0m\n\u001b[1;32m    173\u001b[0m         \u001b[0;32mwith\u001b[0m \u001b[0mopen\u001b[0m\u001b[0;34m(\u001b[0m\u001b[0mmodel_path\u001b[0m\u001b[0;34m,\u001b[0m \u001b[0;34m\"rb\"\u001b[0m\u001b[0;34m)\u001b[0m \u001b[0;32mas\u001b[0m \u001b[0mmodel_file\u001b[0m\u001b[0;34m:\u001b[0m\u001b[0;34m\u001b[0m\u001b[0;34m\u001b[0m\u001b[0m\n\u001b[0;32m--> 174\u001b[0;31m             \u001b[0mfitted_model\u001b[0m \u001b[0;34m=\u001b[0m \u001b[0mpickle\u001b[0m\u001b[0;34m.\u001b[0m\u001b[0mload\u001b[0m\u001b[0;34m(\u001b[0m\u001b[0mmodel_file\u001b[0m\u001b[0;34m)\u001b[0m  \u001b[0;31m# type: Optional[Any]\u001b[0m\u001b[0;34m\u001b[0m\u001b[0;34m\u001b[0m\u001b[0m\n\u001b[0m\u001b[1;32m    175\u001b[0m             \u001b[0;32mreturn\u001b[0m \u001b[0mfitted_model\u001b[0m\u001b[0;34m\u001b[0m\u001b[0;34m\u001b[0m\u001b[0m\n\u001b[1;32m    176\u001b[0m     \u001b[0;32mexcept\u001b[0m \u001b[0mImportError\u001b[0m \u001b[0;32mas\u001b[0m \u001b[0me\u001b[0m\u001b[0;34m:\u001b[0m\u001b[0;34m\u001b[0m\u001b[0;34m\u001b[0m\u001b[0m\n",
      "\u001b[0;32m/anaconda/envs/azureml_py36/lib/python3.6/site-packages/xgboost/core.py\u001b[0m in \u001b[0;36m__setstate__\u001b[0;34m(self, state)\u001b[0m\n\u001b[1;32m   1086\u001b[0m             \u001b[0mptr\u001b[0m \u001b[0;34m=\u001b[0m \u001b[0;34m(\u001b[0m\u001b[0mctypes\u001b[0m\u001b[0;34m.\u001b[0m\u001b[0mc_char\u001b[0m \u001b[0;34m*\u001b[0m \u001b[0mlen\u001b[0m\u001b[0;34m(\u001b[0m\u001b[0mbuf\u001b[0m\u001b[0;34m)\u001b[0m\u001b[0;34m)\u001b[0m\u001b[0;34m.\u001b[0m\u001b[0mfrom_buffer\u001b[0m\u001b[0;34m(\u001b[0m\u001b[0mbuf\u001b[0m\u001b[0;34m)\u001b[0m\u001b[0;34m\u001b[0m\u001b[0;34m\u001b[0m\u001b[0m\n\u001b[1;32m   1087\u001b[0m             _check_call(\n\u001b[0;32m-> 1088\u001b[0;31m                 _LIB.XGBoosterUnserializeFromBuffer(handle, ptr, length))\n\u001b[0m\u001b[1;32m   1089\u001b[0m             \u001b[0mstate\u001b[0m\u001b[0;34m[\u001b[0m\u001b[0;34m'handle'\u001b[0m\u001b[0;34m]\u001b[0m \u001b[0;34m=\u001b[0m \u001b[0mhandle\u001b[0m\u001b[0;34m\u001b[0m\u001b[0;34m\u001b[0m\u001b[0m\n\u001b[1;32m   1090\u001b[0m         \u001b[0mself\u001b[0m\u001b[0;34m.\u001b[0m\u001b[0m__dict__\u001b[0m\u001b[0;34m.\u001b[0m\u001b[0mupdate\u001b[0m\u001b[0;34m(\u001b[0m\u001b[0mstate\u001b[0m\u001b[0;34m)\u001b[0m\u001b[0;34m\u001b[0m\u001b[0;34m\u001b[0m\u001b[0m\n",
      "\u001b[0;32m/anaconda/envs/azureml_py36/lib/python3.6/ctypes/__init__.py\u001b[0m in \u001b[0;36m__getattr__\u001b[0;34m(self, name)\u001b[0m\n\u001b[1;32m    359\u001b[0m         \u001b[0;32mif\u001b[0m \u001b[0mname\u001b[0m\u001b[0;34m.\u001b[0m\u001b[0mstartswith\u001b[0m\u001b[0;34m(\u001b[0m\u001b[0;34m'__'\u001b[0m\u001b[0;34m)\u001b[0m \u001b[0;32mand\u001b[0m \u001b[0mname\u001b[0m\u001b[0;34m.\u001b[0m\u001b[0mendswith\u001b[0m\u001b[0;34m(\u001b[0m\u001b[0;34m'__'\u001b[0m\u001b[0;34m)\u001b[0m\u001b[0;34m:\u001b[0m\u001b[0;34m\u001b[0m\u001b[0;34m\u001b[0m\u001b[0m\n\u001b[1;32m    360\u001b[0m             \u001b[0;32mraise\u001b[0m \u001b[0mAttributeError\u001b[0m\u001b[0;34m(\u001b[0m\u001b[0mname\u001b[0m\u001b[0;34m)\u001b[0m\u001b[0;34m\u001b[0m\u001b[0;34m\u001b[0m\u001b[0m\n\u001b[0;32m--> 361\u001b[0;31m         \u001b[0mfunc\u001b[0m \u001b[0;34m=\u001b[0m \u001b[0mself\u001b[0m\u001b[0;34m.\u001b[0m\u001b[0m__getitem__\u001b[0m\u001b[0;34m(\u001b[0m\u001b[0mname\u001b[0m\u001b[0;34m)\u001b[0m\u001b[0;34m\u001b[0m\u001b[0;34m\u001b[0m\u001b[0m\n\u001b[0m\u001b[1;32m    362\u001b[0m         \u001b[0msetattr\u001b[0m\u001b[0;34m(\u001b[0m\u001b[0mself\u001b[0m\u001b[0;34m,\u001b[0m \u001b[0mname\u001b[0m\u001b[0;34m,\u001b[0m \u001b[0mfunc\u001b[0m\u001b[0;34m)\u001b[0m\u001b[0;34m\u001b[0m\u001b[0;34m\u001b[0m\u001b[0m\n\u001b[1;32m    363\u001b[0m         \u001b[0;32mreturn\u001b[0m \u001b[0mfunc\u001b[0m\u001b[0;34m\u001b[0m\u001b[0;34m\u001b[0m\u001b[0m\n",
      "\u001b[0;32m/anaconda/envs/azureml_py36/lib/python3.6/ctypes/__init__.py\u001b[0m in \u001b[0;36m__getitem__\u001b[0;34m(self, name_or_ordinal)\u001b[0m\n\u001b[1;32m    364\u001b[0m \u001b[0;34m\u001b[0m\u001b[0m\n\u001b[1;32m    365\u001b[0m     \u001b[0;32mdef\u001b[0m \u001b[0m__getitem__\u001b[0m\u001b[0;34m(\u001b[0m\u001b[0mself\u001b[0m\u001b[0;34m,\u001b[0m \u001b[0mname_or_ordinal\u001b[0m\u001b[0;34m)\u001b[0m\u001b[0;34m:\u001b[0m\u001b[0;34m\u001b[0m\u001b[0;34m\u001b[0m\u001b[0m\n\u001b[0;32m--> 366\u001b[0;31m         \u001b[0mfunc\u001b[0m \u001b[0;34m=\u001b[0m \u001b[0mself\u001b[0m\u001b[0;34m.\u001b[0m\u001b[0m_FuncPtr\u001b[0m\u001b[0;34m(\u001b[0m\u001b[0;34m(\u001b[0m\u001b[0mname_or_ordinal\u001b[0m\u001b[0;34m,\u001b[0m \u001b[0mself\u001b[0m\u001b[0;34m)\u001b[0m\u001b[0;34m)\u001b[0m\u001b[0;34m\u001b[0m\u001b[0;34m\u001b[0m\u001b[0m\n\u001b[0m\u001b[1;32m    367\u001b[0m         \u001b[0;32mif\u001b[0m \u001b[0;32mnot\u001b[0m \u001b[0misinstance\u001b[0m\u001b[0;34m(\u001b[0m\u001b[0mname_or_ordinal\u001b[0m\u001b[0;34m,\u001b[0m \u001b[0mint\u001b[0m\u001b[0;34m)\u001b[0m\u001b[0;34m:\u001b[0m\u001b[0;34m\u001b[0m\u001b[0;34m\u001b[0m\u001b[0m\n\u001b[1;32m    368\u001b[0m             \u001b[0mfunc\u001b[0m\u001b[0;34m.\u001b[0m\u001b[0m__name__\u001b[0m \u001b[0;34m=\u001b[0m \u001b[0mname_or_ordinal\u001b[0m\u001b[0;34m\u001b[0m\u001b[0;34m\u001b[0m\u001b[0m\n",
      "\u001b[0;31mAttributeError\u001b[0m: /anaconda/envs/azureml_py36/lib/libxgboost.so: undefined symbol: XGBoosterUnserializeFromBuffer"
     ]
    }
   ],
   "source": [
    "# obtaining best run and fitted model\n",
    "best_run, fitted_model = remote_run.get_output()\n",
    "\n",
    "# Print the best run\n",
    "print(best_run)\n",
    "\n",
    "# Get all metrics of the best run model\n",
    "best_run_metrics = best_run.get_metrics()\n",
    "\n",
    "# Print all metrics of the best run model\n",
    "for metric_name in best_run_metrics:\n",
    "    metric = best_run_metrics[metric_name]\n",
    "    print(metric_name, metric)"
   ]
  },
  {
   "cell_type": "code",
   "execution_count": 9,
   "metadata": {
    "collapsed": true,
    "gather": {
     "logged": 1614464133064
    },
    "jupyter": {
     "outputs_hidden": false,
     "source_hidden": false
    },
    "nteract": {
     "transient": {
      "deleting": false
     }
    }
   },
   "outputs": [
    {
     "name": "stdout",
     "output_type": "stream",
     "text": [
      "datatransformer\n",
      "{'enable_dnn': None,\n",
      " 'enable_feature_sweeping': None,\n",
      " 'feature_sweeping_config': None,\n",
      " 'feature_sweeping_timeout': None,\n",
      " 'featurization_config': None,\n",
      " 'force_text_dnn': None,\n",
      " 'is_cross_validation': None,\n",
      " 'is_onnx_compatible': None,\n",
      " 'logger': None,\n",
      " 'observer': None,\n",
      " 'task': None,\n",
      " 'working_dir': None}\n",
      "\n",
      "prefittedsoftvotingclassifier\n",
      "{'estimators': ['190',\n",
      "                '155',\n",
      "                '110',\n",
      "                '179',\n",
      "                '109',\n",
      "                '187',\n",
      "                '125',\n",
      "                '82',\n",
      "                '194',\n",
      "                '90'],\n",
      " 'weights': [0.07142857142857142,\n",
      "             0.07142857142857142,\n",
      "             0.07142857142857142,\n",
      "             0.14285714285714285,\n",
      "             0.14285714285714285,\n",
      "             0.07142857142857142,\n",
      "             0.07142857142857142,\n",
      "             0.07142857142857142,\n",
      "             0.14285714285714285,\n",
      "             0.14285714285714285]}\n",
      "\n",
      "190 - maxabsscaler\n",
      "{'copy': True}\n",
      "\n",
      "190 - lightgbmclassifier\n",
      "{'boosting_type': 'goss',\n",
      " 'class_weight': None,\n",
      " 'colsample_bytree': 0.7922222222222222,\n",
      " 'importance_type': 'split',\n",
      " 'learning_rate': 0.021060526315789474,\n",
      " 'max_bin': 220,\n",
      " 'max_depth': 8,\n",
      " 'min_child_samples': 1,\n",
      " 'min_child_weight': 3,\n",
      " 'min_split_gain': 0.8421052631578947,\n",
      " 'n_estimators': 800,\n",
      " 'n_jobs': 1,\n",
      " 'num_leaves': 11,\n",
      " 'objective': None,\n",
      " 'random_state': None,\n",
      " 'reg_alpha': 0.8421052631578947,\n",
      " 'reg_lambda': 0.894736842105263,\n",
      " 'silent': True,\n",
      " 'subsample': 1,\n",
      " 'subsample_for_bin': 200000,\n",
      " 'subsample_freq': 0,\n",
      " 'verbose': -10}\n",
      "\n",
      "155 - standardscalerwrapper\n",
      "{'class_name': 'StandardScaler',\n",
      " 'copy': True,\n",
      " 'module_name': 'sklearn.preprocessing._data',\n",
      " 'with_mean': False,\n",
      " 'with_std': False}\n",
      "\n",
      "155 - lightgbmclassifier\n",
      "{'boosting_type': 'goss',\n",
      " 'class_weight': None,\n",
      " 'colsample_bytree': 0.5944444444444444,\n",
      " 'importance_type': 'split',\n",
      " 'learning_rate': 0.08947473684210526,\n",
      " 'max_bin': 300,\n",
      " 'max_depth': 8,\n",
      " 'min_child_samples': 1,\n",
      " 'min_child_weight': 2,\n",
      " 'min_split_gain': 0.7368421052631579,\n",
      " 'n_estimators': 600,\n",
      " 'n_jobs': 1,\n",
      " 'num_leaves': 98,\n",
      " 'objective': None,\n",
      " 'random_state': None,\n",
      " 'reg_alpha': 0.8421052631578947,\n",
      " 'reg_lambda': 0.631578947368421,\n",
      " 'silent': True,\n",
      " 'subsample': 1,\n",
      " 'subsample_for_bin': 200000,\n",
      " 'subsample_freq': 0,\n",
      " 'verbose': -10}\n",
      "\n",
      "110 - maxabsscaler\n",
      "{'copy': True}\n",
      "\n",
      "110 - lightgbmclassifier\n",
      "{'boosting_type': 'gbdt',\n",
      " 'class_weight': None,\n",
      " 'colsample_bytree': 0.99,\n",
      " 'importance_type': 'split',\n",
      " 'learning_rate': 0.0842121052631579,\n",
      " 'max_bin': 220,\n",
      " 'max_depth': 3,\n",
      " 'min_child_samples': 1,\n",
      " 'min_child_weight': 3,\n",
      " 'min_split_gain': 0.2631578947368421,\n",
      " 'n_estimators': 400,\n",
      " 'n_jobs': 1,\n",
      " 'num_leaves': 74,\n",
      " 'objective': None,\n",
      " 'random_state': None,\n",
      " 'reg_alpha': 0.7894736842105263,\n",
      " 'reg_lambda': 0.7368421052631579,\n",
      " 'silent': True,\n",
      " 'subsample': 0.6931578947368422,\n",
      " 'subsample_for_bin': 200000,\n",
      " 'subsample_freq': 0,\n",
      " 'verbose': -10}\n",
      "\n",
      "179 - standardscalerwrapper\n",
      "{'class_name': 'StandardScaler',\n",
      " 'copy': True,\n",
      " 'module_name': 'sklearn.preprocessing._data',\n",
      " 'with_mean': False,\n",
      " 'with_std': False}\n",
      "\n",
      "179 - xgboostclassifier\n",
      "{'base_score': 0.5,\n",
      " 'booster': 'gbtree',\n",
      " 'colsample_bylevel': 1,\n",
      " 'colsample_bynode': 1,\n",
      " 'colsample_bytree': 1,\n",
      " 'eta': 0.3,\n",
      " 'gamma': 0,\n",
      " 'learning_rate': 0.1,\n",
      " 'max_delta_step': 0,\n",
      " 'max_depth': 2,\n",
      " 'max_leaves': 3,\n",
      " 'min_child_weight': 1,\n",
      " 'missing': nan,\n",
      " 'n_estimators': 600,\n",
      " 'n_jobs': 1,\n",
      " 'nthread': None,\n",
      " 'objective': 'reg:logistic',\n",
      " 'random_state': 0,\n",
      " 'reg_alpha': 0.10416666666666667,\n",
      " 'reg_lambda': 1.4583333333333335,\n",
      " 'scale_pos_weight': 1,\n",
      " 'seed': None,\n",
      " 'silent': None,\n",
      " 'subsample': 0.9,\n",
      " 'tree_method': 'auto',\n",
      " 'verbose': -10,\n",
      " 'verbosity': 0}\n",
      "\n",
      "109 - standardscalerwrapper\n",
      "{'class_name': 'StandardScaler',\n",
      " 'copy': True,\n",
      " 'module_name': 'sklearn.preprocessing._data',\n",
      " 'with_mean': False,\n",
      " 'with_std': False}\n",
      "\n",
      "109 - xgboostclassifier\n",
      "{'base_score': 0.5,\n",
      " 'booster': 'gbtree',\n",
      " 'colsample_bylevel': 1,\n",
      " 'colsample_bynode': 1,\n",
      " 'colsample_bytree': 1,\n",
      " 'eta': 0.5,\n",
      " 'gamma': 0,\n",
      " 'learning_rate': 0.1,\n",
      " 'max_delta_step': 0,\n",
      " 'max_depth': 4,\n",
      " 'max_leaves': 0,\n",
      " 'min_child_weight': 1,\n",
      " 'missing': nan,\n",
      " 'n_estimators': 200,\n",
      " 'n_jobs': 1,\n",
      " 'nthread': None,\n",
      " 'objective': 'reg:logistic',\n",
      " 'random_state': 0,\n",
      " 'reg_alpha': 0,\n",
      " 'reg_lambda': 1.6666666666666667,\n",
      " 'scale_pos_weight': 1,\n",
      " 'seed': None,\n",
      " 'silent': None,\n",
      " 'subsample': 0.9,\n",
      " 'tree_method': 'auto',\n",
      " 'verbose': -10,\n",
      " 'verbosity': 0}\n",
      "\n",
      "187 - standardscalerwrapper\n",
      "{'class_name': 'StandardScaler',\n",
      " 'copy': True,\n",
      " 'module_name': 'sklearn.preprocessing._data',\n",
      " 'with_mean': False,\n",
      " 'with_std': False}\n",
      "\n",
      "187 - xgboostclassifier\n",
      "{'base_score': 0.5,\n",
      " 'booster': 'gbtree',\n",
      " 'colsample_bylevel': 1,\n",
      " 'colsample_bynode': 1,\n",
      " 'colsample_bytree': 0.6,\n",
      " 'eta': 0.3,\n",
      " 'gamma': 1,\n",
      " 'learning_rate': 0.1,\n",
      " 'max_delta_step': 0,\n",
      " 'max_depth': 6,\n",
      " 'max_leaves': 0,\n",
      " 'min_child_weight': 1,\n",
      " 'missing': nan,\n",
      " 'n_estimators': 200,\n",
      " 'n_jobs': 1,\n",
      " 'nthread': None,\n",
      " 'objective': 'reg:logistic',\n",
      " 'random_state': 0,\n",
      " 'reg_alpha': 0.8333333333333334,\n",
      " 'reg_lambda': 0.4166666666666667,\n",
      " 'scale_pos_weight': 1,\n",
      " 'seed': None,\n",
      " 'silent': None,\n",
      " 'subsample': 0.9,\n",
      " 'tree_method': 'auto',\n",
      " 'verbose': -10,\n",
      " 'verbosity': 0}\n",
      "\n",
      "125 - maxabsscaler\n",
      "{'copy': True}\n",
      "\n",
      "125 - lightgbmclassifier\n",
      "{'boosting_type': 'goss',\n",
      " 'class_weight': None,\n",
      " 'colsample_bytree': 0.6933333333333332,\n",
      " 'importance_type': 'split',\n",
      " 'learning_rate': 0.1,\n",
      " 'max_bin': 40,\n",
      " 'max_depth': 9,\n",
      " 'min_child_samples': 105,\n",
      " 'min_child_weight': 7,\n",
      " 'min_split_gain': 0.6842105263157894,\n",
      " 'n_estimators': 100,\n",
      " 'n_jobs': 1,\n",
      " 'num_leaves': 26,\n",
      " 'objective': None,\n",
      " 'random_state': None,\n",
      " 'reg_alpha': 0.6842105263157894,\n",
      " 'reg_lambda': 0.42105263157894735,\n",
      " 'silent': True,\n",
      " 'subsample': 1,\n",
      " 'subsample_for_bin': 200000,\n",
      " 'subsample_freq': 0,\n",
      " 'verbose': -10}\n",
      "\n",
      "82 - standardscalerwrapper\n",
      "{'class_name': 'StandardScaler',\n",
      " 'copy': True,\n",
      " 'module_name': 'sklearn.preprocessing._data',\n",
      " 'with_mean': False,\n",
      " 'with_std': False}\n",
      "\n",
      "82 - xgboostclassifier\n",
      "{'base_score': 0.5,\n",
      " 'booster': 'gbtree',\n",
      " 'colsample_bylevel': 1,\n",
      " 'colsample_bynode': 1,\n",
      " 'colsample_bytree': 0.6,\n",
      " 'eta': 0.1,\n",
      " 'gamma': 10,\n",
      " 'grow_policy': 'lossguide',\n",
      " 'learning_rate': 0.1,\n",
      " 'max_bin': 255,\n",
      " 'max_delta_step': 0,\n",
      " 'max_depth': 6,\n",
      " 'max_leaves': 31,\n",
      " 'min_child_weight': 1,\n",
      " 'missing': nan,\n",
      " 'n_estimators': 50,\n",
      " 'n_jobs': 1,\n",
      " 'nthread': None,\n",
      " 'objective': 'reg:logistic',\n",
      " 'random_state': 0,\n",
      " 'reg_alpha': 0,\n",
      " 'reg_lambda': 1.5625,\n",
      " 'scale_pos_weight': 1,\n",
      " 'seed': None,\n",
      " 'silent': None,\n",
      " 'subsample': 1,\n",
      " 'tree_method': 'hist',\n",
      " 'verbose': -10,\n",
      " 'verbosity': 0}\n",
      "\n",
      "194 - standardscalerwrapper\n",
      "{'class_name': 'StandardScaler',\n",
      " 'copy': True,\n",
      " 'module_name': 'sklearn.preprocessing._data',\n",
      " 'with_mean': False,\n",
      " 'with_std': False}\n",
      "\n",
      "194 - xgboostclassifier\n",
      "{'base_score': 0.5,\n",
      " 'booster': 'gbtree',\n",
      " 'colsample_bylevel': 1,\n",
      " 'colsample_bynode': 1,\n",
      " 'colsample_bytree': 0.9,\n",
      " 'eta': 0.5,\n",
      " 'gamma': 0,\n",
      " 'grow_policy': 'lossguide',\n",
      " 'learning_rate': 0.1,\n",
      " 'max_bin': 63,\n",
      " 'max_delta_step': 0,\n",
      " 'max_depth': 0,\n",
      " 'max_leaves': 255,\n",
      " 'min_child_weight': 1,\n",
      " 'missing': nan,\n",
      " 'n_estimators': 400,\n",
      " 'n_jobs': 1,\n",
      " 'nthread': None,\n",
      " 'objective': 'reg:logistic',\n",
      " 'random_state': 0,\n",
      " 'reg_alpha': 0.625,\n",
      " 'reg_lambda': 2.291666666666667,\n",
      " 'scale_pos_weight': 1,\n",
      " 'seed': None,\n",
      " 'silent': None,\n",
      " 'subsample': 0.5,\n",
      " 'tree_method': 'hist',\n",
      " 'verbose': -10,\n",
      " 'verbosity': 0}\n",
      "\n",
      "90 - standardscalerwrapper\n",
      "{'class_name': 'StandardScaler',\n",
      " 'copy': True,\n",
      " 'module_name': 'sklearn.preprocessing._data',\n",
      " 'with_mean': False,\n",
      " 'with_std': False}\n",
      "\n",
      "90 - lightgbmclassifier\n",
      "{'boosting_type': 'gbdt',\n",
      " 'class_weight': None,\n",
      " 'colsample_bytree': 0.8911111111111111,\n",
      " 'importance_type': 'split',\n",
      " 'learning_rate': 0.07894947368421053,\n",
      " 'max_bin': 260,\n",
      " 'max_depth': 6,\n",
      " 'min_child_samples': 420,\n",
      " 'min_child_weight': 4,\n",
      " 'min_split_gain': 0.42105263157894735,\n",
      " 'n_estimators': 400,\n",
      " 'n_jobs': 1,\n",
      " 'num_leaves': 185,\n",
      " 'objective': None,\n",
      " 'random_state': None,\n",
      " 'reg_alpha': 0.9473684210526315,\n",
      " 'reg_lambda': 0,\n",
      " 'silent': True,\n",
      " 'subsample': 0.05,\n",
      " 'subsample_for_bin': 200000,\n",
      " 'subsample_freq': 0,\n",
      " 'verbose': -10}\n",
      "\n"
     ]
    }
   ],
   "source": [
    "def print_model(model, prefix=\"\"):\n",
    "    for step in model.steps:\n",
    "        print(prefix + step[0])\n",
    "        if hasattr(step[1], 'estimators') and hasattr(step[1], 'weights'):\n",
    "            pprint({'estimators': list(\n",
    "                e[0] for e in step[1].estimators), 'weights': step[1].weights})\n",
    "            print()\n",
    "            for estimator in step[1].estimators:\n",
    "                print_model(estimator[1], estimator[0] + ' - ')\n",
    "        else:\n",
    "            pprint(step[1].get_params())\n",
    "            print()\n",
    "\n",
    "print_model(fitted_model)"
   ]
  },
  {
   "cell_type": "code",
   "execution_count": 10,
   "metadata": {
    "collapsed": true,
    "gather": {
     "logged": 1614464191381
    },
    "jupyter": {
     "outputs_hidden": false,
     "source_hidden": false
    },
    "nteract": {
     "transient": {
      "deleting": false
     }
    }
   },
   "outputs": [
    {
     "data": {
      "text/plain": [
       "['model.pkl']"
      ]
     },
     "execution_count": 10,
     "metadata": {},
     "output_type": "execute_result"
    }
   ],
   "source": [
    "joblib.dump(value=fitted_model, filename='model.pkl')\n"
   ]
  },
  {
   "cell_type": "code",
   "execution_count": 12,
   "metadata": {
    "gather": {
     "logged": 1614464282287
    },
    "jupyter": {
     "outputs_hidden": false,
     "source_hidden": false
    },
    "nteract": {
     "transient": {
      "deleting": false
     }
    }
   },
   "outputs": [
    {
     "name": "stdout",
     "output_type": "stream",
     "text": [
      "Model(workspace=Workspace.create(name='quick-starts-ws-139586', subscription_id='610d6e37-4747-4a20-80eb-3aad70a55f43', resource_group='aml-quickstarts-139586'), name=cc_best_model, id=cc_best_model:2, version=2, tags={'Method of execution': 'Auto ML'}, properties={'Accuracy': '0.9601262503370677'})\n"
     ]
    }
   ],
   "source": [
    "#TODO: Save the best model\n",
    "automl_best = best_run.register_model(model_path='outputs/model.pkl', model_name='cc_best_model',\n",
    "                        tags={'Method of execution':'Auto ML'},\n",
    "                        properties={'Accuracy': best_run_metrics['accuracy']})\n",
    "\n",
    "print(automl_best)"
   ]
  },
  {
   "cell_type": "markdown",
   "metadata": {},
   "source": [
    "## Model Deployment\n",
    "\n",
    "Remember you have to deploy only one of the two models you trained.. Perform the steps in the rest of this notebook only if you wish to deploy this model.\n",
    "\n",
    "TODO: In the cell below, register the model, create an inference config and deploy the model as a web service."
   ]
  },
  {
   "cell_type": "code",
   "execution_count": 13,
   "metadata": {
    "gather": {
     "logged": 1614464339601
    },
    "jupyter": {
     "outputs_hidden": false,
     "source_hidden": false
    },
    "nteract": {
     "transient": {
      "deleting": false
     }
    }
   },
   "outputs": [],
   "source": [
    "# Download scoring file \n",
    "best_run.download_file('outputs/scoring_file_v_1_0_0.py', 'scoring.py')\n",
    "\n",
    "# Download environment file\n",
    "best_run.download_file('outputs/conda_env_v_1_0_0.yml', 'enviro.yml')"
   ]
  },
  {
   "cell_type": "code",
   "execution_count": 14,
   "metadata": {
    "collapsed": true,
    "gather": {
     "logged": 1614465483794
    },
    "jupyter": {
     "outputs_hidden": false,
     "source_hidden": false
    },
    "nteract": {
     "transient": {
      "deleting": false
     }
    }
   },
   "outputs": [
    {
     "name": "stdout",
     "output_type": "stream",
     "text": [
      "Tips: You can try get_logs(): https://aka.ms/debugimage#dockerlog or local deployment: https://aka.ms/debugimage#debug-locally to debug if deployment takes longer than 10 minutes.\n",
      "Running.......................................................................................................................................................................................................\n",
      "Succeeded\n",
      "ACI service creation operation finished, operation \"Succeeded\"\n",
      "Healthy\n",
      "http://40820628-40be-4700-a529-bff791b775b4.southcentralus.azurecontainer.io/score\n",
      "http://40820628-40be-4700-a529-bff791b775b4.southcentralus.azurecontainer.io/swagger.json\n"
     ]
    }
   ],
   "source": [
    "from azureml.core.environment import Environment\n",
    "from azureml.core.model import InferenceConfig\n",
    "\n",
    "inf_config = InferenceConfig(entry_script='scoring.py',\n",
    "                                    environment=Environment.from_conda_specification(name='myenv',file_path='enviro.yml'))\n",
    "\n",
    "# deploying the model via WebService\n",
    "from azureml.core.webservice import AciWebservice\n",
    "\n",
    "dep_config = AciWebservice.deploy_configuration(cpu_cores = 1, memory_gb = 1)\n",
    "webservice = Model.deploy(ws, \"webcc\", [automl_best], inf_config, dep_config)\n",
    "webservice.wait_for_deployment(show_output = True)\n",
    "print(webservice.state)\n",
    "\n",
    "print(webservice.scoring_uri)\n",
    "\n",
    "print(webservice.swagger_uri)"
   ]
  },
  {
   "cell_type": "markdown",
   "metadata": {
    "collapsed": true,
    "gather": {
     "logged": 1598431657736
    },
    "jupyter": {
     "outputs_hidden": false,
     "source_hidden": false
    },
    "nteract": {
     "transient": {
      "deleting": false
     }
    }
   },
   "source": [
    "TODO: In the cell below, send a request to the web service you deployed to test it."
   ]
  },
  {
   "cell_type": "code",
   "execution_count": 20,
   "metadata": {
    "gather": {
     "logged": 1614465921824
    },
    "jupyter": {
     "outputs_hidden": false,
     "source_hidden": false
    },
    "nteract": {
     "transient": {
      "deleting": false
     }
    }
   },
   "outputs": [
    {
     "name": "stdout",
     "output_type": "stream",
     "text": [
      "      Attrition_Flag  Customer_Age Gender  Dependent_count Education_Level  \\\n",
      "0  Existing Customer            45      M                3     High School   \n",
      "1  Existing Customer            49      F                5        Graduate   \n",
      "2  Existing Customer            51      M                3        Graduate   \n",
      "3  Existing Customer            40      F                4     High School   \n",
      "4  Existing Customer            40      M                3      Uneducated   \n",
      "\n",
      "  Marital_Status Income_Category Card_Category  Months_on_book  \\\n",
      "0        Married     $60K - $80K          Blue              39   \n",
      "1         Single  Less than $40K          Blue              44   \n",
      "2        Married    $80K - $120K          Blue              36   \n",
      "3        Unknown  Less than $40K          Blue              34   \n",
      "4        Married     $60K - $80K          Blue              21   \n",
      "\n",
      "   Total_Relationship_Count  Months_Inactive_12_mon  Contacts_Count_12_mon  \\\n",
      "0                         5                       1                      3   \n",
      "1                         6                       1                      2   \n",
      "2                         4                       1                      0   \n",
      "3                         3                       4                      1   \n",
      "4                         5                       1                      0   \n",
      "\n",
      "   Credit_Limit  Total_Revolving_Bal  Avg_Open_To_Buy  Total_Amt_Chng_Q4_Q1  \\\n",
      "0      12691.00                  777         11914.00                  1.33   \n",
      "1       8256.00                  864          7392.00                  1.54   \n",
      "2       3418.00                    0          3418.00                  2.59   \n",
      "3       3313.00                 2517           796.00                  1.41   \n",
      "4       4716.00                    0          4716.00                  2.17   \n",
      "\n",
      "   Total_Trans_Amt  Total_Trans_Ct  Total_Ct_Chng_Q4_Q1  Avg_Utilization_Ratio  \n",
      "0             1144              42                 1.62                   0.06  \n",
      "1             1291              33                 3.71                   0.10  \n",
      "2             1887              20                 2.33                   0.00  \n",
      "3             1171              20                 2.33                   0.76  \n",
      "4              816              28                 2.50                   0.00  \n"
     ]
    },
    {
     "ename": "KeyError",
     "evalue": "\"['Attrition_Flag'] not found in axis\"",
     "output_type": "error",
     "traceback": [
      "\u001b[0;31m---------------------------------------------------------------------------\u001b[0m",
      "\u001b[0;31mKeyError\u001b[0m                                  Traceback (most recent call last)",
      "\u001b[0;32m<ipython-input-20-032745c35a35>\u001b[0m in \u001b[0;36m<module>\u001b[0;34m\u001b[0m\n\u001b[1;32m      5\u001b[0m \u001b[0mprint\u001b[0m\u001b[0;34m(\u001b[0m\u001b[0mtest_cc\u001b[0m\u001b[0;34m)\u001b[0m\u001b[0;34m\u001b[0m\u001b[0;34m\u001b[0m\u001b[0m\n\u001b[1;32m      6\u001b[0m \u001b[0mcc_lbl\u001b[0m \u001b[0;34m=\u001b[0m \u001b[0mtest_cc\u001b[0m\u001b[0;34m.\u001b[0m\u001b[0mpop\u001b[0m\u001b[0;34m(\u001b[0m\u001b[0;34m'Attrition_Flag'\u001b[0m\u001b[0;34m)\u001b[0m\u001b[0;34m\u001b[0m\u001b[0;34m\u001b[0m\u001b[0m\n\u001b[0;32m----> 7\u001b[0;31m \u001b[0mtest_cc\u001b[0m\u001b[0;34m.\u001b[0m\u001b[0mdrop\u001b[0m\u001b[0;34m(\u001b[0m\u001b[0;34m'Attrition_Flag'\u001b[0m\u001b[0;34m)\u001b[0m\u001b[0;34m\u001b[0m\u001b[0;34m\u001b[0m\u001b[0m\n\u001b[0m\u001b[1;32m      8\u001b[0m \u001b[0;34m\u001b[0m\u001b[0m\n\u001b[1;32m      9\u001b[0m \u001b[0mtest_data_cc\u001b[0m \u001b[0;34m=\u001b[0m \u001b[0mjson\u001b[0m\u001b[0;34m.\u001b[0m\u001b[0mdumps\u001b[0m\u001b[0;34m(\u001b[0m\u001b[0;34m{\u001b[0m\u001b[0;34m'data'\u001b[0m\u001b[0;34m:\u001b[0m \u001b[0mtest_cc\u001b[0m\u001b[0;34m.\u001b[0m\u001b[0mto_dict\u001b[0m\u001b[0;34m(\u001b[0m\u001b[0morient\u001b[0m\u001b[0;34m=\u001b[0m\u001b[0;34m'records'\u001b[0m\u001b[0;34m)\u001b[0m\u001b[0;34m}\u001b[0m\u001b[0;34m)\u001b[0m\u001b[0;34m\u001b[0m\u001b[0;34m\u001b[0m\u001b[0m\n",
      "\u001b[0;32m/anaconda/envs/azureml_py36/lib/python3.6/site-packages/pandas/core/frame.py\u001b[0m in \u001b[0;36mdrop\u001b[0;34m(self, labels, axis, index, columns, level, inplace, errors)\u001b[0m\n\u001b[1;32m   4115\u001b[0m             \u001b[0mlevel\u001b[0m\u001b[0;34m=\u001b[0m\u001b[0mlevel\u001b[0m\u001b[0;34m,\u001b[0m\u001b[0;34m\u001b[0m\u001b[0;34m\u001b[0m\u001b[0m\n\u001b[1;32m   4116\u001b[0m             \u001b[0minplace\u001b[0m\u001b[0;34m=\u001b[0m\u001b[0minplace\u001b[0m\u001b[0;34m,\u001b[0m\u001b[0;34m\u001b[0m\u001b[0;34m\u001b[0m\u001b[0m\n\u001b[0;32m-> 4117\u001b[0;31m             \u001b[0merrors\u001b[0m\u001b[0;34m=\u001b[0m\u001b[0merrors\u001b[0m\u001b[0;34m,\u001b[0m\u001b[0;34m\u001b[0m\u001b[0;34m\u001b[0m\u001b[0m\n\u001b[0m\u001b[1;32m   4118\u001b[0m         )\n\u001b[1;32m   4119\u001b[0m \u001b[0;34m\u001b[0m\u001b[0m\n",
      "\u001b[0;32m/anaconda/envs/azureml_py36/lib/python3.6/site-packages/pandas/core/generic.py\u001b[0m in \u001b[0;36mdrop\u001b[0;34m(self, labels, axis, index, columns, level, inplace, errors)\u001b[0m\n\u001b[1;32m   3912\u001b[0m         \u001b[0;32mfor\u001b[0m \u001b[0maxis\u001b[0m\u001b[0;34m,\u001b[0m \u001b[0mlabels\u001b[0m \u001b[0;32min\u001b[0m \u001b[0maxes\u001b[0m\u001b[0;34m.\u001b[0m\u001b[0mitems\u001b[0m\u001b[0;34m(\u001b[0m\u001b[0;34m)\u001b[0m\u001b[0;34m:\u001b[0m\u001b[0;34m\u001b[0m\u001b[0;34m\u001b[0m\u001b[0m\n\u001b[1;32m   3913\u001b[0m             \u001b[0;32mif\u001b[0m \u001b[0mlabels\u001b[0m \u001b[0;32mis\u001b[0m \u001b[0;32mnot\u001b[0m \u001b[0;32mNone\u001b[0m\u001b[0;34m:\u001b[0m\u001b[0;34m\u001b[0m\u001b[0;34m\u001b[0m\u001b[0m\n\u001b[0;32m-> 3914\u001b[0;31m                 \u001b[0mobj\u001b[0m \u001b[0;34m=\u001b[0m \u001b[0mobj\u001b[0m\u001b[0;34m.\u001b[0m\u001b[0m_drop_axis\u001b[0m\u001b[0;34m(\u001b[0m\u001b[0mlabels\u001b[0m\u001b[0;34m,\u001b[0m \u001b[0maxis\u001b[0m\u001b[0;34m,\u001b[0m \u001b[0mlevel\u001b[0m\u001b[0;34m=\u001b[0m\u001b[0mlevel\u001b[0m\u001b[0;34m,\u001b[0m \u001b[0merrors\u001b[0m\u001b[0;34m=\u001b[0m\u001b[0merrors\u001b[0m\u001b[0;34m)\u001b[0m\u001b[0;34m\u001b[0m\u001b[0;34m\u001b[0m\u001b[0m\n\u001b[0m\u001b[1;32m   3915\u001b[0m \u001b[0;34m\u001b[0m\u001b[0m\n\u001b[1;32m   3916\u001b[0m         \u001b[0;32mif\u001b[0m \u001b[0minplace\u001b[0m\u001b[0;34m:\u001b[0m\u001b[0;34m\u001b[0m\u001b[0;34m\u001b[0m\u001b[0m\n",
      "\u001b[0;32m/anaconda/envs/azureml_py36/lib/python3.6/site-packages/pandas/core/generic.py\u001b[0m in \u001b[0;36m_drop_axis\u001b[0;34m(self, labels, axis, level, errors)\u001b[0m\n\u001b[1;32m   3944\u001b[0m                 \u001b[0mnew_axis\u001b[0m \u001b[0;34m=\u001b[0m \u001b[0maxis\u001b[0m\u001b[0;34m.\u001b[0m\u001b[0mdrop\u001b[0m\u001b[0;34m(\u001b[0m\u001b[0mlabels\u001b[0m\u001b[0;34m,\u001b[0m \u001b[0mlevel\u001b[0m\u001b[0;34m=\u001b[0m\u001b[0mlevel\u001b[0m\u001b[0;34m,\u001b[0m \u001b[0merrors\u001b[0m\u001b[0;34m=\u001b[0m\u001b[0merrors\u001b[0m\u001b[0;34m)\u001b[0m\u001b[0;34m\u001b[0m\u001b[0;34m\u001b[0m\u001b[0m\n\u001b[1;32m   3945\u001b[0m             \u001b[0;32melse\u001b[0m\u001b[0;34m:\u001b[0m\u001b[0;34m\u001b[0m\u001b[0;34m\u001b[0m\u001b[0m\n\u001b[0;32m-> 3946\u001b[0;31m                 \u001b[0mnew_axis\u001b[0m \u001b[0;34m=\u001b[0m \u001b[0maxis\u001b[0m\u001b[0;34m.\u001b[0m\u001b[0mdrop\u001b[0m\u001b[0;34m(\u001b[0m\u001b[0mlabels\u001b[0m\u001b[0;34m,\u001b[0m \u001b[0merrors\u001b[0m\u001b[0;34m=\u001b[0m\u001b[0merrors\u001b[0m\u001b[0;34m)\u001b[0m\u001b[0;34m\u001b[0m\u001b[0;34m\u001b[0m\u001b[0m\n\u001b[0m\u001b[1;32m   3947\u001b[0m             \u001b[0mresult\u001b[0m \u001b[0;34m=\u001b[0m \u001b[0mself\u001b[0m\u001b[0;34m.\u001b[0m\u001b[0mreindex\u001b[0m\u001b[0;34m(\u001b[0m\u001b[0;34m**\u001b[0m\u001b[0;34m{\u001b[0m\u001b[0maxis_name\u001b[0m\u001b[0;34m:\u001b[0m \u001b[0mnew_axis\u001b[0m\u001b[0;34m}\u001b[0m\u001b[0;34m)\u001b[0m\u001b[0;34m\u001b[0m\u001b[0;34m\u001b[0m\u001b[0m\n\u001b[1;32m   3948\u001b[0m \u001b[0;34m\u001b[0m\u001b[0m\n",
      "\u001b[0;32m/anaconda/envs/azureml_py36/lib/python3.6/site-packages/pandas/core/indexes/base.py\u001b[0m in \u001b[0;36mdrop\u001b[0;34m(self, labels, errors)\u001b[0m\n\u001b[1;32m   5338\u001b[0m         \u001b[0;32mif\u001b[0m \u001b[0mmask\u001b[0m\u001b[0;34m.\u001b[0m\u001b[0many\u001b[0m\u001b[0;34m(\u001b[0m\u001b[0;34m)\u001b[0m\u001b[0;34m:\u001b[0m\u001b[0;34m\u001b[0m\u001b[0;34m\u001b[0m\u001b[0m\n\u001b[1;32m   5339\u001b[0m             \u001b[0;32mif\u001b[0m \u001b[0merrors\u001b[0m \u001b[0;34m!=\u001b[0m \u001b[0;34m\"ignore\"\u001b[0m\u001b[0;34m:\u001b[0m\u001b[0;34m\u001b[0m\u001b[0;34m\u001b[0m\u001b[0m\n\u001b[0;32m-> 5340\u001b[0;31m                 \u001b[0;32mraise\u001b[0m \u001b[0mKeyError\u001b[0m\u001b[0;34m(\u001b[0m\u001b[0;34m\"{} not found in axis\"\u001b[0m\u001b[0;34m.\u001b[0m\u001b[0mformat\u001b[0m\u001b[0;34m(\u001b[0m\u001b[0mlabels\u001b[0m\u001b[0;34m[\u001b[0m\u001b[0mmask\u001b[0m\u001b[0;34m]\u001b[0m\u001b[0;34m)\u001b[0m\u001b[0;34m)\u001b[0m\u001b[0;34m\u001b[0m\u001b[0;34m\u001b[0m\u001b[0m\n\u001b[0m\u001b[1;32m   5341\u001b[0m             \u001b[0mindexer\u001b[0m \u001b[0;34m=\u001b[0m \u001b[0mindexer\u001b[0m\u001b[0;34m[\u001b[0m\u001b[0;34m~\u001b[0m\u001b[0mmask\u001b[0m\u001b[0;34m]\u001b[0m\u001b[0;34m\u001b[0m\u001b[0;34m\u001b[0m\u001b[0m\n\u001b[1;32m   5342\u001b[0m         \u001b[0;32mreturn\u001b[0m \u001b[0mself\u001b[0m\u001b[0;34m.\u001b[0m\u001b[0mdelete\u001b[0m\u001b[0;34m(\u001b[0m\u001b[0mindexer\u001b[0m\u001b[0;34m)\u001b[0m\u001b[0;34m\u001b[0m\u001b[0;34m\u001b[0m\u001b[0m\n",
      "\u001b[0;31mKeyError\u001b[0m: \"['Attrition_Flag'] not found in axis\""
     ]
    }
   ],
   "source": [
    "import json\n",
    "\n",
    "#Importing the data set for testing \n",
    "test_cc = cc_final.to_pandas_dataframe().head() \n",
    "print(test_cc)\n",
    "cc_lbl = test_cc.pop('Attrition_Flag')\n",
    "\n",
    "test_data_cc = json.dumps({'data': test_cc.to_dict(orient='records')})\n",
    "\n",
    "print(test_data_cc)"
   ]
  },
  {
   "cell_type": "code",
   "execution_count": 22,
   "metadata": {
    "collapsed": true,
    "gather": {
     "logged": 1614466406917
    },
    "jupyter": {
     "outputs_hidden": false,
     "source_hidden": false
    },
    "nteract": {
     "transient": {
      "deleting": false
     }
    }
   },
   "outputs": [
    {
     "name": "stdout",
     "output_type": "stream",
     "text": [
      "{\"data\": [{\"Customer_Age\": 45, \"Gender\": \"M\", \"Dependent_count\": 3, \"Education_Level\": \"High School\", \"Marital_Status\": \"Married\", \"Income_Category\": \"$60K - $80K\", \"Card_Category\": \"Blue\", \"Months_on_book\": 39, \"Total_Relationship_Count\": 5, \"Months_Inactive_12_mon\": 1, \"Contacts_Count_12_mon\": 3, \"Credit_Limit\": 12691.0, \"Total_Revolving_Bal\": 777, \"Avg_Open_To_Buy\": 11914.0, \"Total_Amt_Chng_Q4_Q1\": 1.335, \"Total_Trans_Amt\": 1144, \"Total_Trans_Ct\": 42, \"Total_Ct_Chng_Q4_Q1\": 1.625, \"Avg_Utilization_Ratio\": 0.061}, {\"Customer_Age\": 49, \"Gender\": \"F\", \"Dependent_count\": 5, \"Education_Level\": \"Graduate\", \"Marital_Status\": \"Single\", \"Income_Category\": \"Less than $40K\", \"Card_Category\": \"Blue\", \"Months_on_book\": 44, \"Total_Relationship_Count\": 6, \"Months_Inactive_12_mon\": 1, \"Contacts_Count_12_mon\": 2, \"Credit_Limit\": 8256.0, \"Total_Revolving_Bal\": 864, \"Avg_Open_To_Buy\": 7392.0, \"Total_Amt_Chng_Q4_Q1\": 1.541, \"Total_Trans_Amt\": 1291, \"Total_Trans_Ct\": 33, \"Total_Ct_Chng_Q4_Q1\": 3.714, \"Avg_Utilization_Ratio\": 0.105}, {\"Customer_Age\": 51, \"Gender\": \"M\", \"Dependent_count\": 3, \"Education_Level\": \"Graduate\", \"Marital_Status\": \"Married\", \"Income_Category\": \"$80K - $120K\", \"Card_Category\": \"Blue\", \"Months_on_book\": 36, \"Total_Relationship_Count\": 4, \"Months_Inactive_12_mon\": 1, \"Contacts_Count_12_mon\": 0, \"Credit_Limit\": 3418.0, \"Total_Revolving_Bal\": 0, \"Avg_Open_To_Buy\": 3418.0, \"Total_Amt_Chng_Q4_Q1\": 2.594, \"Total_Trans_Amt\": 1887, \"Total_Trans_Ct\": 20, \"Total_Ct_Chng_Q4_Q1\": 2.333, \"Avg_Utilization_Ratio\": 0.0}, {\"Customer_Age\": 40, \"Gender\": \"F\", \"Dependent_count\": 4, \"Education_Level\": \"High School\", \"Marital_Status\": \"Unknown\", \"Income_Category\": \"Less than $40K\", \"Card_Category\": \"Blue\", \"Months_on_book\": 34, \"Total_Relationship_Count\": 3, \"Months_Inactive_12_mon\": 4, \"Contacts_Count_12_mon\": 1, \"Credit_Limit\": 3313.0, \"Total_Revolving_Bal\": 2517, \"Avg_Open_To_Buy\": 796.0, \"Total_Amt_Chng_Q4_Q1\": 1.405, \"Total_Trans_Amt\": 1171, \"Total_Trans_Ct\": 20, \"Total_Ct_Chng_Q4_Q1\": 2.333, \"Avg_Utilization_Ratio\": 0.76}, {\"Customer_Age\": 40, \"Gender\": \"M\", \"Dependent_count\": 3, \"Education_Level\": \"Uneducated\", \"Marital_Status\": \"Married\", \"Income_Category\": \"$60K - $80K\", \"Card_Category\": \"Blue\", \"Months_on_book\": 21, \"Total_Relationship_Count\": 5, \"Months_Inactive_12_mon\": 1, \"Contacts_Count_12_mon\": 0, \"Credit_Limit\": 4716.0, \"Total_Revolving_Bal\": 0, \"Avg_Open_To_Buy\": 4716.0, \"Total_Amt_Chng_Q4_Q1\": 2.175, \"Total_Trans_Amt\": 816, \"Total_Trans_Ct\": 28, \"Total_Ct_Chng_Q4_Q1\": 2.5, \"Avg_Utilization_Ratio\": 0.0}]}\n"
     ]
    }
   ],
   "source": [
    "print(test_data_cc)"
   ]
  },
  {
   "cell_type": "code",
   "execution_count": 23,
   "metadata": {
    "collapsed": true,
    "gather": {
     "logged": 1614466449976
    },
    "jupyter": {
     "outputs_hidden": false,
     "source_hidden": false
    },
    "nteract": {
     "transient": {
      "deleting": false
     }
    }
   },
   "outputs": [
    {
     "name": "stdout",
     "output_type": "stream",
     "text": [
      "\"{\\\"result\\\": [\\\"Existing Customer\\\", \\\"Existing Customer\\\", \\\"Existing Customer\\\", \\\"Existing Customer\\\", \\\"Existing Customer\\\"]}\"\n"
     ]
    }
   ],
   "source": [
    "import requests\n",
    "\n",
    "headers = {'Content-type': 'application/json'}\n",
    "\n",
    "response = requests.post(webservice.scoring_uri, test_data_cc, headers=headers)\n",
    "\n",
    "print(response.text)"
   ]
  },
  {
   "cell_type": "code",
   "execution_count": 26,
   "metadata": {
    "collapsed": true,
    "gather": {
     "logged": 1614466509327
    },
    "jupyter": {
     "outputs_hidden": false,
     "source_hidden": false
    },
    "nteract": {
     "transient": {
      "deleting": false
     }
    }
   },
   "outputs": [
    {
     "name": "stdout",
     "output_type": "stream",
     "text": [
      "0    Existing Customer\n",
      "1    Existing Customer\n",
      "2    Existing Customer\n",
      "3    Existing Customer\n",
      "4    Existing Customer\n",
      "Name: Attrition_Flag, dtype: object\n"
     ]
    }
   ],
   "source": [
    "#check previous label\n",
    "print(cc_lbl)"
   ]
  },
  {
   "cell_type": "markdown",
   "metadata": {
    "collapsed": true,
    "gather": {
     "logged": 1598432765711
    },
    "jupyter": {
     "outputs_hidden": false,
     "source_hidden": false
    },
    "nteract": {
     "transient": {
      "deleting": false
     }
    }
   },
   "source": [
    "TODO: In the cell below, print the logs of the web service and delete the service"
   ]
  },
  {
   "cell_type": "code",
   "execution_count": 27,
   "metadata": {
    "gather": {
     "logged": 1614466533564
    },
    "jupyter": {
     "outputs_hidden": false,
     "source_hidden": false
    },
    "nteract": {
     "transient": {
      "deleting": false
     }
    }
   },
   "outputs": [
    {
     "name": "stdout",
     "output_type": "stream",
     "text": [
      "2021-02-27T22:37:42,285329100+00:00 - gunicorn/run \n",
      "2021-02-27T22:37:42,305648600+00:00 - rsyslog/run \n",
      "2021-02-27T22:37:42,307382300+00:00 - iot-server/run \n",
      "2021-02-27T22:37:42,306466500+00:00 - nginx/run \n",
      "/usr/sbin/nginx: /azureml-envs/azureml_6f3791fe7434448b4ebe2b0fd691d644/lib/libcrypto.so.1.0.0: no version information available (required by /usr/sbin/nginx)\n",
      "/usr/sbin/nginx: /azureml-envs/azureml_6f3791fe7434448b4ebe2b0fd691d644/lib/libcrypto.so.1.0.0: no version information available (required by /usr/sbin/nginx)\n",
      "/usr/sbin/nginx: /azureml-envs/azureml_6f3791fe7434448b4ebe2b0fd691d644/lib/libssl.so.1.0.0: no version information available (required by /usr/sbin/nginx)\n",
      "/usr/sbin/nginx: /azureml-envs/azureml_6f3791fe7434448b4ebe2b0fd691d644/lib/libssl.so.1.0.0: no version information available (required by /usr/sbin/nginx)\n",
      "/usr/sbin/nginx: /azureml-envs/azureml_6f3791fe7434448b4ebe2b0fd691d644/lib/libssl.so.1.0.0: no version information available (required by /usr/sbin/nginx)\n",
      "rsyslogd: /azureml-envs/azureml_6f3791fe7434448b4ebe2b0fd691d644/lib/libuuid.so.1: no version information available (required by rsyslogd)\n",
      "EdgeHubConnectionString and IOTEDGE_IOTHUBHOSTNAME are not set. Exiting...\n",
      "2021-02-27T22:37:44,190144000+00:00 - iot-server/finish 1 0\n",
      "2021-02-27T22:37:44,193346800+00:00 - Exit code 1 is normal. Not restarting iot-server.\n",
      "Starting gunicorn 19.9.0\n",
      "Listening at: http://127.0.0.1:31311 (63)\n",
      "Using worker: sync\n",
      "worker timeout is set to 300\n",
      "Booting worker with pid: 97\n",
      "SPARK_HOME not set. Skipping PySpark Initialization.\n",
      "Generating new fontManager, this may take some time...\n",
      "Initializing logger\n",
      "2021-02-27 22:37:49,712 | root | INFO | Starting up app insights client\n",
      "2021-02-27 22:37:49,712 | root | INFO | Starting up request id generator\n",
      "2021-02-27 22:37:49,713 | root | INFO | Starting up app insight hooks\n",
      "2021-02-27 22:37:49,713 | root | INFO | Invoking user's init function\n",
      "2021-02-27 22:38:01,363 | root | INFO | Users's init has completed successfully\n",
      "2021-02-27 22:38:01,374 | root | INFO | Skipping middleware: dbg_model_info as it's not enabled.\n",
      "2021-02-27 22:38:01,414 | root | INFO | Skipping middleware: dbg_resource_usage as it's not enabled.\n",
      "2021-02-27 22:38:01,416 | root | INFO | Scoring timeout is found from os.environ: 60000 ms\n",
      "2021-02-27 22:38:01,472 | root | INFO | 200\n",
      "127.0.0.1 - - [27/Feb/2021:22:38:01 +0000] \"GET /swagger.json HTTP/1.0\" 200 3507 \"-\" \"Go-http-client/1.1\"\n",
      "2021-02-27 22:38:03,230 | root | INFO | 200\n",
      "127.0.0.1 - - [27/Feb/2021:22:38:03 +0000] \"GET /swagger.json HTTP/1.0\" 200 3507 \"-\" \"Go-http-client/1.1\"\n",
      "2021-02-27 22:54:09,753 | root | INFO | Validation Request Content-Type\n",
      "2021-02-27 22:54:09,755 | root | INFO | Scoring Timer is set to 60.0 seconds\n",
      "2021-02-27 22:54:09,935 | root | INFO | 200\n",
      "127.0.0.1 - - [27/Feb/2021:22:54:09 +0000] \"POST /score HTTP/1.0\" 200 131 \"-\" \"python-requests/2.25.1\"\n",
      "\n"
     ]
    }
   ],
   "source": [
    "print(webservice.get_logs())\n"
   ]
  },
  {
   "cell_type": "code",
   "execution_count": 32,
   "metadata": {
    "collapsed": true,
    "gather": {
     "logged": 1614472846671
    },
    "jupyter": {
     "outputs_hidden": false,
     "source_hidden": false
    },
    "nteract": {
     "transient": {
      "deleting": false
     }
    }
   },
   "outputs": [],
   "source": [
    "#delete resources\n",
    "webservice.delete()\n",
    "cluster.delete()\n"
   ]
  },
  {
   "cell_type": "code",
   "execution_count": null,
   "metadata": {
    "collapsed": true,
    "jupyter": {
     "outputs_hidden": false,
     "source_hidden": false
    },
    "nteract": {
     "transient": {
      "deleting": false
     }
    }
   },
   "outputs": [],
   "source": []
  }
 ],
 "metadata": {
  "kernel_info": {
   "name": "python3"
  },
  "kernelspec": {
   "display_name": "Python 3",
   "language": "python",
   "name": "python3"
  },
  "language_info": {
   "codemirror_mode": {
    "name": "ipython",
    "version": 3
   },
   "file_extension": ".py",
   "mimetype": "text/x-python",
   "name": "python",
   "nbconvert_exporter": "python",
   "pygments_lexer": "ipython3",
   "version": "3.6.9"
  },
  "microsoft": {
   "host": {
    "AzureML": {
     "notebookHasBeenCompleted": true
    }
   }
  },
  "nteract": {
   "version": "nteract-front-end@1.0.0"
  }
 },
 "nbformat": 4,
 "nbformat_minor": 2
}
